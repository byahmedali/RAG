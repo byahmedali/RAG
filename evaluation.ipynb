{
 "cells": [
  {
   "cell_type": "markdown",
   "metadata": {},
   "source": [
    "## Evaluate a RAG application\n",
    "\n",
    "This example uses [LangChain](https://www.langchain.com) and [Giskard](https://github.com/Giskard-AI/giskard) to evaluate the quality of a RAG application.\n",
    "\n",
    "Reference video: [YouTube](https://youtu.be/ZPX3W77h_1E?si=58AdU770UWDJdYo3)"
   ]
  },
  {
   "cell_type": "code",
   "execution_count": 1,
   "metadata": {},
   "outputs": [],
   "source": [
    "import os\n",
    "import requests\n",
    "from typing import Optional\n",
    "import litellm\n",
    "import giskard\n",
    "from dotenv import load_dotenv\n",
    "import getpass\n",
    "from IPython.display import Markdown"
   ]
  },
  {
   "cell_type": "markdown",
   "metadata": {},
   "source": [
    "## Setup the GROQ LLM"
   ]
  },
  {
   "cell_type": "code",
   "execution_count": 2,
   "metadata": {},
   "outputs": [],
   "source": [
    "# GROQ API KEY\n",
    "load_dotenv()\n",
    "\n",
    "api_key = os.getenv(\"GROQ_API_KEY\")\n",
    "\n",
    "if not os.getenv(\"GROQ_API_KEY\"):\n",
    "  os.environ[\"GROQ_API_KEY\"] = getpass.getpass(\"Enter API key for Groq: \")"
   ]
  },
  {
   "cell_type": "code",
   "execution_count": 3,
   "metadata": {},
   "outputs": [],
   "source": [
    "giskard.llm.set_llm_model(\"groq/meta-llama/llama-4-scout-17b-16e-instruct\")"
   ]
  },
  {
   "cell_type": "markdown",
   "metadata": {},
   "source": [
    "## Setup the Ollama Embedding Model"
   ]
  },
  {
   "cell_type": "code",
   "execution_count": 5,
   "metadata": {},
   "outputs": [],
   "source": [
    "giskard.llm.set_embedding_model(\"ollama/nomic-embed-text\", api_base = \"http://localhost:11434\")"
   ]
  },
  {
   "cell_type": "markdown",
   "metadata": {},
   "source": [
    "## Load the Chroma Vector Store"
   ]
  },
  {
   "cell_type": "code",
   "execution_count": null,
   "metadata": {},
   "outputs": [],
   "source": [
    "from langchain_ollama import OllamaEmbeddings\n",
    "from langchain_chroma import Chroma\n",
    "\n",
    "embeddings = OllamaEmbeddings(model=\"nomic-embed-text\")\n",
    "\n",
    "db = Chroma(persist_directory=\"./chroma_db\", embedding_function=embeddings)"
   ]
  },
  {
   "cell_type": "markdown",
   "metadata": {},
   "source": [
    "Let's start by loading the content in a pandas DataFrame."
   ]
  },
  {
   "cell_type": "code",
   "execution_count": 7,
   "metadata": {},
   "outputs": [
    {
     "data": {
      "application/vnd.microsoft.datawrangler.viewer.v0+json": {
       "columns": [
        {
         "name": "index",
         "rawType": "int64",
         "type": "integer"
        },
        {
         "name": "chunks",
         "rawType": "object",
         "type": "string"
        }
       ],
       "ref": "0c5e0d5b-4d8f-4fdc-a7a9-14b8c1e8f9d7",
       "rows": [
        [
         "0",
         "i\n \n \n \n \n \n \n \n \n \n \n \n \n \n \n \n \n \n \n \n \n \n \n \n \n                        Draft\nNational\n \nArtificial Intelligence Policy\n \n \n \n \n \n \n \n \n \n \n \n \n \n \n \n \n \n \n \n \n \n \n \n \nGovernment of Pakistan\nMinistry of Information Technology & Telecommunication\nhttps://moitt.gov.pk"
        ],
        [
         "1",
         "ii \n \nAcknowledgments \nThe Government of Pakistan, Ministry of IT & Telecom , pays its gratitude to all the officials  and consultants, \nparticularly RSM Pakistan and GlowBug Technologies (Pvt.) Ltd. , facilitators, developers, and stakeholders who \nrigorously and relentlessly participated in the revi ew, drafting, harmonizing, and ratification of the National \nArtificial Intelligence Policy – 2022, helping the Ministry with an all -inclusive user -centric, evidence -based, \nforward-looking, and agile policy framework for enabling Pakistan towards a digital economy and society."
        ],
        [
         "2",
         "iii \n \nTable of Contents \n1 Executive Summary ................................................................................................................................ 6 \n2 Introduction and Context ....................................................................................................................... 7 \n2.1 Why Pakistan Needs AI Policy ........................................................................................................7 \n2.2 The State of AI in Pakistan..............................................................................................................7 \n3 Vision, Scope & Objectives ..................................................................................................................... 8 \n3.1 Vision ..............................................................................................................................................8"
        ],
        [
         "3",
         "3.1 Vision ..............................................................................................................................................8 \n3.2 Scope ..............................................................................................................................................8 \n3.3 Objectives .......................................................................................................................................8 \n3.4 Policy Drivers and Targets ..............................................................................................................8 \n3.4.1 The Drivers ..................................................................................................................... 8 \n3.4.2 The National AI Targets ................................................................................................. 9"
        ],
        [
         "4",
         "3.4.2 The National AI Targets ................................................................................................. 9 \n4 Policy Directives ..................................................................................................................................... 1 \n4.1 1st Pillar: AI Market Enablement ....................................................................................................1 \n4.1.1 National Artificial Intelligence Fund (NAIF) ................................................................... 1 \n4.1.2 Center of Excellence in AI & Allied Technologies (CoE-AI) ............................................ 2 \n4.1.3 Catalyzing Social Development through AI by National Initiatives ............................... 3 \n4.1.4 Data and Computational Infrastructure ........................................................................ 7"
        ]
       ],
       "shape": {
        "columns": 1,
        "rows": 5
       }
      },
      "text/html": [
       "<div>\n",
       "<style scoped>\n",
       "    .dataframe tbody tr th:only-of-type {\n",
       "        vertical-align: middle;\n",
       "    }\n",
       "\n",
       "    .dataframe tbody tr th {\n",
       "        vertical-align: top;\n",
       "    }\n",
       "\n",
       "    .dataframe thead th {\n",
       "        text-align: right;\n",
       "    }\n",
       "</style>\n",
       "<table border=\"1\" class=\"dataframe\">\n",
       "  <thead>\n",
       "    <tr style=\"text-align: right;\">\n",
       "      <th></th>\n",
       "      <th>chunks</th>\n",
       "    </tr>\n",
       "  </thead>\n",
       "  <tbody>\n",
       "    <tr>\n",
       "      <th>0</th>\n",
       "      <td>i\\n \\n \\n \\n \\n \\n \\n \\n \\n \\n \\n \\n \\n \\n \\n ...</td>\n",
       "    </tr>\n",
       "    <tr>\n",
       "      <th>1</th>\n",
       "      <td>ii \\n \\nAcknowledgments \\nThe Government of Pa...</td>\n",
       "    </tr>\n",
       "    <tr>\n",
       "      <th>2</th>\n",
       "      <td>iii \\n \\nTable of Contents \\n1 Executive Summa...</td>\n",
       "    </tr>\n",
       "    <tr>\n",
       "      <th>3</th>\n",
       "      <td>3.1 Vision ......................................</td>\n",
       "    </tr>\n",
       "    <tr>\n",
       "      <th>4</th>\n",
       "      <td>3.4.2 The National AI Targets ...................</td>\n",
       "    </tr>\n",
       "  </tbody>\n",
       "</table>\n",
       "</div>"
      ],
      "text/plain": [
       "                                              chunks\n",
       "0  i\\n \\n \\n \\n \\n \\n \\n \\n \\n \\n \\n \\n \\n \\n \\n ...\n",
       "1  ii \\n \\nAcknowledgments \\nThe Government of Pa...\n",
       "2  iii \\n \\nTable of Contents \\n1 Executive Summa...\n",
       "3  3.1 Vision ......................................\n",
       "4  3.4.2 The National AI Targets ..................."
      ]
     },
     "execution_count": 7,
     "metadata": {},
     "output_type": "execute_result"
    }
   ],
   "source": [
    "import pandas as pd\n",
    "data = db.get()\n",
    "documents = data.get('documents', [])\n",
    "df = pd.DataFrame({'chunks': documents})\n",
    "df.head()"
   ]
  },
  {
   "cell_type": "markdown",
   "metadata": {},
   "source": [
    "We can now create a Knowledge Base using the DataFrame we created before."
   ]
  },
  {
   "cell_type": "code",
   "execution_count": 8,
   "metadata": {},
   "outputs": [],
   "source": [
    "from giskard.rag import KnowledgeBase\n",
    "\n",
    "knowledge_base = KnowledgeBase(df)"
   ]
  },
  {
   "cell_type": "code",
   "execution_count": 10,
   "metadata": {},
   "outputs": [],
   "source": [
    "import nest_asyncio\n",
    "nest_asyncio.apply()"
   ]
  },
  {
   "cell_type": "markdown",
   "metadata": {},
   "source": [
    "## Generate the Test Set"
   ]
  },
  {
   "cell_type": "code",
   "execution_count": 12,
   "metadata": {},
   "outputs": [
    {
     "name": "stdout",
     "output_type": "stream",
     "text": [
      "2025-08-20 17:50:06,232 pid:11484 MainThread giskard.rag  INFO     Finding topics in the knowledge base.\n",
      "2025-08-20 17:51:33,546 pid:11484 MainThread giskard.rag  INFO     Found 3 topics in the knowledge base.\n"
     ]
    },
    {
     "data": {
      "application/vnd.jupyter.widget-view+json": {
       "model_id": "e197e0b5332a43509200782b353c40e0",
       "version_major": 2,
       "version_minor": 0
      },
      "text/plain": [
       "Generating questions:   0%|          | 0/10 [00:00<?, ?it/s]"
      ]
     },
     "metadata": {},
     "output_type": "display_data"
    }
   ],
   "source": [
    "from giskard.rag import generate_testset\n",
    "from giskard.rag.question_generators import simple_questions\n",
    "from giskard.rag import QATestset\n",
    "\n",
    "if os.path.exists(\"testset10.jsonl\"):\n",
    "    testset = QATestset.load(\"testset10.jsonl\")\n",
    "else:\n",
    "    testset = generate_testset(\n",
    "        knowledge_base,\n",
    "        num_questions = 10,\n",
    "        question_generators = [simple_questions],\n",
    "        agent_description = \"A chat assistant for the Government of Pakistan’s Ministry of Information Technology & Telecommunication (MoITT), specializing in the National Artificial Intelligence Policy.\"\n",
    "    )\n",
    "    testset.save(\"testset10.jsonl\")"
   ]
  },
  {
   "cell_type": "markdown",
   "metadata": {},
   "source": [
    "Let's display a few samples from the test set."
   ]
  },
  {
   "cell_type": "code",
   "execution_count": 12,
   "metadata": {},
   "outputs": [
    {
     "data": {
      "application/vnd.microsoft.datawrangler.viewer.v0+json": {
       "columns": [
        {
         "name": "id",
         "rawType": "object",
         "type": "string"
        },
        {
         "name": "question",
         "rawType": "object",
         "type": "string"
        },
        {
         "name": "reference_answer",
         "rawType": "object",
         "type": "string"
        },
        {
         "name": "reference_context",
         "rawType": "object",
         "type": "string"
        },
        {
         "name": "conversation_history",
         "rawType": "object",
         "type": "unknown"
        },
        {
         "name": "metadata",
         "rawType": "object",
         "type": "unknown"
        }
       ],
       "ref": "1dabf820-4ddd-4450-a44d-71a5f2aa1ae6",
       "rows": [
        [
         "11fde9b4-0b13-4d48-8665-113a34f7ebaa",
         "What are the sectors that participated in the survey according to Table 1?",
         "Agriculture Industry, Healthcare Industry, Manufacturing Industry, Retail & Commerce, IT Industry, Financial Services, Academia, Government Sector",
         "Document 134: 21 \n \n \n0 5 10 15 20 25\nAgriculture Industry\nHealthcare Industry\nManufacturing Industry\nRetail & Commerce\nIT Industry\nFinancial Services\nAcademia\nGovernment Sector\nTable 1: Stakeholder organizations contribution in the survey",
         "[]",
         "{'question_type': 'simple', 'seed_document_id': 134, 'topic': 'AI Governance in Pakistan'}"
        ],
        [
         "d8ba0147-d2e3-4581-aeb7-427ad95c0dc2",
         "What are the priority social sectors for data standardization under the Common Operating Environment (COE)?",
         "Healthcare, Legal, Public Facilitation Services, Education, Food Security, and essential Utilities (electricity, gas, drinking water, water, sewage, and cleaning services)",
         "Document 58: I. The CoE-AI shall organize a common and sectoral data collection and processing mechanism for \nunstructured, semi-structured, and structured datasets for the data available in the public sector \nand accessible through market regulators for the private sector. \nII. CoE-AI shall undertake the data standardization in t he identified priority social sectors under a \nCommon Operating Environment (COE) such as Healthcare, Legal, Public Facilitation Services, \nEducation, Food Security, and essential Utilities (electricity, gas, drinking water, water, sewage, \nand cleaning services). \nIII. These standards shall be implemented via National/Provincial IT Boards across the country by \nstandardizing data collection and processing under different Management Information Systems \noperating in various departments/institutions. Furthermore, the a vailable data should be \navailable to these National/Provincial IT Boards to develop a standard data exchange system.",
         "[]",
         "{'question_type': 'simple', 'seed_document_id': 58, 'topic': 'AI Governance in Pakistan'}"
        ],
        [
         "81922b3d-0ba2-47e9-b53f-5aee1299165b",
         "What is one of the goals of the CoE-AI in developing a smart citizen portal?",
         "to streamline the delivery of municipal services that shall provide better customer service quality",
         "Document 70: 6 \n \nIII. The program shall employ IoTs and sensor technology for soil monitoring systems. \n4.1.3.6 E-Khidmat Centers 2.0  \nPublic services are high -volume and resource -intensive, including varied domains such as healthcare, \neducation, sanitation, energy, security, and other government services. Delayed or substand ard services \nprovided to the public are common complaints shared by the public over time . S uch delays are \ncounterproductive to the smooth running of daily life in cities. The following points discuss the prospects \nof AI applications: \nI. CoE-AI shall undertake  the development of a smart citizen portal to streamline the delivery of \nmunicipal services that shall provide better customer service quality. \nII. Smart reporting of routine issues the citizens face a ssists government departments in becoming \nmore efficient. \nIII. Centralized service delivery shall automate the regular paperwork and  reduce the employee",
         "[]",
         "{'question_type': 'simple', 'seed_document_id': 70, 'topic': 'AI Governance in Pakistan'}"
        ],
        [
         "3db6e3ad-c384-48e3-8141-ca345b563dcb",
         "What are some examples of chronic diseases that CoE-AI aims to help control?",
         "diabetes, hypertension, and high blood cholesterol",
         "Document 62: failure. Many Pakistanis have chronic diseases such as diabetes, hypertension, and high blood cholesterol. \nThey may be unaware of these conditions as the symptoms may not be noticeable early on. However, these \ndiseases can lead to severe complications such as heart attack, stroke, kidney failure, and even death if not \nwell controlled. Similarly, one of the biggest challenges in AI proliferation in the healthcare secto r is the \ndigitization of a massive volume of data available in hospitals and health institutes in hardcopies. However, \neven if the data is digitized in some institutes and hospitals, it is not standardized, and that hinders the \naccessibility of data and eventual processing.  \nI. CoE-AI shall support the Ministry of National Health Services Regulation and Coordination in better \ncontrolling chronic diseases such as diabetes, hypertension, and high blood cholesterol. CoE-AI",
         "[]",
         "{'question_type': 'simple', 'seed_document_id': 62, 'topic': 'AI Governance in Pakistan'}"
        ],
        [
         "e8acc023-18b1-4753-b06f-69f0bb983344",
         "What is the vision of the Government of Pakistan regarding AI?",
         "To Embrace AI by appreciating Human Intelligence and stimulating a Hybrid Intelligence ecosystem for equitable, responsible, and transparent use of AI.",
         "Document 22: 8 \n \n3 Vision, Scope & Objectives \n3.1 Vision \nOwing to the impact of AI globally and its local adoption and implications, the Government of Pakistan \nenvisions: \n“To Embrace AI by appreciating Human Intelligence and stimulating a Hybrid Intelligence \necosystem for equitable, responsible, and transparent use of AI.” \n3.2 Scope \nThe policy framework is envisaged to provide a complete AI-enabling ecosystem in Pakistan, covering all \naspects of awareness, skill development, standardization, and ethical use. \n3.3 Objectives \nHere the strategic objectives are distributed into two societal agendas of development and responsibility \nto efficiently evolve the society in the age of the fourth industrial revolution: \nDevelopmental Agenda \n(Embracing AI) \nResponsibility Agenda \n(Appreciating Human Intelligence) \nTraining and upskilling human capital in AI at all \nlevels to address  the needs and demands of the \nmarket efficiently. \nIntegrating AI in to the National Curriculums at all",
         "[]",
         "{'question_type': 'simple', 'seed_document_id': 22, 'topic': 'AI Governance in Pakistan'}"
        ]
       ],
       "shape": {
        "columns": 5,
        "rows": 5
       }
      },
      "text/html": [
       "<div>\n",
       "<style scoped>\n",
       "    .dataframe tbody tr th:only-of-type {\n",
       "        vertical-align: middle;\n",
       "    }\n",
       "\n",
       "    .dataframe tbody tr th {\n",
       "        vertical-align: top;\n",
       "    }\n",
       "\n",
       "    .dataframe thead th {\n",
       "        text-align: right;\n",
       "    }\n",
       "</style>\n",
       "<table border=\"1\" class=\"dataframe\">\n",
       "  <thead>\n",
       "    <tr style=\"text-align: right;\">\n",
       "      <th></th>\n",
       "      <th>question</th>\n",
       "      <th>reference_answer</th>\n",
       "      <th>reference_context</th>\n",
       "      <th>conversation_history</th>\n",
       "      <th>metadata</th>\n",
       "    </tr>\n",
       "    <tr>\n",
       "      <th>id</th>\n",
       "      <th></th>\n",
       "      <th></th>\n",
       "      <th></th>\n",
       "      <th></th>\n",
       "      <th></th>\n",
       "    </tr>\n",
       "  </thead>\n",
       "  <tbody>\n",
       "    <tr>\n",
       "      <th>11fde9b4-0b13-4d48-8665-113a34f7ebaa</th>\n",
       "      <td>What are the sectors that participated in the ...</td>\n",
       "      <td>Agriculture Industry, Healthcare Industry, Man...</td>\n",
       "      <td>Document 134: 21 \\n \\n \\n0 5 10 15 20 25\\nAgri...</td>\n",
       "      <td>[]</td>\n",
       "      <td>{'question_type': 'simple', 'seed_document_id'...</td>\n",
       "    </tr>\n",
       "    <tr>\n",
       "      <th>d8ba0147-d2e3-4581-aeb7-427ad95c0dc2</th>\n",
       "      <td>What are the priority social sectors for data ...</td>\n",
       "      <td>Healthcare, Legal, Public Facilitation Service...</td>\n",
       "      <td>Document 58: I. The CoE-AI shall organize a co...</td>\n",
       "      <td>[]</td>\n",
       "      <td>{'question_type': 'simple', 'seed_document_id'...</td>\n",
       "    </tr>\n",
       "    <tr>\n",
       "      <th>81922b3d-0ba2-47e9-b53f-5aee1299165b</th>\n",
       "      <td>What is one of the goals of the CoE-AI in deve...</td>\n",
       "      <td>to streamline the delivery of municipal servic...</td>\n",
       "      <td>Document 70: 6 \\n \\nIII. The program shall emp...</td>\n",
       "      <td>[]</td>\n",
       "      <td>{'question_type': 'simple', 'seed_document_id'...</td>\n",
       "    </tr>\n",
       "    <tr>\n",
       "      <th>3db6e3ad-c384-48e3-8141-ca345b563dcb</th>\n",
       "      <td>What are some examples of chronic diseases tha...</td>\n",
       "      <td>diabetes, hypertension, and high blood cholest...</td>\n",
       "      <td>Document 62: failure. Many Pakistanis have chr...</td>\n",
       "      <td>[]</td>\n",
       "      <td>{'question_type': 'simple', 'seed_document_id'...</td>\n",
       "    </tr>\n",
       "    <tr>\n",
       "      <th>e8acc023-18b1-4753-b06f-69f0bb983344</th>\n",
       "      <td>What is the vision of the Government of Pakist...</td>\n",
       "      <td>To Embrace AI by appreciating Human Intelligen...</td>\n",
       "      <td>Document 22: 8 \\n \\n3 Vision, Scope &amp; Objectiv...</td>\n",
       "      <td>[]</td>\n",
       "      <td>{'question_type': 'simple', 'seed_document_id'...</td>\n",
       "    </tr>\n",
       "  </tbody>\n",
       "</table>\n",
       "</div>"
      ],
      "text/plain": [
       "                                                                               question  \\\n",
       "id                                                                                        \n",
       "11fde9b4-0b13-4d48-8665-113a34f7ebaa  What are the sectors that participated in the ...   \n",
       "d8ba0147-d2e3-4581-aeb7-427ad95c0dc2  What are the priority social sectors for data ...   \n",
       "81922b3d-0ba2-47e9-b53f-5aee1299165b  What is one of the goals of the CoE-AI in deve...   \n",
       "3db6e3ad-c384-48e3-8141-ca345b563dcb  What are some examples of chronic diseases tha...   \n",
       "e8acc023-18b1-4753-b06f-69f0bb983344  What is the vision of the Government of Pakist...   \n",
       "\n",
       "                                                                       reference_answer  \\\n",
       "id                                                                                        \n",
       "11fde9b4-0b13-4d48-8665-113a34f7ebaa  Agriculture Industry, Healthcare Industry, Man...   \n",
       "d8ba0147-d2e3-4581-aeb7-427ad95c0dc2  Healthcare, Legal, Public Facilitation Service...   \n",
       "81922b3d-0ba2-47e9-b53f-5aee1299165b  to streamline the delivery of municipal servic...   \n",
       "3db6e3ad-c384-48e3-8141-ca345b563dcb  diabetes, hypertension, and high blood cholest...   \n",
       "e8acc023-18b1-4753-b06f-69f0bb983344  To Embrace AI by appreciating Human Intelligen...   \n",
       "\n",
       "                                                                      reference_context  \\\n",
       "id                                                                                        \n",
       "11fde9b4-0b13-4d48-8665-113a34f7ebaa  Document 134: 21 \\n \\n \\n0 5 10 15 20 25\\nAgri...   \n",
       "d8ba0147-d2e3-4581-aeb7-427ad95c0dc2  Document 58: I. The CoE-AI shall organize a co...   \n",
       "81922b3d-0ba2-47e9-b53f-5aee1299165b  Document 70: 6 \\n \\nIII. The program shall emp...   \n",
       "3db6e3ad-c384-48e3-8141-ca345b563dcb  Document 62: failure. Many Pakistanis have chr...   \n",
       "e8acc023-18b1-4753-b06f-69f0bb983344  Document 22: 8 \\n \\n3 Vision, Scope & Objectiv...   \n",
       "\n",
       "                                     conversation_history  \\\n",
       "id                                                          \n",
       "11fde9b4-0b13-4d48-8665-113a34f7ebaa                   []   \n",
       "d8ba0147-d2e3-4581-aeb7-427ad95c0dc2                   []   \n",
       "81922b3d-0ba2-47e9-b53f-5aee1299165b                   []   \n",
       "3db6e3ad-c384-48e3-8141-ca345b563dcb                   []   \n",
       "e8acc023-18b1-4753-b06f-69f0bb983344                   []   \n",
       "\n",
       "                                                                               metadata  \n",
       "id                                                                                       \n",
       "11fde9b4-0b13-4d48-8665-113a34f7ebaa  {'question_type': 'simple', 'seed_document_id'...  \n",
       "d8ba0147-d2e3-4581-aeb7-427ad95c0dc2  {'question_type': 'simple', 'seed_document_id'...  \n",
       "81922b3d-0ba2-47e9-b53f-5aee1299165b  {'question_type': 'simple', 'seed_document_id'...  \n",
       "3db6e3ad-c384-48e3-8141-ca345b563dcb  {'question_type': 'simple', 'seed_document_id'...  \n",
       "e8acc023-18b1-4753-b06f-69f0bb983344  {'question_type': 'simple', 'seed_document_id'...  "
      ]
     },
     "execution_count": 12,
     "metadata": {},
     "output_type": "execute_result"
    }
   ],
   "source": [
    "testset.to_pandas().head(5)"
   ]
  },
  {
   "cell_type": "markdown",
   "metadata": {},
   "source": [
    "## Prepare the Prompt"
   ]
  },
  {
   "cell_type": "code",
   "execution_count": 13,
   "metadata": {},
   "outputs": [],
   "source": [
    "from langchain.prompts import PromptTemplate\n",
    "\n",
    "prompt = PromptTemplate.from_template(\"\"\"You are a professional virtual assistant for the Government of Pakistan’s Ministry of Information Technology & Telecommunication (MoITT), specializing in the \"National Artificial Intelligence Policy\".\n",
    "    Your primary role is to use the provided context to respond with accurate, concise, and helpful information about the policy’s vision, objectives, directives, targets, and related initiatives.\n",
    "    You should respond to user inquiries in a professional, clear, and neutral manner, ensuring your answers are easy to understand while maintaining policy accuracy.\n",
    "\n",
    "    If the answer is explicitly present in the retrieved context, quote or paraphrase accurately.  \n",
    "    When citing, follow this style:  \n",
    "    - Place citations at the end of the relevant sentence or paragraph.  \n",
    "    - Use parentheses with the section name and number, e.g., *(Section 3.1 — Vision)* or *(Section 4.1.2 — Center of Excellence in AI)*.  \n",
    "    - Do not use brackets like 【 】 or repeat the section name twice.  \n",
    "    - If no exact section number is available, cite the nearest heading in the context.\n",
    "\n",
    "    Only use the information provided in the context or conversation history to answer the question. **Do not fabricate or assume any details.**\n",
    "    If the answer cannot be derived from the given information, politely state that the provided excerpts do not contain that information.\n",
    "\n",
    "    Only answer the specific question asked. Do not include unrelated information or anticipate additional questions.\n",
    "                                      \n",
    "    Context: {context}\n",
    "\n",
    "    Question: {question}\n",
    "\n",
    "    Answer:\"\"\")"
   ]
  },
  {
   "cell_type": "markdown",
   "metadata": {},
   "source": [
    "## Create the RAG Chain"
   ]
  },
  {
   "cell_type": "code",
   "execution_count": 14,
   "metadata": {},
   "outputs": [],
   "source": [
    "# Retriever\n",
    "\n",
    "retriever = db.as_retriever(search_kwargs={'k': 5})"
   ]
  },
  {
   "cell_type": "code",
   "execution_count": 15,
   "metadata": {},
   "outputs": [],
   "source": [
    "from operator import itemgetter\n",
    "from langchain.chat_models import init_chat_model\n",
    "\n",
    "# Initialize the Response Generator LLM\n",
    "model = init_chat_model(\"openai/gpt-oss-120b\", model_provider=\"groq\", temperature=0)\n",
    "\n",
    "chain = (\n",
    "    {\n",
    "        \"context\": itemgetter(\"question\") | retriever,\n",
    "        \"question\": itemgetter(\"question\"),\n",
    "    }\n",
    "    | prompt\n",
    "    | model\n",
    "    | (lambda x: x.content)\n",
    ")"
   ]
  },
  {
   "cell_type": "code",
   "execution_count": 16,
   "metadata": {},
   "outputs": [
    {
     "data": {
      "text/markdown": [
       "The vision of Pakistan’s AI Policy is to “Embrace AI by appreciating Human Intelligence and stimulating a Hybrid Intelligence ecosystem for equitable, responsible, and transparent use of AI.” *(Section 3.1 — Vision)*"
      ],
      "text/plain": [
       "<IPython.core.display.Markdown object>"
      ]
     },
     "execution_count": 16,
     "metadata": {},
     "output_type": "execute_result"
    }
   ],
   "source": [
    "response = chain.invoke({\"question\": \"What is the vision of Pakistan's AI Policy?\"})\n",
    "\n",
    "Markdown(response)"
   ]
  },
  {
   "cell_type": "markdown",
   "metadata": {},
   "source": [
    "## Evaluating the Model on the Test Set"
   ]
  },
  {
   "cell_type": "markdown",
   "metadata": {},
   "source": [
    "We need to create a function that invokes the chain with a specific question and returns the answer."
   ]
  },
  {
   "cell_type": "code",
   "execution_count": 17,
   "metadata": {},
   "outputs": [],
   "source": [
    "def answer_fn(question, history=None):\n",
    "    return chain.invoke({\"question\": question})"
   ]
  },
  {
   "cell_type": "markdown",
   "metadata": {},
   "source": [
    "We can now use the `evaluate()` function to evaluate the model on the test set. This function will compare the answers from the chain with the reference answers in the test set. We'll use Giskard's built-in RAGAS metric wrappers for more reliable evaluation."
   ]
  },
  {
   "cell_type": "code",
   "execution_count": 18,
   "metadata": {},
   "outputs": [
    {
     "data": {
      "application/vnd.jupyter.widget-view+json": {
       "model_id": "50dabf970fa14df0873b7168c586ebb0",
       "version_major": 2,
       "version_minor": 0
      },
      "text/plain": [
       "Asking questions to the agent:   0%|          | 0/10 [00:00<?, ?it/s]"
      ]
     },
     "metadata": {},
     "output_type": "display_data"
    },
    {
     "data": {
      "application/vnd.jupyter.widget-view+json": {
       "model_id": "e01df6b180e44cf1a40d0caf2c479794",
       "version_major": 2,
       "version_minor": 0
      },
      "text/plain": [
       "CorrectnessMetric evaluation:   0%|          | 0/10 [00:00<?, ?it/s]"
      ]
     },
     "metadata": {},
     "output_type": "display_data"
    }
   ],
   "source": [
    "from giskard.rag import evaluate\n",
    "\n",
    "report = evaluate(answer_fn, testset=testset, knowledge_base=knowledge_base)"
   ]
  },
  {
   "cell_type": "markdown",
   "metadata": {},
   "source": [
    "Let now display the report.\n",
    "\n",
    "Here are the five components of our RAG application:\n",
    "\n",
    "* **Generator**: This is the LLM used in the chain to generate the answers.\n",
    "* **Retriever**: This is the retriever that fetches relevant documents from the knowledge base according to a query.\n",
    "* **Rewriter**: This is a component that rewrites the user query to make it more relevant to the knowledge base or to account for chat history (Not a part of our RAG Pipeline).\n",
    "* **Router**: This is a component that filters the query of the user based on his intentions (Not a part of our RAG Pipeline).\n",
    "* **Knowledge Base**: This is the set of documents given to the RAG to generate the answers."
   ]
  },
  {
   "cell_type": "code",
   "execution_count": 19,
   "metadata": {},
   "outputs": [
    {
     "data": {
      "text/html": [
       "    <style>\n",
       "        .bk-notebook-logo {\n",
       "            display: block;\n",
       "            width: 20px;\n",
       "            height: 20px;\n",
       "            background-image: url(data:image/png;base64,iVBORw0KGgoAAAANSUhEUgAAABQAAAAUCAYAAACNiR0NAAAABHNCSVQICAgIfAhkiAAAAAlwSFlzAAALEgAACxIB0t1+/AAAABx0RVh0U29mdHdhcmUAQWRvYmUgRmlyZXdvcmtzIENTNui8sowAAAOkSURBVDiNjZRtaJVlGMd/1/08zzln5zjP1LWcU9N0NkN8m2CYjpgQYQXqSs0I84OLIC0hkEKoPtiH3gmKoiJDU7QpLgoLjLIQCpEsNJ1vqUOdO7ppbuec5+V+rj4ctwzd8IIbbi6u+8f1539dt3A78eXC7QizUF7gyV1fD1Yqg4JWz84yffhm0qkFqBogB9rM8tZdtwVsPUhWhGcFJngGeWrPzHm5oaMmkfEg1usvLFyc8jLRqDOMru7AyC8saQr7GG7f5fvDeH7Ej8CM66nIF+8yngt6HWaKh7k49Soy9nXurCi1o3qUbS3zWfrYeQDTB/Qj6kX6Ybhw4B+bOYoLKCC9H3Nu/leUTZ1JdRWkkn2ldcCamzrcf47KKXdAJllSlxAOkRgyHsGC/zRday5Qld9DyoM4/q/rUoy/CXh3jzOu3bHUVZeU+DEn8FInkPBFlu3+nW3Nw0mk6vCDiWg8CeJaxEwuHS3+z5RgY+YBR6V1Z1nxSOfoaPa4LASWxxdNp+VWTk7+4vzaou8v8PN+xo+KY2xsw6une2frhw05CTYOmQvsEhjhWjn0bmXPjpE1+kplmmkP3suftwTubK9Vq22qKmrBhpY4jvd5afdRA3wGjFAgcnTK2s4hY0/GPNIb0nErGMCRxWOOX64Z8RAC4oCXdklmEvcL8o0BfkNK4lUg9HTl+oPlQxdNo3Mg4Nv175e/1LDGzZen30MEjRUtmXSfiTVu1kK8W4txyV6BMKlbgk3lMwYCiusNy9fVfvvwMxv8Ynl6vxoByANLTWplvuj/nF9m2+PDtt1eiHPBr1oIfhCChQMBw6Aw0UulqTKZdfVvfG7VcfIqLG9bcldL/+pdWTLxLUy8Qq38heUIjh4XlzZxzQm19lLFlr8vdQ97rjZVOLf8nclzckbcD4wxXMidpX30sFd37Fv/GtwwhzhxGVAprjbg0gCAEeIgwCZyTV2Z1REEW8O4py0wsjeloKoMr6iCY6dP92H6Vw/oTyICIthibxjm/DfN9lVz8IqtqKYLUXfoKVMVQVVJOElGjrnnUt9T9wbgp8AyYKaGlqingHZU/uG2NTZSVqwHQTWkx9hxjkpWDaCg6Ckj5qebgBVbT3V3NNXMSiWSDdGV3hrtzla7J+duwPOToIg42ChPQOQjspnSlp1V+Gjdged7+8UN5CRAV7a5EdFNwCjEaBR27b3W890TE7g24NAP/mMDXRWrGoFPQI9ls/MWO2dWFAar/xcOIImbbpA3zgAAAABJRU5ErkJggg==);\n",
       "        }\n",
       "    </style>\n",
       "    <div>\n",
       "        <a href=\"https://bokeh.org\" target=\"_blank\" class=\"bk-notebook-logo\"></a>\n",
       "        <span id=\"d6e77452-95d8-42da-b9cc-09bfa85faf7b\">Loading BokehJS ...</span>\n",
       "    </div>\n"
      ]
     },
     "metadata": {},
     "output_type": "display_data"
    },
    {
     "data": {
      "application/javascript": "'use strict';\n(function(root) {\n  function now() {\n    return new Date();\n  }\n\n  const force = true;\n\n  if (typeof root._bokeh_onload_callbacks === \"undefined\" || force === true) {\n    root._bokeh_onload_callbacks = [];\n    root._bokeh_is_loading = undefined;\n  }\n\nconst JS_MIME_TYPE = 'application/javascript';\n  const HTML_MIME_TYPE = 'text/html';\n  const EXEC_MIME_TYPE = 'application/vnd.bokehjs_exec.v0+json';\n  const CLASS_NAME = 'output_bokeh rendered_html';\n\n  /**\n   * Render data to the DOM node\n   */\n  function render(props, node) {\n    const script = document.createElement(\"script\");\n    node.appendChild(script);\n  }\n\n  /**\n   * Handle when an output is cleared or removed\n   */\n  function handleClearOutput(event, handle) {\n    function drop(id) {\n      const view = Bokeh.index.get_by_id(id)\n      if (view != null) {\n        view.model.document.clear()\n        Bokeh.index.delete(view)\n      }\n    }\n\n    const cell = handle.cell;\n\n    const id = cell.output_area._bokeh_element_id;\n    const server_id = cell.output_area._bokeh_server_id;\n\n    // Clean up Bokeh references\n    if (id != null) {\n      drop(id)\n    }\n\n    if (server_id !== undefined) {\n      // Clean up Bokeh references\n      const cmd_clean = \"from bokeh.io.state import curstate; print(curstate().uuid_to_server['\" + server_id + \"'].get_sessions()[0].document.roots[0]._id)\";\n      cell.notebook.kernel.execute(cmd_clean, {\n        iopub: {\n          output: function(msg) {\n            const id = msg.content.text.trim()\n            drop(id)\n          }\n        }\n      });\n      // Destroy server and session\n      const cmd_destroy = \"import bokeh.io.notebook as ion; ion.destroy_server('\" + server_id + \"')\";\n      cell.notebook.kernel.execute(cmd_destroy);\n    }\n  }\n\n  /**\n   * Handle when a new output is added\n   */\n  function handleAddOutput(event, handle) {\n    const output_area = handle.output_area;\n    const output = handle.output;\n\n    // limit handleAddOutput to display_data with EXEC_MIME_TYPE content only\n    if ((output.output_type != \"display_data\") || (!Object.prototype.hasOwnProperty.call(output.data, EXEC_MIME_TYPE))) {\n      return\n    }\n\n    const toinsert = output_area.element.find(\".\" + CLASS_NAME.split(' ')[0]);\n\n    if (output.metadata[EXEC_MIME_TYPE][\"id\"] !== undefined) {\n      toinsert[toinsert.length - 1].firstChild.textContent = output.data[JS_MIME_TYPE];\n      // store reference to embed id on output_area\n      output_area._bokeh_element_id = output.metadata[EXEC_MIME_TYPE][\"id\"];\n    }\n    if (output.metadata[EXEC_MIME_TYPE][\"server_id\"] !== undefined) {\n      const bk_div = document.createElement(\"div\");\n      bk_div.innerHTML = output.data[HTML_MIME_TYPE];\n      const script_attrs = bk_div.children[0].attributes;\n      for (let i = 0; i < script_attrs.length; i++) {\n        toinsert[toinsert.length - 1].firstChild.setAttribute(script_attrs[i].name, script_attrs[i].value);\n        toinsert[toinsert.length - 1].firstChild.textContent = bk_div.children[0].textContent\n      }\n      // store reference to server id on output_area\n      output_area._bokeh_server_id = output.metadata[EXEC_MIME_TYPE][\"server_id\"];\n    }\n  }\n\n  function register_renderer(events, OutputArea) {\n\n    function append_mime(data, metadata, element) {\n      // create a DOM node to render to\n      const toinsert = this.create_output_subarea(\n        metadata,\n        CLASS_NAME,\n        EXEC_MIME_TYPE\n      );\n      this.keyboard_manager.register_events(toinsert);\n      // Render to node\n      const props = {data: data, metadata: metadata[EXEC_MIME_TYPE]};\n      render(props, toinsert[toinsert.length - 1]);\n      element.append(toinsert);\n      return toinsert\n    }\n\n    /* Handle when an output is cleared or removed */\n    events.on('clear_output.CodeCell', handleClearOutput);\n    events.on('delete.Cell', handleClearOutput);\n\n    /* Handle when a new output is added */\n    events.on('output_added.OutputArea', handleAddOutput);\n\n    /**\n     * Register the mime type and append_mime function with output_area\n     */\n    OutputArea.prototype.register_mime_type(EXEC_MIME_TYPE, append_mime, {\n      /* Is output safe? */\n      safe: true,\n      /* Index of renderer in `output_area.display_order` */\n      index: 0\n    });\n  }\n\n  // register the mime type if in Jupyter Notebook environment and previously unregistered\n  if (root.Jupyter !== undefined) {\n    const events = require('base/js/events');\n    const OutputArea = require('notebook/js/outputarea').OutputArea;\n\n    if (OutputArea.prototype.mime_types().indexOf(EXEC_MIME_TYPE) == -1) {\n      register_renderer(events, OutputArea);\n    }\n  }\n  if (typeof (root._bokeh_timeout) === \"undefined\" || force === true) {\n    root._bokeh_timeout = Date.now() + 5000;\n    root._bokeh_failed_load = false;\n  }\n\n  const NB_LOAD_WARNING = {'data': {'text/html':\n     \"<div style='background-color: #fdd'>\\n\"+\n     \"<p>\\n\"+\n     \"BokehJS does not appear to have successfully loaded. If loading BokehJS from CDN, this \\n\"+\n     \"may be due to a slow or bad network connection. Possible fixes:\\n\"+\n     \"</p>\\n\"+\n     \"<ul>\\n\"+\n     \"<li>re-rerun `output_notebook()` to attempt to load from CDN again, or</li>\\n\"+\n     \"<li>use INLINE resources instead, as so:</li>\\n\"+\n     \"</ul>\\n\"+\n     \"<code>\\n\"+\n     \"from bokeh.resources import INLINE\\n\"+\n     \"output_notebook(resources=INLINE)\\n\"+\n     \"</code>\\n\"+\n     \"</div>\"}};\n\n  function display_loaded(error = null) {\n    const el = document.getElementById(\"d6e77452-95d8-42da-b9cc-09bfa85faf7b\");\n    if (el != null) {\n      const html = (() => {\n        if (typeof root.Bokeh === \"undefined\") {\n          if (error == null) {\n            return \"BokehJS is loading ...\";\n          } else {\n            return \"BokehJS failed to load.\";\n          }\n        } else {\n          const prefix = `BokehJS ${root.Bokeh.version}`;\n          if (error == null) {\n            return `${prefix} successfully loaded.`;\n          } else {\n            return `${prefix} <b>encountered errors</b> while loading and may not function as expected.`;\n          }\n        }\n      })();\n      el.innerHTML = html;\n\n      if (error != null) {\n        const wrapper = document.createElement(\"div\");\n        wrapper.style.overflow = \"auto\";\n        wrapper.style.height = \"5em\";\n        wrapper.style.resize = \"vertical\";\n        const content = document.createElement(\"div\");\n        content.style.fontFamily = \"monospace\";\n        content.style.whiteSpace = \"pre-wrap\";\n        content.style.backgroundColor = \"rgb(255, 221, 221)\";\n        content.textContent = error.stack ?? error.toString();\n        wrapper.append(content);\n        el.append(wrapper);\n      }\n    } else if (Date.now() < root._bokeh_timeout) {\n      setTimeout(() => display_loaded(error), 100);\n    }\n  }\n\n  function run_callbacks() {\n    try {\n      root._bokeh_onload_callbacks.forEach(function(callback) {\n        if (callback != null)\n          callback();\n      });\n    } finally {\n      delete root._bokeh_onload_callbacks\n    }\n    console.debug(\"Bokeh: all callbacks have finished\");\n  }\n\n  function load_libs(css_urls, js_urls, callback) {\n    if (css_urls == null) css_urls = [];\n    if (js_urls == null) js_urls = [];\n\n    root._bokeh_onload_callbacks.push(callback);\n    if (root._bokeh_is_loading > 0) {\n      console.debug(\"Bokeh: BokehJS is being loaded, scheduling callback at\", now());\n      return null;\n    }\n    if (js_urls == null || js_urls.length === 0) {\n      run_callbacks();\n      return null;\n    }\n    console.debug(\"Bokeh: BokehJS not loaded, scheduling load and callback at\", now());\n    root._bokeh_is_loading = css_urls.length + js_urls.length;\n\n    function on_load() {\n      root._bokeh_is_loading--;\n      if (root._bokeh_is_loading === 0) {\n        console.debug(\"Bokeh: all BokehJS libraries/stylesheets loaded\");\n        run_callbacks()\n      }\n    }\n\n    function on_error(url) {\n      console.error(\"failed to load \" + url);\n    }\n\n    for (let i = 0; i < css_urls.length; i++) {\n      const url = css_urls[i];\n      const element = document.createElement(\"link\");\n      element.onload = on_load;\n      element.onerror = on_error.bind(null, url);\n      element.rel = \"stylesheet\";\n      element.type = \"text/css\";\n      element.href = url;\n      console.debug(\"Bokeh: injecting link tag for BokehJS stylesheet: \", url);\n      document.body.appendChild(element);\n    }\n\n    for (let i = 0; i < js_urls.length; i++) {\n      const url = js_urls[i];\n      const element = document.createElement('script');\n      element.onload = on_load;\n      element.onerror = on_error.bind(null, url);\n      element.async = false;\n      element.src = url;\n      console.debug(\"Bokeh: injecting script tag for BokehJS library: \", url);\n      document.head.appendChild(element);\n    }\n  };\n\n  function inject_raw_css(css) {\n    const element = document.createElement(\"style\");\n    element.appendChild(document.createTextNode(css));\n    document.body.appendChild(element);\n  }\n\n  const js_urls = [\"https://cdn.bokeh.org/bokeh/release/bokeh-3.4.3.min.js\", \"https://cdn.bokeh.org/bokeh/release/bokeh-gl-3.4.3.min.js\", \"https://cdn.bokeh.org/bokeh/release/bokeh-widgets-3.4.3.min.js\", \"https://cdn.bokeh.org/bokeh/release/bokeh-tables-3.4.3.min.js\", \"https://cdn.bokeh.org/bokeh/release/bokeh-mathjax-3.4.3.min.js\"];\n  const css_urls = [];\n\n  const inline_js = [    function(Bokeh) {\n      Bokeh.set_log_level(\"info\");\n    },\nfunction(Bokeh) {\n    }\n  ];\n\n  function run_inline_js() {\n    if (root.Bokeh !== undefined || force === true) {\n      try {\n            for (let i = 0; i < inline_js.length; i++) {\n      inline_js[i].call(root, root.Bokeh);\n    }\n\n      } catch (error) {display_loaded(error);throw error;\n      }if (force === true) {\n        display_loaded();\n      }} else if (Date.now() < root._bokeh_timeout) {\n      setTimeout(run_inline_js, 100);\n    } else if (!root._bokeh_failed_load) {\n      console.log(\"Bokeh: BokehJS failed to load within specified timeout.\");\n      root._bokeh_failed_load = true;\n    } else if (force !== true) {\n      const cell = $(document.getElementById(\"d6e77452-95d8-42da-b9cc-09bfa85faf7b\")).parents('.cell').data().cell;\n      cell.output_area.append_execute_result(NB_LOAD_WARNING)\n    }\n  }\n\n  if (root._bokeh_is_loading === 0) {\n    console.debug(\"Bokeh: BokehJS loaded, going straight to plotting\");\n    run_inline_js();\n  } else {\n    load_libs(css_urls, js_urls, function() {\n      console.debug(\"Bokeh: BokehJS plotting callback run at\", now());\n      run_inline_js();\n    });\n  }\n}(window));",
      "application/vnd.bokehjs_load.v0+json": ""
     },
     "metadata": {},
     "output_type": "display_data"
    },
    {
     "data": {
      "text/html": [
       "<!DOCTYPE html>\n",
       "\n",
       "\n",
       "<style>\n",
       "    body{\n",
       "  background: #18181B;\n",
       "}\n",
       "\n",
       ".main{\n",
       "  font-family: \"Noto Sans\", ui-sans-serif, system-ui, -apple-system, BlinkMacSystemFont, \"Segoe UI\", Roboto, \"Helvetica Neue\", Arial, sans-serif, \"Apple Color Emoji\", \"Segoe UI Emoji\", \"Segoe UI Symbol\", \"Noto Color Emoji\";\n",
       "  color: #FDFDFD;\n",
       "}\n",
       "\n",
       "h1 {\n",
       "  font-size: 2.5rem;\n",
       "  color: white;\n",
       "}\n",
       "\n",
       "h3 {\n",
       "  font-size: 1.5rem;\n",
       "  background: #0c087c;\n",
       "  padding: 10px;\n",
       "  margin: 0px;\n",
       "  border: 1px solid #6b7280;}\n",
       "\n",
       ".extended-title{\n",
       "  width:100%;\n",
       "}\n",
       "\n",
       "#gsk-overview{\n",
       "  display:flex;\n",
       "}\n",
       "\n",
       "h4 {\n",
       "  font-size: 1rem;\n",
       "  background: #27272A;\n",
       "  padding: 10px;\n",
       "  margin: 0px;\n",
       "  border-bottom: 1px solid #6b7280;\n",
       "}\n",
       "\n",
       "h2 {\n",
       "  font-size: 1.5rem;\n",
       "  margin-top: 3px;\n",
       "  color:#000000;\n",
       "}\n",
       "\n",
       ".header{\n",
       "  display: flex;\n",
       "  justify-content: center;\n",
       "  align-items: center;\n",
       "}\n",
       ".header > * {\n",
       "  margin-inline: 20px;\n",
       "}\n",
       "\n",
       ".flex-row {\n",
       "  display: flex;\n",
       "  flex-direction: row;\n",
       "  padding:10px;\n",
       "  border: 1px solid #27272A;\n",
       "}\n",
       "\n",
       ".flex-row>div {\n",
       "  flex: auto;\n",
       "  box-sizing: border-box;\n",
       "  display: flex;\n",
       "  flex-direction: column;\n",
       "  justify-content: center;\n",
       "  align-items: center;\n",
       "}\n",
       "\n",
       "progress[value] {\n",
       "  --background: #6D6D6D;\n",
       "  -webkit-appearance: none;\n",
       "  -moz-appearance: none;\n",
       "  appearance: none;\n",
       "  border: none;\n",
       "  height: 4px;\n",
       "  margin: 0 10px;\n",
       "  border-radius: 10em;\n",
       "  background: var(--background);\n",
       "}\n",
       "\n",
       "progress[value]::-webkit-progress-bar {\n",
       "  border-radius: 10em;\n",
       "  background: var(--background);\n",
       "}\n",
       "\n",
       "progress[value]::-webkit-progress-value {\n",
       "  border-radius: 10em;\n",
       "  background: var(--color);\n",
       "}\n",
       "\n",
       "progress[value]::-moz-progress-bar {\n",
       "  border-radius: 10em;\n",
       "  background: var(--color);\n",
       "}\n",
       "\n",
       "label {\n",
       "  font-size: 20px;\n",
       "  font-weight: bold;\n",
       "  display: block;\n",
       "  margin: 20px 0;\n",
       "}\n",
       "\n",
       ".tab {\n",
       "  overflow: hidden;\n",
       "  border: 1px solid #27272A;\n",
       "  background-color: #27272A;\n",
       "}\n",
       "\n",
       ".tab button {\n",
       "  background-color: inherit;\n",
       "  float: left;\n",
       "  border: none;\n",
       "  outline: none;\n",
       "  cursor: pointer;\n",
       "  padding: 14px 16px;\n",
       "  transition: 0.3s;\n",
       "  color: #ffffff;\n",
       "  font-size:1.2rem;\n",
       "}\n",
       "\n",
       ".tab div {\n",
       "  background-color: inherit;\n",
       "  float: left;\n",
       "  border: none;\n",
       "  outline: none;\n",
       "  cursor: pointer;\n",
       "  padding: 14px 16px;\n",
       "  transition: 0.3s;\n",
       "  color: #ffffff;\n",
       "  font-size: 1.2rem;\n",
       "}\n",
       "\n",
       ".tab button:hover {\n",
       "  background-color: #18181B;\n",
       "}\n",
       "\n",
       ".tab-title{\n",
       "  font-size: 1.5rem;\n",
       "  font-weight: bold;\n",
       "  margin-bottom:-5px;\n",
       "}\n",
       "\n",
       ".tab button.active {\n",
       "  background-color: #18181B;\n",
       "  border-top: 1px solid #6b7280;\n",
       "  border-bottom: 1px solid #18181B;\n",
       "  border-left: 1px solid #6b7280;\n",
       "  border-right: 1px solid #6b7280;\n",
       "}\n",
       "\n",
       ".tabcontent {\n",
       "  display: none;\n",
       "  padding: 6px 12px;\n",
       "  background: #18181B;\n",
       "  border: 1px solid #27272A;\n",
       "  border-top: 1px solid #6b7280;\n",
       "  margin-top: -2px;\n",
       "}\n",
       "\n",
       "#gsk-advice {\n",
       "  display: flex;\n",
       "  justify-content: center;\n",
       "}\n",
       "\n",
       "#gsk-metrics{\n",
       "  width:100%;\n",
       "}\n",
       "\n",
       "#recommendation {\n",
       "  margin-top: 20px;\n",
       "  padding: 20px;\n",
       "  border-radius: 10px;\n",
       "  background-color: #e1ce86;\n",
       "  color: #27272A;\n",
       "  width:95%;\n",
       "  box-shadow: 0 4px 8px 0 #000000, 0 6px 20px 0 #000000;\n",
       "  font-size: 12pt;\n",
       "}\n",
       "\n",
       ".separator {\n",
       "  margin: 20px 0;\n",
       "}\n",
       "\n",
       ".separator-border {\n",
       "  margin: 20px 0;\n",
       "  border-bottom: 1px solid #6b7280;\n",
       "}\n",
       "\n",
       "#gsk-rag{\n",
       "  margin: 32px 28px;\n",
       "  padding: 12px 24px;\n",
       "  background-color: #111516;\n",
       "}\n",
       "\n",
       ".section-container {\n",
       "  margin-bottom: 32px;\n",
       "}\n",
       "\n",
       "  .components-container {\n",
       "    display: flex;\n",
       "    flex-flow: row wrap;\n",
       "    align-items: flex-start;\n",
       "    gap: 0 32px;\n",
       "  }\n",
       "\n",
       "    .component-card {\n",
       "      background-color: #14191B;\n",
       "      border-radius: 16px;\n",
       "      padding: 28px 32px 32px 32px;\n",
       "      display: flex;\n",
       "      flex-flow: column;\n",
       "      align-items: center;\n",
       "      margin-top: 32px;\n",
       "      flex-grow: 1;\n",
       "    }\n",
       "\n",
       "    .component-title {\n",
       "      font-size: 12px;\n",
       "      font-weight: 500;\n",
       "      color: #B1B1B1;\n",
       "      padding-bottom: 8px;\n",
       "    }\n",
       "\n",
       "    .component-value {\n",
       "      font-size: 32px;\n",
       "      font-weight: 500;\n",
       "      padding-bottom: 12px;\n",
       "    }\n",
       "      \n",
       "      .text-green {\n",
       "        color: #04B543;\n",
       "      }\n",
       "      \n",
       "      .text-orange {\n",
       "        color: #E76E0F;\n",
       "      }\n",
       "      \n",
       "      .text-red {\n",
       "        color: #EA3829;\n",
       "      }\n",
       "\n",
       "      .tooltip {\n",
       "        position: relative;\n",
       "        display: inline-block;\n",
       "      }\n",
       "\n",
       "      .tooltip .tooltiptext {\n",
       "        visibility: hidden;\n",
       "        width: 120px;\n",
       "        background-color: #464646;\n",
       "        color: #E6E6E6;\n",
       "        text-align: center;\n",
       "        border-radius: 6px;\n",
       "        position: absolute;\n",
       "        z-index: 1;\n",
       "        top: 150%;\n",
       "        left: 50%;\n",
       "        margin-left: -60px;\n",
       "        font-size: 12px;\n",
       "        padding: 12px;\n",
       "      }\n",
       "      \n",
       "      .tooltip .tooltiptext::after {\n",
       "        content: \"\";\n",
       "        position: absolute;\n",
       "        bottom: 100%;\n",
       "        left: 50%;\n",
       "        margin-left: -5px;\n",
       "        border-width: 5px;\n",
       "        border-style: solid;\n",
       "        border-color: transparent transparent black transparent;\n",
       "      }\n",
       "      \n",
       "      .tooltip:hover .tooltiptext {\n",
       "        visibility: visible;\n",
       "      }\n",
       "\n",
       "    .overall-card {\n",
       "      background-color: #026836;\n",
       "      border-radius: 16px;\n",
       "      padding: 28px 32px 32px 32px;\n",
       "      display: flex;\n",
       "      flex-flow: column;\n",
       "      align-items: center;\n",
       "      justify-content: center;\n",
       "      margin-top: 32px;\n",
       "      flex-grow: 1;\n",
       "    }\n",
       "  \n",
       "    .overall-title {\n",
       "      font-size: 12px;\n",
       "      font-weight: 500;\n",
       "      color: #E6E6E6;\n",
       "      padding: 14px 0 8px 0;\n",
       "      text-transform: uppercase;\n",
       "     }\n",
       "  \n",
       "    .overall-value {\n",
       "      font-size: 32px;\n",
       "      font-weight: 500;\n",
       "      padding-bottom: 12px;\n",
       "      color: #E6E6E6;\n",
       "    }\n",
       "\n",
       ".section-title {\n",
       "  font-size: 12px;\n",
       "  color: #B1B1B1;\n",
       "  margin-bottom: 20px;\n",
       "  text-align: left;\n",
       "  width: 100%;\n",
       "}\n",
       "\n",
       ".section-content {\n",
       "  color: #E6E6E6;\n",
       "  font-size: 20px;\n",
       "  line-height: 1.5;\n",
       "}\n",
       "\n",
       ".section-card {\n",
       "  background-color: #14191B;\n",
       "  border-radius: 16px;\n",
       "  padding: 28px 32px 32px 32px;\n",
       "  display: flex;\n",
       "  flex-flow: column;\n",
       "  align-items: center;\n",
       "}\n",
       "\n",
       ".correctness-indicator{\n",
       "  padding: 20px;\n",
       "  border-radius: 50px;\n",
       "  font-size: 16pt;\n",
       "  box-shadow: 0 4px 8px 0 #000000, 0 6px 20px 0 #000000;\n",
       "  text-align: center;\n",
       "}\n",
       "\n",
       ".metric-title{\n",
       "  margin: -2px;\n",
       "  border-bottom: none;\n",
       "}\n",
       "\n",
       ".hist-row {\n",
       "  display: flex;\n",
       "  flex-direction: row;\n",
       "  padding: 10px;\n",
       "  justify-content: space-around;\n",
       "  width: 85%;\n",
       "}\n",
       "\n",
       ".hist-row>div {\n",
       "  flex: auto;\n",
       "  box-sizing: border-box;\n",
       "  display: flex;\n",
       "  flex-direction: column;\n",
       "  justify-content: center;\n",
       "  align-items: center;\n",
       "  padding-left: 1%;\n",
       "  padding-right: 1%;\n",
       "}\n",
       "\n",
       ".tab-row{\n",
       "  display: flex;\n",
       "  flex-direction: column;\n",
       "  align-items: center;\n",
       "}\n",
       "\n",
       "#component-table{\n",
       "  width:50%;\n",
       "  margin-top: 10px;\n",
       "}\n",
       "\n",
       ".green{\n",
       "  background-color: #0a980a;\n",
       "}\n",
       "\n",
       ".orange {\n",
       "  background-color: #e5b62a;\n",
       "}\n",
       "\n",
       ".red {\n",
       "  background-color: #ba0e0e;\n",
       "}\n",
       "\n",
       ".progress-green {\n",
       "  --color: #04B543;\n",
       "}\n",
       "\n",
       ".progress-orange {\n",
       "  --color: #E76E0F;\n",
       "}\n",
       "\n",
       ".progress-red {\n",
       "  --color: #EA3829;\n",
       "}\n",
       "\n",
       ".corr-plot{\n",
       "  flex: 1;\n",
       "  padding-left: 2%;\n",
       "}\n",
       "\n",
       ".tooltip-text {\n",
       "  position: absolute;\n",
       "  display: none;\n",
       "  visibility: hidden;\n",
       "  z-index: 1;\n",
       "  top: 100%;\n",
       "  left: 0%;\n",
       "  width: 100%;\n",
       "  color: white;\n",
       "  font-size: 12px;\n",
       "  background-color: #2d3d4c;\n",
       "  border-radius: 10px;\n",
       "  padding: 10px 15px 10px 15px;\n",
       "}\n",
       "\n",
       "#fade {\n",
       "  opacity: 1;\n",
       "  transition: opacity 0.5s;\n",
       "}\n",
       "\n",
       "#delay {\n",
       "  opacity: 0;\n",
       "  transition: opacity 0.2s;\n",
       "  transition-delay: 1s;\n",
       "}\n",
       "\n",
       "td {\n",
       "  position: relative;\n",
       "}\n",
       "\n",
       "tr:hover .tooltip-text {\n",
       "  display: block;\n",
       "  visibility: visible;\n",
       "}\n",
       "\n",
       ".tr:hover #fade {\n",
       "  opacity: 1;\n",
       "}\n",
       "\n",
       ".tr:hover #delay {\n",
       "  opacity: 1;\n",
       "}\n",
       "\n",
       ".callout {\n",
       "  padding: 0.5rem 1rem 0.5rem 3rem;\n",
       "  background: #D9EDF9;\n",
       "  border: 3px solid #0088D1;\n",
       "  color: #272eb5;\n",
       "  position: relative;\n",
       "  max-width: 40rem;\n",
       "  border-radius: 10px;\n",
       "  margin-top: 10%;\n",
       "  font-size: 11pt;\n",
       "}\n",
       "\n",
       ".callout-icon {\n",
       "  content: \"\";\n",
       "\n",
       "  /* SVG via a data URI! */\n",
       "  background-size: cover;\n",
       "  width: 1.5rem;\n",
       "  height: 1.5rem;\n",
       "  display: block;\n",
       "  position: absolute;\n",
       "  left: 0.9rem;\n",
       "  top: 1.1rem;\n",
       "}\n",
       "\n",
       ".callout-icon svg{\n",
       "  fill: #016ca7;\n",
       "}\n",
       ".callout p+p {\n",
       "  margin-top: 1em;\n",
       "}\n",
       "\n",
       ".callout a {\n",
       "  color: #272eb5;\n",
       "  font-weight: bold;\n",
       "}\n",
       "\n",
       "#gsk-logo {\n",
       "  padding-top: 10px;\n",
       "}\n",
       "</style>\n",
       "<script src=\"https://cdn.bokeh.org/bokeh/release/bokeh-3.3.4.min.js\" integrity=\"sha384-5QIrjQuyo4I/x6DK/Sau33lcA3hT2TCZGr9vbk+2ebd7Da6FnR1amdM+9B5xOrSf\" crossorigin=\"anonymous\"></script>\n",
       "<script src=\"https://cdn.bokeh.org/bokeh/release/bokeh-gl-3.3.4.min.js\" integrity=\"sha384-tXTWPp/bAKa+K9RPuXh7DNvye0Mv+P+6y4rAMVy+pWapsnXg9UG7g20WZ0N4i28A\" crossorigin=\"anonymous\"></script>\n",
       "\n",
       "\n",
       "\n",
       "\n",
       "\n",
       "<div class=\"main\">\n",
       "    <div id=\"gsk-rag\" class=\"dark:text-white dark:bg-zinc-800 rounded border border-gray-500\">\n",
       "        <div class=\"header border-b border-b-gray-500\">\n",
       "            \n",
       "                <svg xmlns=\"http://www.w3.org/2000/svg\" width=\"60\" height=\"30\" viewBox=\"0 0 30 15\" fill=\"none\" id=\"gsk-logo\">\n",
       "                    <path fill=\"#fff\" fill-rule=\"evenodd\"\n",
       "                        d=\"M22.504 1.549a4.196 4.196 0 0 1 2.573-.887v.002a3.783 3.783 0 0 1 2.706 1.086 3.783 3.783 0 0 1 1.126 2.69 3.771 3.771 0 0 1-1.126 2.69 3.77 3.77 0 0 1-2.706 1.085l-4.794.011-2.533 3.467L8.203 15l2.881-3.335a9.829 9.829 0 0 1-4.663-1.68H3.185L0 7.163h3.934C4.263 3.165 8.187 0 12.96 0c2.24 0 4.489.696 6.175 1.909a7.423 7.423 0 0 1 1.882 1.919 4.194 4.194 0 0 1 1.487-2.28ZM7.05 3.249l3.91 3.915h1.505L7.89 2.584a7.773 7.773 0 0 0-.84.665Zm4.079-2.008 5.923 5.923h1.503l-6.086-6.087c-.45.023-.898.078-1.34.164ZM4.574 8.226h-1.77l.784.693h1.584a8.454 8.454 0 0 1-.598-.693Zm9.479 0H5.984c1.469 1.477 3.656 2.377 5.977 2.422l2.092-2.422Zm-2.458 4.472 5.492-1.902 1.878-2.569h-3.508l-3.862 4.47Zm10.361-5.552h3.265a2.714 2.714 0 0 0 1.747-4.648 2.711 2.711 0 0 0-1.888-.773 3.127 3.127 0 0 0-3.123 3.124v2.297Zm3.659-3.73a.677.677 0 1 1-.134 1.348.677.677 0 0 1 .134-1.348Z\"\n",
       "                        clip-rule=\"evenodd\" />\n",
       "                </svg>\n",
       "            <h1>RAG Evaluation Toolkit</h1>\n",
       "        </div>\n",
       "        \n",
       "        <div class=\"section-container\">\n",
       "            <div class=\"components-container\">\n",
       "                \n",
       "                <div class=\"component-card\">\n",
       "                    <div class=\"component-title\">GENERATOR</div>\n",
       "                    <div class=\"component-value tooltip  text-green \">\n",
       "                        100.0%\n",
       "                            <span class=\"tooltiptext\" id=\"fade\">The Generator is the LLM inside the RAG to generate the answers.</span>\n",
       "                    </div>\n",
       "                    <div class=\"component-bar\">\n",
       "                        <progress max=\"100\" value=100.0 class=\" progress-green \">100.0%</progress>\n",
       "                    </div>\n",
       "                </div>\n",
       "                \n",
       "                <div class=\"component-card\">\n",
       "                    <div class=\"component-title\">RETRIEVER</div>\n",
       "                    <div class=\"component-value tooltip  text-green \">\n",
       "                        100.0%\n",
       "                            <span class=\"tooltiptext\" id=\"fade\">The Retriever fetches relevant documents from the knowledge base according to a user query.</span>\n",
       "                    </div>\n",
       "                    <div class=\"component-bar\">\n",
       "                        <progress max=\"100\" value=100.0 class=\" progress-green \">100.0%</progress>\n",
       "                    </div>\n",
       "                </div>\n",
       "                \n",
       "                <div class=\"component-card\">\n",
       "                    <div class=\"component-title\">REWRITER</div>\n",
       "                    <div class=\"component-value tooltip  text-green \">\n",
       "                        100.0%\n",
       "                            <span class=\"tooltiptext\" id=\"fade\">The Rewriter modifies the user query to match a predefined format or to include the context from the chat history.</span>\n",
       "                    </div>\n",
       "                    <div class=\"component-bar\">\n",
       "                        <progress max=\"100\" value=100.0 class=\" progress-green \">100.0%</progress>\n",
       "                    </div>\n",
       "                </div>\n",
       "                \n",
       "                <div class=\"component-card\">\n",
       "                    <div class=\"component-title\">ROUTING</div>\n",
       "                    <div class=\"component-value tooltip  text-green \">\n",
       "                        100.0%\n",
       "                            <span class=\"tooltiptext\" id=\"fade\">The Router filters the query of the user based on his intentions (intentions detection).</span>\n",
       "                    </div>\n",
       "                    <div class=\"component-bar\">\n",
       "                        <progress max=\"100\" value=100.0 class=\" progress-green \">100.0%</progress>\n",
       "                    </div>\n",
       "                </div>\n",
       "                \n",
       "                <div class=\"component-card\">\n",
       "                    <div class=\"component-title\">KNOWLEDGE_BASE</div>\n",
       "                    <div class=\"component-value tooltip  text-green \">\n",
       "                        100.0%\n",
       "                            <span class=\"tooltiptext\" id=\"fade\">The knowledge base is the set of documents given to the RAG to generate the answers. Its scores is computed differently from the other components: it is the difference between the maximum and minimum correctness score across all the topics of the knowledge base.</span>\n",
       "                    </div>\n",
       "                    <div class=\"component-bar\">\n",
       "                        <progress max=\"100\" value=100.0 class=\" progress-green \">100.0%</progress>\n",
       "                    </div>\n",
       "                </div>\n",
       "                \n",
       "                <div class=\"overall-card\">\n",
       "                    <div class=\"overall-title\">Overall Correctness Score</div>\n",
       "                    <div class=\"overall-value\">100%</div>\n",
       "                </div>\n",
       "            </div>\n",
       "        </div>\n",
       "\n",
       "        <div class=\"section-container\">\n",
       "            <div class=\"section-card\">\n",
       "                <div class=\"section-title\">RECOMMENDATION</div>\n",
       "                <span class=\"section-content\">Given that your RAG system scores perfectly across all evaluated question types and the topic of Artificial Intelligence Policy, I recommend expanding the evaluation to include more topics to ensure the system&#39;s performance is robust across the entire knowledge base. Additionally, consider introducing more diverse and challenging question types to identify potential areas for improvement.</span>\n",
       "            </div>\n",
       "        </div>\n",
       "\n",
       "        <div class=\"section-container\">\n",
       "            <div class=\"section-card\">\n",
       "                <div class=\"section-title\">CORRECTNESS BY TOPIC</div>\n",
       "                    <script type=\"text/javascript\">\n",
       "        (function() {\n",
       "  const fn = function() {\n",
       "    Bokeh.safely(function() {\n",
       "      (function(root) {\n",
       "        function embed_document(root) {\n",
       "        const docs_json = '{\"8fdaac81-8932-4839-a31f-ed5c75b9c572\":{\"version\":\"3.4.3\",\"title\":\"Bokeh Application\",\"roots\":[{\"type\":\"object\",\"name\":\"Figure\",\"id\":\"p1188\",\"attributes\":{\"height\":350,\"width_policy\":\"max\",\"x_range\":{\"type\":\"object\",\"name\":\"DataRange1d\",\"id\":\"p1190\",\"attributes\":{\"start\":0}},\"y_range\":{\"type\":\"object\",\"name\":\"FactorRange\",\"id\":\"p1197\",\"attributes\":{\"factors\":[\"Artificial Intelligence Policy\"]}},\"x_scale\":{\"type\":\"object\",\"name\":\"LinearScale\",\"id\":\"p1198\"},\"y_scale\":{\"type\":\"object\",\"name\":\"CategoricalScale\",\"id\":\"p1199\"},\"title\":{\"type\":\"object\",\"name\":\"Title\",\"id\":\"p1195\",\"attributes\":{\"text_color\":\"#E0E0E0\",\"text_font\":\"Helvetica\",\"text_font_size\":\"14pt\"}},\"outline_line_color\":\"#E0E0E0\",\"outline_line_alpha\":0.25,\"renderers\":[{\"type\":\"object\",\"name\":\"GlyphRenderer\",\"id\":\"p1217\",\"attributes\":{\"data_source\":{\"type\":\"object\",\"name\":\"ColumnDataSource\",\"id\":\"p1185\",\"attributes\":{\"selected\":{\"type\":\"object\",\"name\":\"Selection\",\"id\":\"p1186\",\"attributes\":{\"indices\":[],\"line_indices\":[]}},\"selection_policy\":{\"type\":\"object\",\"name\":\"UnionRenderers\",\"id\":\"p1187\"},\"data\":{\"type\":\"map\",\"entries\":[[\"correctness\",{\"type\":\"ndarray\",\"array\":{\"type\":\"bytes\",\"data\":\"AAAAAAAAWUA=\"},\"shape\":[1],\"dtype\":\"float64\",\"order\":\"little\"}],[\"metadata_values\",[\"Artificial Intelligence Policy\"]],[\"colors\",[\"#a50026\"]]]}}},\"view\":{\"type\":\"object\",\"name\":\"CDSView\",\"id\":\"p1218\",\"attributes\":{\"filter\":{\"type\":\"object\",\"name\":\"AllIndices\",\"id\":\"p1219\"}}},\"glyph\":{\"type\":\"object\",\"name\":\"HBar\",\"id\":\"p1214\",\"attributes\":{\"y\":{\"type\":\"field\",\"field\":\"metadata_values\"},\"height\":{\"type\":\"value\",\"value\":0.85},\"right\":{\"type\":\"field\",\"field\":\"correctness\"},\"line_color\":{\"type\":\"value\",\"value\":\"#1f77b4\"},\"fill_color\":{\"type\":\"value\",\"value\":\"#14191B\"}}},\"nonselection_glyph\":{\"type\":\"object\",\"name\":\"HBar\",\"id\":\"p1215\",\"attributes\":{\"y\":{\"type\":\"field\",\"field\":\"metadata_values\"},\"height\":{\"type\":\"value\",\"value\":0.85},\"right\":{\"type\":\"field\",\"field\":\"correctness\"},\"line_color\":{\"type\":\"value\",\"value\":\"#1f77b4\"},\"line_alpha\":{\"type\":\"value\",\"value\":0.1},\"fill_color\":{\"type\":\"value\",\"value\":\"#14191B\"},\"fill_alpha\":{\"type\":\"value\",\"value\":0.1},\"hatch_alpha\":{\"type\":\"value\",\"value\":0.1}}},\"muted_glyph\":{\"type\":\"object\",\"name\":\"HBar\",\"id\":\"p1216\",\"attributes\":{\"y\":{\"type\":\"field\",\"field\":\"metadata_values\"},\"height\":{\"type\":\"value\",\"value\":0.85},\"right\":{\"type\":\"field\",\"field\":\"correctness\"},\"line_color\":{\"type\":\"value\",\"value\":\"#1f77b4\"},\"line_alpha\":{\"type\":\"value\",\"value\":0.2},\"fill_color\":{\"type\":\"value\",\"value\":\"#14191B\"},\"fill_alpha\":{\"type\":\"value\",\"value\":0.2},\"hatch_alpha\":{\"type\":\"value\",\"value\":0.2}}}}},{\"type\":\"object\",\"name\":\"GlyphRenderer\",\"id\":\"p1226\",\"attributes\":{\"data_source\":{\"id\":\"p1185\"},\"view\":{\"type\":\"object\",\"name\":\"CDSView\",\"id\":\"p1227\",\"attributes\":{\"filter\":{\"type\":\"object\",\"name\":\"AllIndices\",\"id\":\"p1228\"}}},\"glyph\":{\"type\":\"object\",\"name\":\"HBar\",\"id\":\"p1223\",\"attributes\":{\"y\":{\"type\":\"field\",\"field\":\"metadata_values\"},\"height\":{\"type\":\"value\",\"value\":0.85},\"right\":{\"type\":\"field\",\"field\":\"correctness\"},\"line_color\":{\"type\":\"value\",\"value\":\"white\"},\"line_width\":{\"type\":\"value\",\"value\":2},\"fill_color\":{\"type\":\"value\",\"value\":\"#78BBFA\"},\"fill_alpha\":{\"type\":\"value\",\"value\":0.7}}},\"nonselection_glyph\":{\"type\":\"object\",\"name\":\"HBar\",\"id\":\"p1224\",\"attributes\":{\"y\":{\"type\":\"field\",\"field\":\"metadata_values\"},\"height\":{\"type\":\"value\",\"value\":0.85},\"right\":{\"type\":\"field\",\"field\":\"correctness\"},\"line_color\":{\"type\":\"value\",\"value\":\"white\"},\"line_alpha\":{\"type\":\"value\",\"value\":0.1},\"line_width\":{\"type\":\"value\",\"value\":2},\"fill_color\":{\"type\":\"value\",\"value\":\"#78BBFA\"},\"fill_alpha\":{\"type\":\"value\",\"value\":0.1},\"hatch_alpha\":{\"type\":\"value\",\"value\":0.1}}},\"muted_glyph\":{\"type\":\"object\",\"name\":\"HBar\",\"id\":\"p1225\",\"attributes\":{\"y\":{\"type\":\"field\",\"field\":\"metadata_values\"},\"height\":{\"type\":\"value\",\"value\":0.85},\"right\":{\"type\":\"field\",\"field\":\"correctness\"},\"line_color\":{\"type\":\"value\",\"value\":\"white\"},\"line_alpha\":{\"type\":\"value\",\"value\":0.2},\"line_width\":{\"type\":\"value\",\"value\":2},\"fill_color\":{\"type\":\"value\",\"value\":\"#78BBFA\"},\"fill_alpha\":{\"type\":\"value\",\"value\":0.2},\"hatch_alpha\":{\"type\":\"value\",\"value\":0.2}}}}},{\"type\":\"object\",\"name\":\"GlyphRenderer\",\"id\":\"p1236\",\"attributes\":{\"visible\":false,\"data_source\":{\"type\":\"object\",\"name\":\"ColumnDataSource\",\"id\":\"p1230\",\"attributes\":{\"selected\":{\"type\":\"object\",\"name\":\"Selection\",\"id\":\"p1231\",\"attributes\":{\"indices\":[],\"line_indices\":[]}},\"selection_policy\":{\"type\":\"object\",\"name\":\"UnionRenderers\",\"id\":\"p1232\"},\"data\":{\"type\":\"map\",\"entries\":[[\"x\",[0]],[\"y\",[0]]]}}},\"view\":{\"type\":\"object\",\"name\":\"CDSView\",\"id\":\"p1237\",\"attributes\":{\"filter\":{\"type\":\"object\",\"name\":\"AllIndices\",\"id\":\"p1238\"}}},\"glyph\":{\"type\":\"object\",\"name\":\"Line\",\"id\":\"p1233\",\"attributes\":{\"x\":{\"type\":\"field\",\"field\":\"x\"},\"y\":{\"type\":\"field\",\"field\":\"y\"},\"line_color\":\"#EA3829\",\"line_width\":2,\"line_dash\":[6]}},\"nonselection_glyph\":{\"type\":\"object\",\"name\":\"Line\",\"id\":\"p1234\",\"attributes\":{\"x\":{\"type\":\"field\",\"field\":\"x\"},\"y\":{\"type\":\"field\",\"field\":\"y\"},\"line_color\":\"#EA3829\",\"line_alpha\":0.1,\"line_width\":2,\"line_dash\":[6]}},\"muted_glyph\":{\"type\":\"object\",\"name\":\"Line\",\"id\":\"p1235\",\"attributes\":{\"x\":{\"type\":\"field\",\"field\":\"x\"},\"y\":{\"type\":\"field\",\"field\":\"y\"},\"line_color\":\"#EA3829\",\"line_alpha\":0.2,\"line_width\":2,\"line_dash\":[6]}}}}],\"toolbar\":{\"type\":\"object\",\"name\":\"Toolbar\",\"id\":\"p1196\",\"attributes\":{\"tools\":[{\"type\":\"object\",\"name\":\"HoverTool\",\"id\":\"p1210\",\"attributes\":{\"renderers\":\"auto\",\"tooltips\":[[\"topic\",\"@metadata_values\"],[\"Correctness\",\"@correctness{0.00}\"]]}}]}},\"toolbar_location\":null,\"left\":[{\"type\":\"object\",\"name\":\"CategoricalAxis\",\"id\":\"p1205\",\"attributes\":{\"ticker\":{\"type\":\"object\",\"name\":\"CategoricalTicker\",\"id\":\"p1206\"},\"formatter\":{\"type\":\"object\",\"name\":\"CategoricalTickFormatter\",\"id\":\"p1207\"},\"axis_label_standoff\":10,\"axis_label_text_color\":\"#E0E0E0\",\"axis_label_text_font\":\"Helvetica\",\"axis_label_text_font_size\":\"1.25em\",\"axis_label_text_font_style\":\"normal\",\"major_label_policy\":{\"type\":\"object\",\"name\":\"AllLabels\",\"id\":\"p1208\"},\"major_label_text_color\":\"#E0E0E0\",\"major_label_text_font\":\"Helvetica\",\"major_label_text_font_size\":\"1.025em\",\"axis_line_color\":\"#E0E0E0\",\"axis_line_alpha\":0,\"major_tick_line_color\":\"#E0E0E0\",\"major_tick_line_alpha\":0,\"minor_tick_line_color\":\"#E0E0E0\",\"minor_tick_line_alpha\":0}}],\"below\":[{\"type\":\"object\",\"name\":\"LinearAxis\",\"id\":\"p1200\",\"attributes\":{\"ticker\":{\"type\":\"object\",\"name\":\"BasicTicker\",\"id\":\"p1201\",\"attributes\":{\"mantissas\":[1,2,5]}},\"formatter\":{\"type\":\"object\",\"name\":\"BasicTickFormatter\",\"id\":\"p1202\"},\"axis_label\":\"Correctness (%)\",\"axis_label_standoff\":10,\"axis_label_text_color\":\"#E0E0E0\",\"axis_label_text_font\":\"Helvetica\",\"axis_label_text_font_size\":\"1.25em\",\"axis_label_text_font_style\":\"normal\",\"major_label_policy\":{\"type\":\"object\",\"name\":\"AllLabels\",\"id\":\"p1203\"},\"major_label_text_color\":\"#E0E0E0\",\"major_label_text_font\":\"Helvetica\",\"major_label_text_font_size\":\"1.025em\",\"axis_line_color\":\"#E0E0E0\",\"axis_line_alpha\":0,\"major_tick_line_color\":\"#E0E0E0\",\"major_tick_line_alpha\":0,\"minor_tick_line_color\":\"#E0E0E0\",\"minor_tick_line_alpha\":0}}],\"center\":[{\"type\":\"object\",\"name\":\"Grid\",\"id\":\"p1204\",\"attributes\":{\"axis\":{\"id\":\"p1200\"},\"grid_line_color\":\"#E0E0E0\",\"grid_line_alpha\":0.25}},{\"type\":\"object\",\"name\":\"Grid\",\"id\":\"p1209\",\"attributes\":{\"dimension\":1,\"axis\":{\"id\":\"p1205\"},\"grid_line_color\":\"#E0E0E0\",\"grid_line_alpha\":0.25}},{\"type\":\"object\",\"name\":\"Span\",\"id\":\"p1229\",\"attributes\":{\"location\":100.0,\"dimension\":\"height\",\"line_color\":\"#EA3829\",\"line_width\":2,\"line_dash\":[6]}},{\"type\":\"object\",\"name\":\"Legend\",\"id\":\"p1239\",\"attributes\":{\"border_line_alpha\":0,\"background_fill_color\":\"#111516\",\"background_fill_alpha\":0.5,\"label_text_color\":\"#E0E0E0\",\"label_text_font\":\"Helvetica\",\"label_text_font_size\":\"1.025em\",\"label_standoff\":8,\"glyph_width\":15,\"spacing\":8,\"items\":[{\"type\":\"object\",\"name\":\"LegendItem\",\"id\":\"p1240\",\"attributes\":{\"label\":{\"type\":\"value\",\"value\":\"Correctness on the entire Testset\"},\"renderers\":[{\"id\":\"p1236\"}]}}]}}],\"background_fill_color\":\"#14191B\",\"border_fill_color\":\"#15191C\"}}]}}';\n",
       "        const render_items = [{\"docid\":\"8fdaac81-8932-4839-a31f-ed5c75b9c572\",\"roots\":{\"p1188\":\"baf0c016-a062-40a5-bc30-d376cc4e9335\"},\"root_ids\":[\"p1188\"]}];\n",
       "        root.Bokeh.embed.embed_items(docs_json, render_items);\n",
       "        }\n",
       "        if (root.Bokeh !== undefined) {\n",
       "          embed_document(root);\n",
       "        } else {\n",
       "          let attempts = 0;\n",
       "          const timer = setInterval(function(root) {\n",
       "            if (root.Bokeh !== undefined) {\n",
       "              clearInterval(timer);\n",
       "              embed_document(root);\n",
       "            } else {\n",
       "              attempts++;\n",
       "              if (attempts > 100) {\n",
       "                clearInterval(timer);\n",
       "                console.log(\"Bokeh: ERROR: Unable to run BokehJS code because BokehJS library is missing\");\n",
       "              }\n",
       "            }\n",
       "          }, 10, root)\n",
       "        }\n",
       "      })(window);\n",
       "    });\n",
       "  };\n",
       "  if (document.readyState != \"loading\") fn();\n",
       "  else document.addEventListener(\"DOMContentLoaded\", fn);\n",
       "})();\n",
       "    </script>\n",
       "\n",
       "                <div id=\"baf0c016-a062-40a5-bc30-d376cc4e9335\" data-root-id=\"p1188\" style=\"display: contents;\"></div>\n",
       "            </div>\n",
       "        </div>\n",
       "\n",
       "        <div class=\"section-container\">\n",
       "            <div class=\"section-card\">\n",
       "                <div class=\"section-title\">KNOWLEDGE BASE OVERVIEW</div>\n",
       "                    <script type=\"text/javascript\">\n",
       "        (function() {\n",
       "  const fn = function() {\n",
       "    Bokeh.safely(function() {\n",
       "      (function(root) {\n",
       "        function embed_document(root) {\n",
       "        const docs_json = '{\"408859a2-0e55-4369-ace6-f273912495ce\":{\"version\":\"3.4.3\",\"title\":\"Bokeh Application\",\"roots\":[{\"type\":\"object\",\"name\":\"Tabs\",\"id\":\"p1119\",\"attributes\":{\"sizing_mode\":\"stretch_width\",\"tabs\":[{\"type\":\"object\",\"name\":\"TabPanel\",\"id\":\"p1050\",\"attributes\":{\"title\":\"Topic exploration\",\"child\":{\"type\":\"object\",\"name\":\"Figure\",\"id\":\"p1004\",\"attributes\":{\"sizing_mode\":\"stretch_width\",\"x_range\":{\"type\":\"object\",\"name\":\"Range1d\",\"id\":\"p1013\",\"attributes\":{\"start\":-1.417082381248474,\"end\":8.546356582641602}},\"y_range\":{\"type\":\"object\",\"name\":\"Range1d\",\"id\":\"p1014\",\"attributes\":{\"start\":9.523557662963867,\"end\":17.542512893676758}},\"x_scale\":{\"type\":\"object\",\"name\":\"LinearScale\",\"id\":\"p1015\"},\"y_scale\":{\"type\":\"object\",\"name\":\"LinearScale\",\"id\":\"p1016\"},\"title\":{\"type\":\"object\",\"name\":\"Title\",\"id\":\"p1011\",\"attributes\":{\"text_color\":\"#E0E0E0\",\"text_font\":\"Helvetica\",\"text_font_size\":\"14pt\"}},\"outline_line_color\":\"#E0E0E0\",\"outline_line_alpha\":0.25,\"renderers\":[{\"type\":\"object\",\"name\":\"GlyphRenderer\",\"id\":\"p1044\",\"attributes\":{\"data_source\":{\"type\":\"object\",\"name\":\"ColumnDataSource\",\"id\":\"p1001\",\"attributes\":{\"selected\":{\"type\":\"object\",\"name\":\"Selection\",\"id\":\"p1002\",\"attributes\":{\"indices\":[],\"line_indices\":[]}},\"selection_policy\":{\"type\":\"object\",\"name\":\"UnionRenderers\",\"id\":\"p1003\"},\"data\":{\"type\":\"map\",\"entries\":[[\"x\",{\"type\":\"ndarray\",\"array\":{\"type\":\"bytes\",\"data\":\"1RZ/vhyZkL2HulRAkpSGQL3JiECP0XZAnDR4QKjNeEADMmZAhJpsQFqTNr+a9mO/SBIxPmcVPr/7dPA/9n42P+4quT8lVgQ9D3UCP5cRI0CcUJW+2af4vrZCg76lgPc/xjE9QL+EGkD93UdAHpZAQD6DLb+CVApAWGiGPwP6Xj+BQsU/LLiDP0NNWz76+uw/0ARHPrpjqL4lgQdAvyZnQK7ydkAECA1A9m0eQGVzKUB8/RJAn1ULQEVwVb7bL1C/kL2Ov8Bb/75mB4a/U1f0vhZOXL/530s/T1jIP+xtGkCMb7Y/eLpwQBjNY0DRIxZAmi0rQHeQFUAxawxAnQBRQISFVkDKyiZAw+AUQB0JJUBCtFRAe85mQHYUaUCe+FFAjVkzQJaia0C+CYdAZbmGQHmpgEDkYn9AEEI6QD882j/wjEFAVkbkPp/P0z9dLaA/r1uXPz1NMj8rEnU+FE/tPpBpMkCbAgk/Ujv+PjqZkb2H/QJAbzvfP0wYvz4FkyRA/F+NQERunUDdF49AcTyXQJisgUD/oWJA/EBkQLHCmkBZlnhAh6GOQHWLHUCqNFtA+6ODQDSXkb5dChU/77oiQGuJgj9IbwpAgRb2P9Is0T+ySHm/rFohv3Fln77vK5u+koohv/0mZr5rXE0/zX0rPz/nej9dWFM+MlheP+e3iz89Vlw/BINiPxjmwD8O0qw/kQzYPyALkj9n/6U/PrIyP3AuTT5s/Ty79PhCQBCihD+/Z9U/Wa72PxZ2OEBTKClA6J9FQJa9zD9ayRVAhvf0P3dHgD9kLYxAk4udQOr/Jj5YDz+9\"},\"shape\":[153],\"dtype\":\"float32\",\"order\":\"little\"}],[\"y\",{\"type\":\"ndarray\",\"array\":{\"type\":\"bytes\",\"data\":\"vgY7QU8uO0G9qXxBgkV1QW2tbUFF8XJBDWJ9QdyygEE/PXZBC29sQfKSQ0Fzx0BB3ao7QcxOOUHNe1NBe51LQWgNWkF810dBETBMQe1IVEGx0kVBr4BKQU3RT0GF12BBmr5lQXkTZEFFRmtBXFpiQbzwRUFPg25BVP1bQfo3akH+9GpBpqhnQU8VUUEq+nhBKy9fQRBmWEEcD2pBfrhgQXNnZkH/S2RBwNZvQUHBakFdCWFBuhB2Qc//VUHe319BSa9bQX7DZkFcDmRBxY5jQXJAXUEMr31BZWp3QbJlXkHUIkdB4ZpDQRvySUEyojZB8Gw/QVHmP0GULURB9SdPQSz6SEHiv1FBZh50QbWcMUEZCTdB/PE1QV02P0FfFDRBhHcvQX92OkHpcUdBl2ZPQYcWVkGhRFBBGIxeQclpZkFW+1ZBUKpWQQz/eEEvrGdBjuNyQaUfdEFRVmRBKJNpQUvZdEF2gVlByVNzQczQWUG6kX9B7qWBQeR8YEGYf3pBRfxeQU0zV0Ea/FZBDDZQQUhdWEG/s01BIpZVQf9iTkFPbltBh5poQVcFgUEtcGFBlc1qQcZTUEFC8UlBrNJJQflZV0EPpzdBxMItQRZENUHVPE9BHsx0QXg8bEHnfHpBu/9zQe3PeUHwqnpBZXqAQU7/YkEYNEdBP7w+QVjMMkHixzhBkEw2Qf0NPkF+S0tBwU5BQRVWOkGPZkhB/ag+QTPXPUEJ1UFBNetpQQS6T0EjSllB3x9UQQJpP0HyDEhBdsFMQRMXNEES7j9BA6ZEQS4rREEWhV9Bm5ZcQQ8UMUEe6zNB\"},\"shape\":[153],\"dtype\":\"float32\",\"order\":\"little\"}],[\"topic\",[\"Artificial Intelligence Policy\",\"Artificial Intelligence Policy\",\"Artificial Intelligence Policy\",\"Artificial Intelligence Policy\",\"Artificial Intelligence Policy\",\"Artificial Intelligence Policy\",\"Artificial Intelligence Policy\",\"Others\",\"Artificial Intelligence Policy\",\"Artificial Intelligence Policy\",\"Artificial Intelligence Policy\",\"Artificial Intelligence Policy\",\"Artificial Intelligence Policy\",\"Artificial Intelligence Policy\",\"Artificial Intelligence Policy\",\"Artificial Intelligence Policy\",\"Artificial Intelligence Policy\",\"Artificial Intelligence Policy\",\"Artificial Intelligence Policy\",\"Artificial Intelligence Policy\",\"Artificial Intelligence Policy\",\"Artificial Intelligence Policy\",\"Artificial Intelligence Policy\",\"Artificial Intelligence Policy\",\"Artificial Intelligence Policy\",\"Artificial Intelligence Policy\",\"Artificial Intelligence Policy\",\"Artificial Intelligence Policy\",\"Artificial Intelligence Policy\",\"Artificial Intelligence Policy\",\"Artificial Intelligence Policy\",\"Artificial Intelligence Policy\",\"Artificial Intelligence Policy\",\"Artificial Intelligence Policy\",\"Artificial Intelligence Policy\",\"Artificial Intelligence Policy\",\"Artificial Intelligence Policy\",\"Artificial Intelligence Policy\",\"Artificial Intelligence Policy\",\"Artificial Intelligence Policy\",\"Artificial Intelligence Policy\",\"Artificial Intelligence Policy\",\"Artificial Intelligence Policy\",\"Artificial Intelligence Policy\",\"Artificial Intelligence Policy\",\"Artificial Intelligence Policy\",\"Artificial Intelligence Policy\",\"Artificial Intelligence Policy\",\"Artificial Intelligence Policy\",\"Artificial Intelligence Policy\",\"Artificial Intelligence Policy\",\"Artificial Intelligence Policy\",\"Artificial Intelligence Policy\",\"Artificial Intelligence Policy\",\"Artificial Intelligence Policy\",\"Artificial Intelligence Policy\",\"Artificial Intelligence Policy\",\"Artificial Intelligence Policy\",\"Artificial Intelligence Policy\",\"Artificial Intelligence Policy\",\"Artificial Intelligence Policy\",\"Artificial Intelligence Policy\",\"Artificial Intelligence Policy\",\"Artificial Intelligence Policy\",\"Artificial Intelligence Policy\",\"Artificial Intelligence Policy\",\"Artificial Intelligence Policy\",\"Artificial Intelligence Policy\",\"Artificial Intelligence Policy\",\"Artificial Intelligence Policy\",\"Artificial Intelligence Policy\",\"Artificial Intelligence Policy\",\"Artificial Intelligence Policy\",\"Artificial Intelligence Policy\",\"Artificial Intelligence Policy\",\"Artificial Intelligence Policy\",\"Artificial Intelligence Policy\",\"Artificial Intelligence Policy\",\"Artificial Intelligence Policy\",\"Artificial Intelligence Policy\",\"Artificial Intelligence Policy\",\"Artificial Intelligence Policy\",\"Artificial Intelligence Policy\",\"Artificial Intelligence Policy\",\"Artificial Intelligence Policy\",\"Artificial Intelligence Policy\",\"Artificial Intelligence Policy\",\"Artificial Intelligence Policy\",\"Artificial Intelligence Policy\",\"Artificial Intelligence Policy\",\"Artificial Intelligence Policy\",\"Artificial Intelligence Policy\",\"Artificial Intelligence Policy\",\"Others\",\"Artificial Intelligence Policy\",\"Artificial Intelligence Policy\",\"Artificial Intelligence Policy\",\"Artificial Intelligence Policy\",\"Artificial Intelligence Policy\",\"Artificial Intelligence Policy\",\"Artificial Intelligence Policy\",\"Artificial Intelligence Policy\",\"Artificial Intelligence Policy\",\"Artificial Intelligence Policy\",\"Artificial Intelligence Policy\",\"Artificial Intelligence Policy\",\"Artificial Intelligence Policy\",\"Artificial Intelligence Policy\",\"Artificial Intelligence Policy\",\"Artificial Intelligence Policy\",\"Artificial Intelligence Policy\",\"Artificial Intelligence Policy\",\"Artificial Intelligence Policy\",\"Artificial Intelligence Policy\",\"Artificial Intelligence Policy\",\"Artificial Intelligence Policy\",\"Others\",\"Artificial Intelligence Policy\",\"Artificial Intelligence Policy\",\"Artificial Intelligence Policy\",\"Artificial Intelligence Policy\",\"Artificial Intelligence Policy\",\"Artificial Intelligence Policy\",\"Artificial Intelligence Policy\",\"Artificial Intelligence Policy\",\"Artificial Intelligence Policy\",\"Artificial Intelligence Policy\",\"Artificial Intelligence Policy\",\"Artificial Intelligence Policy\",\"Artificial Intelligence Policy\",\"Artificial Intelligence Policy\",\"Artificial Intelligence Policy\",\"Artificial Intelligence Policy\",\"Artificial Intelligence Policy\",\"Artificial Intelligence Policy\",\"Artificial Intelligence Policy\",\"Artificial Intelligence Policy\",\"Artificial Intelligence Policy\",\"Artificial Intelligence Policy\",\"Artificial Intelligence Policy\",\"Artificial Intelligence Policy\",\"Artificial Intelligence Policy\",\"Artificial Intelligence Policy\",\"Artificial Intelligence Policy\",\"Artificial Intelligence Policy\",\"Artificial Intelligence Policy\",\"Artificial Intelligence Policy\",\"Artificial Intelligence Policy\",\"Artificial Intelligence Policy\",\"Artificial Intelligence Policy\",\"Artificial Intelligence Policy\",\"Others\",\"Artificial Intelligence Policy\"]],[\"id\",[0,1,2,3,4,5,6,7,8,9,10,11,12,13,14,15,16,17,18,19,20,21,22,23,24,25,26,27,28,29,30,31,32,33,34,35,36,37,38,39,40,41,42,43,44,45,46,47,48,49,50,51,52,53,54,55,56,57,58,59,60,61,62,63,64,65,66,67,68,69,70,71,72,73,74,75,76,77,78,79,80,81,82,83,84,85,86,87,88,89,90,91,92,93,94,95,96,97,98,99,100,101,102,103,104,105,106,107,108,109,110,111,112,113,114,115,116,117,118,119,120,121,122,123,124,125,126,127,128,129,130,131,132,133,134,135,136,137,138,139,140,141,142,143,144,145,146,147,148,149,150,151,152]],[\"content\",[\"i\\\\n \\\\n \\\\n \\\\n \\\\n \\\\n \\\\n \\\\n \\\\n \\\\n \\\\n \\\\n \\\\n \\\\n \\\\n \\\\n \\\\n \\\\n \\\\n \\\\n \\\\n \\\\n \\\\n \\\\n \\\\n                        Draft\\\\nNational\\\\n \\\\nArtificial Intelligence Policy\\\\n \\\\n \\\\n \\\\n \\\\n \\\\n \\\\n \\\\n \\\\n \\\\n \\\\n \\\\n \\\\n \\\\n \\\\n \\\\n \\\\n \\\\n \\\\n \\\\n \\\\n \\\\n \\\\n \\\\n \\\\nGovernment of Pakistan\\\\nMinistry of Information Technology &amp; Telecommunication\\\\nhttps://moitt.gov.pk\",\"ii \\\\n \\\\nAcknowledgments \\\\nThe Government of Pakistan, Ministry of IT &amp; Telecom , pays its gratitude to all the officials  and consultants, \\\\nparticularly RSM Pakistan and GlowBug Technologies (Pvt.) Ltd. , facilitators, developers, and stakeholders who \\\\nrigorously and relentlessly participated in the revi ew, drafting, harmonizing, and ratification of the National \\\\nArtificial Intelligence Policy \\\\u2013 2022, helping the Ministry with an all -inclusive user -centric, evidence -based, \\\\nforward-looking, and...\",\"iii \\\\n \\\\nTable of Contents \\\\n1 Executive Summary ................................................................................................................................ 6 \\\\n2 Introduction and Context ....................................................................................................................... 7 \\\\n2.1 Why Pakistan Needs AI Policy ........................................................................................................7 \\\\n2.2 The State of AI in Pakistan....\",\"3.1 Vision ..............................................................................................................................................8 \\\\n3.2 Scope ..............................................................................................................................................8 \\\\n3.3 Objectives .......................................................................................................................................8 \\\\n3.4 Policy Drivers and Targets ........\",\"3.4.2 The National AI Targets ................................................................................................. 9 \\\\n4 Policy Directives ..................................................................................................................................... 1 \\\\n4.1 1st Pillar: AI Market Enablement ....................................................................................................1 \\\\n4.1.1 National Artificial Intelligence Fund (NAIF) ........................\",\"4.1.4 Data and Computational Infrastructure ........................................................................ 7 \\\\n4.2 2nd Pillar: Enabling AI through Awareness &amp; Readiness .................................................................7 \\\\n4.2.1 Public Awareness of AI .................................................................................................. 7 \\\\n4.2.2 Research and Development ........................................................................................10 \\\\n...\",\"4.3.1 Regulating to Accelerate Socio-Economic Adoption ...................................................11 \\\\n4.3.2 Generative AI ...............................................................................................................13 \\\\n4.3.3 Sandboxing for AI Deployment ....................................................................................13 \\\\n4.3.4 Supporting International Collaboration ......................................................................14 \\\\n4.4 4th Pilla...\",\"4.4.3 Public/Private Sector Evolution ...................................................................................15 \\\\n5 Policy Implementation &amp; Review .........................................................................................................15 \\\\n5.1 Steering/Management Committee ............................................................................................. 15 \\\\n5.2 Working Groups .....................................................................................\",\"iv \\\\n \\\\n6 Definitions ............................................................................................................................................17 \\\\n7 Acronyms ..............................................................................................................................................17 \\\\n8 Annex I \\\\u2013 Sectoral Survey Regarding AI Adoption, Challenges and Opportunities in Pakistan............19 \\\\n8.1 Sectoral identification ...............................................\",\"3.2.1. G1 \\\\u2013 Awareness and Adaptation Challenges ...............................................................23 \\\\n3.2.2. G2 \\\\u2013 Data Standardization and Accessibility ...............................................................24 \\\\n3.2.3. G3 \\\\u2013 Computational Infrastructure Situation and Needs ............................................24 \\\\n3.2.4. G4 \\\\u2013 Ethical Challenges................................................................................................25 \\\\n9 References ..................\",\"5 \\\\n \\\\nForeword \\\\nThrough its continued efforts toward the early realization of the Digital Pakistan vision of the Government \\\\nof Pakistan, the Ministry of IT &amp; Telecom is committed to providing its people with timely and equal access \\\\nto opportunities by stimulating a culture of innovation through an overarching de velopmental agenda \\\\norchestrated to embrace cutting -edge technologies such as Artificial Intelligence efficiently and \\\\nresponsibly.   \\\\nIn this regard, the Artificial Intelligence (AI) ...\",\"Furthermore, the policy aims to go beyond the meagre approach of adopting technology to fundamentally \\\\nrethink AI adoption in the local context so that new growth areas can be identified and intervened in  \\\\nconsidering the existing job market \\\\u2019s relevance while empathizing with the growing population of the \\\\ncountry. This policy stems from the \\\\u201cAI for good\\\\u201d initiative by the International Telecommunication Union \\\\nand the Sustainable Development Goals set forth by the United Nations. \\\\n Considerin...\",\"Pakistan aims to revitalize its resolve toward digitalization , which will involve processing personal data \\\\nthrough AI. To this end, the said policy coherently interlaces with the Personal Data Protection Act, Pakistan \\\\nCloud First Policy, and the Digital Pakistan Policy initiatives.\",\"6 \\\\n \\\\n1 Executive Summary \\\\nPakistan has a unique opportunity to harness digital disruption by educating an eager young population \\\\nthat can potentially propel the n ation onto a growth trajectory to sustain our future national \\\\ncompetitiveness and improve the lives of citizens. Artificial Intelligence (AI) represents the next frontier of \\\\ntechnological opportunities, and it has been widely proven and understood that the collection, processing, \\\\nuse, and exchange of data through automated/intellig...\",\"conclusion that it needs to chalk out a developmental roadmap for better, faster and responsible adoption \\\\nof AI in the country. For that, the policy document is put in place to reap long-term and sustainable benefits \\\\nfor its people. \\\\nThe policy document offers a wide range of developmental initiatives necessary for awareness and \\\\nadoption, reimagining the transparent and fair use of personal data using AI and stimulating innovation \\\\nthrough industry-academia collaborations and investments in A...\",\"\\\\u2022 Objective and Overarching \\\\nThe AI policy further aims to augment AI and allied technologies through balanced demand and supply -\\\\nside interventions, as briefly described below.  \\\\n\\\\u2022 Market Enablement - Establishment of research &amp; innovation centers in AI for developing, test-\\\\nbedding, deploying, and scaling AI solutions.  This includes learning how to improve governance \\\\nand manage the impact of AI. \\\\n\\\\u2022 Progressive and Trusted Environment \\\\u2013 Responsible use of AI to generate economic gains and \\\\ni...\",\"necessary competencies to participate in the AI economy. \\\\n\\\\u2022 Transformation &amp; Evolution - Transformation of sectors and industries towards effective use of \\\\nAI, facilitated by national IT boards through creating awareness and offering training pr ograms \\\\nthrough sectoral cooperation.\",\"7 \\\\n \\\\n2 Introduction and Context \\\\n2.1 Why Pakistan Needs AI Policy \\\\nThe need for National AI Policy is to create a broad-based awareness of the use of AI-based platforms while \\\\nkeeping privacy at the forefront, upskilling human capital on AI and allied technologies, guiding investment \\\\nin AI research and development, ensuring ethical and responsible use of AI, and provide a framework for \\\\naddressing the challenges and risks associated with the socio-economic outfit of the country. \\\\nThe AI policy ...\",\"data. This investment should include funding for establishing research organizations that have a \\\\nsustainable mandate of basic research, data standardization, providing support to the government \\\\nfor regul atory and legal interventions regarding AI, maintaining a central computational \\\\ninfrastructure, data storage facilities, and partnerships with universities and research institutions \\\\nboth domestically and internationally.  This investment should also include  training programs to \\\\nbuild the n...\",\"used to discriminate against individuals or groups and that its use is transparent and accountable. \\\\n\\\\u2022 Job Displacement: The AI policy addresses the potential job displacement that could result from \\\\nthe global proliferation of AI. This includes investing in training programs to help existing and new \\\\nworkforce acquire the skills to adapt to changing job requirements. \\\\n\\\\u2022 AI can help to promote econo mic growth by encouraging investment in AI research and \\\\ndevelopment. This investment can lead to...\",\"\\\\u2022 AI policy can help ensure that AI&#x27;s benefits  are shared equitably across society. This includes \\\\naddressing issues such as bias and discrimination and ensuring that the benefits of AI are not \\\\nconcentrated in the hands of a few. \\\\n2.2 The State of AI in Pakistan \\\\nPakistan has a population of 224 million as of 2022 and is predicted to reach 338 million by 2050 [2], with \\\\na current literacy rate of around 62.3% [3]. Moreover, Pakistan is considered the fifth largest country in the \\\\nworld in term...\",\"register notable efforts through public/private interventions as follows: \\\\n\\\\u2022 Presidential Initiative for Artificial Intelligence &amp; Computing (PIAIC) \\\\n\\\\u2022 Center for Artificial Intelligence and Computing (CENTAIC) \\\\n\\\\u2022 National Center of Artificial Intelligence (NCAI)  \\\\n\\\\u2022 Sino-Pak Center for Artificial Intelligence (SPCAI) \\\\nThese timely initiatives have performed well in their domains and need continuity to achieve long -term \\\\ntargets. To achieve the AI-accelerated socio-economic development urgently...\",\"8 \\\\n \\\\n3 Vision, Scope &amp; Objectives \\\\n3.1 Vision \\\\nOwing to the impact of AI globally and its local adoption and implications, the Government of Pakistan \\\\nenvisions: \\\\n\\\\u201cTo Embrace AI by appreciating Human Intelligence and stimulating a Hybrid Intelligence \\\\necosystem for equitable, responsible, and transparent use of AI.\\\\u201d \\\\n3.2 Scope \\\\nThe policy framework is envisaged to provide a complete AI-enabling ecosystem in Pakistan, covering all \\\\naspects of awareness, skill development, standardization, and eth...\",\"Training and upskilling human capital in AI at all \\\\nlevels to address  the needs and demands of the \\\\nmarket efficiently. \\\\nIntegrating AI in to the National Curriculums at all \\\\nlevels is essential from a necessity, application, and \\\\nuse standpoint. \\\\nEnsure the ethical use of AI through inclusive and \\\\nforward-looking guidelines. \\\\n \\\\nIncreasing public awareness to facilitate the \\\\nadoption of AI sustainably. \\\\nProvide an enabling platform for AI with appropriate \\\\nsandbox and agile regulatory arrangeme...\",\"resources for the responsible use of organized \\\\ndatasets. \\\\n Strengthen international collaboration with both \\\\nacademia and industry. \\\\n3.4 Policy Drivers and Targets \\\\nThe policy drivers help navigate th e identified gaps and challenges by orchestrating a journey -based \\\\napproach comprising four defining pillars of development and responsibility, complimented by progressive \\\\ntargets for effective policy implementation. \\\\n3.4.1 The Drivers \\\\nThrough the challenges and gaps, the policy lays a fundamen...\",\"9 \\\\n \\\\n3.4.1.1 1st Pillar: Enabling AI through Awareness and Readiness \\\\nThe first pillar will focus on societal preparation in becoming increasingly aware  of the potential benefits \\\\nof AI, deployment requirements, and adopting measures for establishing readiness towards AI adoption. \\\\nTargeted interventions achieve this in meeting the societal gaps. The interventions include awareness \\\\nproliferation programs re lated to AI, improving the quality of R&amp;D in AI through applied research, and \\\\nfurther ...\",\"Massive Open Online Courses (MOOCs) Platforms. The initiative aims to meet the societal gaps of \\\\nAwareness and Adaptation Challenges (G1). \\\\n3.4.1.2 2nd Pillar: AI Market Enablement  \\\\nThe second pillar will help organize matters related to establishing an ecosystem to facilitate the \\\\ndevelopment and deployment of AI. This includes steps taken to address the identified societal challenges, \\\\nincluding Awareness and Adaptation Challenges  (G1), Data Standardization and Accessibility (G 2), and \\\\nComp...\",\"Awareness and Adaptation Challenges (G1) and Ethical Challenges (G4) to ensure the safe and responsible \\\\nuse of AI and associated technologies.  \\\\n3.4.1.4 4th Pillar: Transformation &amp; Evolution  \\\\nThis pillar focuses on developing roadmaps for each sector of society, including governance , so  the \\\\nnecessary evolution toward AI adoption can be achieved. During the process, several interventions are \\\\nhighlighted to facilitate this transformation, including industrial transformation and sandboxing. ...\",\"addressed through subsequent policy interventions with a definite yet simple approach presenting a \\\\nbandwagon of tangible opportunities having the following attributes: \\\\na. The proposed targets are highly focused and inclusive. \\\\nb. The said targets are simple, realistic, and achievable. \\\\nc. The targets offer a reasonable amount of time for its initiation and achieving desired results with \\\\nimpact registration. \\\\nd. The offered targets can be reviewed quantifiably. \\\\ne. As explained later in the do...\",\"10 \\\\n \\\\n                           \\\\nS.No. Pillar Target Description Current State Desired State Timeline \\\\n1.  \\\\nEnabling AI \\\\nthrough \\\\nAwareness &amp; \\\\nReadiness \\\\nTarget-1 \\\\n \\\\nPublic Awareness \\\\nof AI &amp; Allied \\\\nTechnologies \\\\n \\\\nThe level of awareness regarding AI and its \\\\npotential applications for socio-economic \\\\ndevelopment by addressing societal \\\\nchallenges is considerably low.  \\\\n \\\\nA comprehensive program regarding public \\\\nawareness of AI &amp; allied technologies shall be \\\\nundertaken at the national level ...\",\"skilled human \\\\ncapital and \\\\nupskilling the \\\\nexisting workforce \\\\nLess than 10% of the current workforce \\\\nworking in computing and IT is skilled in AI \\\\nand Allied Technologies [Survey conducted \\\\nby MoITT in 2022]. \\\\nThe aim is to train 1 million new and existing \\\\nresources IT graduates in high-impact applied \\\\nskills in AI and Allied Technologies by using \\\\nsustainable models for imparting education. \\\\nTo achieve this, at least 10,000 new trainers \\\\nwill be required to impart high-impact AI &amp; \\\\nAllied T...\",\"be initiated to offer incentives for the on-job \\\\ntraining, especially for IT-certified/graduate \\\\nprofessionals annually.  The goal is to equip at \\\\nleast 60% of IT graduates specializing in the \\\\nlatest technologies annually. \\\\nBy 2025 \\\\nHigher Education \\\\nScholarships \\\\nCurrently, HEC, in partnership with friendly \\\\ncountries, offers scholarships to students for \\\\npost-graduate and doctoral studies locally \\\\nand abroad with a limited focus on AI. \\\\nA separate fund shall increase the \\\\nscholarships in AI a...\",\"11 \\\\n \\\\nAwareness and \\\\nupskilling in the \\\\npublic sector \\\\nCurrently, no programs/initiatives focus on \\\\nthe awareness and upskilling of civil \\\\nservants and the public sector in AI and its \\\\napplications. \\\\nTo develop an awareness of applied AI for all \\\\nGrade 12 to Grade 22 employees, including \\\\ntechnocrats and other allied staff working in \\\\ndifferent departments and institutions at \\\\nfederal and provincial levels. \\\\nIntroduce a skill development drive for public \\\\nsector employees in AI and Allied \\\\nTechn...\",\"and the industry through available Funding \\\\nChannels organized by the public sector. \\\\nThis approach shall be bifurcated. Firstly, an \\\\nR&amp;D focus targeting national AI initiatives \\\\nwith short- and long-term tangible \\\\ndeliverables shall be initiated. Secondly, at \\\\nleast 1,000 AI-led R&amp;D initiatives shall be \\\\nfunded in academia and the private sector via \\\\nfiscal and non-fiscal support. \\\\nBy 2026 \\\\nApplied \\\\nResearch/Thesis \\\\nsupports AI and \\\\nallied technologies. \\\\nVery limited linkage between journals, \\\\n...\",\"criteria to support publishing in high-impact \\\\nfactor journals and conferences to achieve \\\\nglobal recognition.  \\\\nBy 2025 \\\\nYoY \\\\ngrowth of \\\\n30% till \\\\n2030. \\\\nIntellectual \\\\nProperty \\\\nRegistration for AI-\\\\nled Products &amp; \\\\nSolutions from \\\\nPakistan \\\\nCurrently, limited Patents have been \\\\nregistered from Pakistan concerning AI and \\\\nallied technologies-led products/solutions. \\\\nTo help file over 2,000 patents in AI-led \\\\nproducts and solutions from Pakistan. \\\\nBy 2026\",\"12 \\\\n \\\\nTarget-4 \\\\nAlgorithms, Data \\\\nScience, and AI in \\\\nBasic Education \\\\nAt present, AI is only limited to \\\\nundergraduate and post-graduate programs \\\\nrelated to ICT. No other curriculum or \\\\nprogram offers Data Science and AI as a \\\\nprimary curriculum object. \\\\nTo formulate and inculcate Data Science and \\\\nAI as part of STEM education in schools and \\\\ncolleges, undergraduate and postgraduate \\\\nprograms in all disciplines by imparting basic \\\\nskills education in the given subject(s). \\\\nBy 2025 \\\\nSpecial Pro...\",\"advanced technologies in AI and Data Science \\\\nwhile incorporating PWDs and marginalized \\\\nWomen through inclusion in Digiskills.pk \\\\nProgram and other such initiatives in the \\\\nprovinces. \\\\nBy 2024 \\\\n2.  AI Market \\\\nEnablement \\\\nTarget-5 \\\\nNational AI Fund The Ignite Technology Fund is mandated to \\\\nbroadly support R&amp;D Initiatives, \\\\nEntrepreneurship, and Skill Development in \\\\nICTs. \\\\nThere is no special provision for Hi-Tech, \\\\nespecially AI and allied Technologies, at \\\\npresent. \\\\nTo establish National AI F...\",\"in Karachi, Lahore, and Islamabad. \\\\nSino-Pak Center for Artificial Intelligence at \\\\nPAF-IAST, Haripur, is also making tangible \\\\nefforts to impart higher education and \\\\nsupport Research &amp; Development in AI and \\\\nAllied Technologies. \\\\nHowever, there are no regional/central hubs \\\\nfor AI and Allied Technologies offering \\\\nTo develop a Center of Excellence in AI (CoE-\\\\nAI) in Karachi, Lahore, and Islamabad with \\\\nAuxiliary AI Centers in Peshawar, Quetta, \\\\nMultan, Faisalabad, and Gilgit for harnessing \\\\nAI...\",\"13 \\\\n \\\\nacross-the-board opportunities for high-\\\\nimpact skill development, applied R&amp;D, \\\\ncomputational resources, test beds, and \\\\nsandboxes in AI \\\\n\\\\u2022 Developing nationwide civic and social \\\\ninitiatives using AI. \\\\n\\\\u2022 Assisting the regulator in organizing \\\\nsandbox and other regulatory measures \\\\nfor the responsible use of AI. \\\\n \\\\nTarget-7 \\\\nCompute \\\\nInfrastructure along \\\\nwith High Tech \\\\nLabs, Tools, and \\\\nTestbeds for AI &amp; \\\\nAllied Technologies \\\\nCurrently, only two HCI facilities are \\\\npurpose-built for AI ...\",\"concerning Civic \\\\nand Social issues \\\\nOther than the COVID-19 Track and Trace \\\\nSystem developed by NITB, no other \\\\nplatforms extensively use AI-led models for \\\\ncivic and social applications. \\\\nTo support at least 50 initiatives for civic and \\\\nsocial support projects using AI and Allied \\\\nTechnologies as the underlying technology. \\\\nBy 2026 \\\\n3.  \\\\nBuilding a \\\\nProgressive &amp; \\\\nTrusted \\\\nEnvironment \\\\nTarget-9 \\\\nProliferating AI and \\\\nAllied Technologies \\\\nResponsibly \\\\nThe National Commission for Data \\\\nProtect...\",\"By 2024 \\\\nTarget-\\\\n10 \\\\nAgile Regulatory \\\\nEcosystem \\\\nSECP offers a regulatory sandbox for \\\\ndifferent use cases, effectively using AI and \\\\nAllied Technologies for Algorithmic Trading, \\\\nRobotics, and other ML/DL applications in \\\\nthe prescribed area of focus. \\\\nTo establish a Regulatory sandbox for AI-led \\\\ninitiatives with focused automation on data \\\\ncontrolling and processing using unique AI \\\\nmodels for different academic and \\\\ncommercial applications. \\\\nBy 2025\",\"14 \\\\n \\\\nAn Integrated Regulatory Sandbox for \\\\ndifferent research-based platforms and \\\\ncommercial applications focusing on AI-led \\\\napplications is yet to be organized. \\\\nTarget-\\\\n11 \\\\nHarnessing AI \\\\nthrough Global Best \\\\nPractices \\\\nSino-Pak Center for AI and other \\\\ncollaborations are organized at the \\\\nacademic level in different sectors. \\\\nThere are no documented commercial \\\\npartnerships for AI at the \\\\nbilateral/multilateral level in place.  \\\\nTo engage in partnerships with multilateral AI \\\\nprograms and ...\",\"leading AI adopters globally by having at least \\\\nthree partnerships in Asia Pacific Region, 3 in \\\\nthe EU, 2 in African Union, and 3 in North \\\\nAmerica on a G2G basis.  \\\\nBy 2025 \\\\nTarget-\\\\n12 \\\\nAccess to Open \\\\nGroups and Trained \\\\nModels \\\\nCurrently, the private sector is engaged with \\\\nOpen-AI, Open-Source Foundation (OSFP) \\\\nplatform, and other organizations with no \\\\ninstitutional support for such individuals or \\\\norganizations to set up and showcase their \\\\napplied skillset and research work.  \\\\nTo partn...\",\"to such platforms annually.   \\\\nBy 2024 \\\\n4.  Transformation \\\\n&amp; Evolution \\\\nTarget-\\\\n13 \\\\nTransforming the \\\\nPublic Sector \\\\nthrough AI &amp; Allied \\\\nTechnologies \\\\nThe National/Provincial IT Boards and other \\\\nNational Institutions, such as PTV, SECP, \\\\nFBR, Monetary Institutions, etc., have \\\\nlimited or no local establishments for \\\\ncontrolling and/or processing large data \\\\nEstablish a National/Provincial Data \\\\nRepository(s) to access different datasets \\\\nusing Sandboxes for public and private sector \\\\napplicat...\",\"15 \\\\n \\\\nlakes using AI. Only NADRA is equipped to \\\\norganize and manage data using trained AI \\\\nmodels at scale. \\\\nTo upgrade existing Data Centers \\\\nInfrastructure to HCI and organize access to \\\\nsuch data lakes via sandbox.  \\\\nTarget-\\\\n14 \\\\nEnabling Academia \\\\nthrough AI &amp; Allied \\\\nTechnologies   \\\\nThere is no central hub for academia to use \\\\nresources on a shared model for \\\\npracticing/training developed AI models and \\\\napplying them in a controlled environment \\\\nto learn the outcome and improve them for \\\\nac...\",\"infrastructure at CoE-AI.  \\\\nTo help academia register, apply, and train \\\\n150 unique models annually. \\\\n \\\\n \\\\nBy 2025 \\\\n \\\\nTarget-\\\\n15 \\\\nSectorial Support \\\\nvia AI &amp; Allied \\\\nTechnologies \\\\nDue to a lack of local data and other \\\\ncomputing resources, almost 100% of the \\\\nindustry uses AI infra from Opensource \\\\nplatforms and/or public cloud-based AI \\\\nproducts for integration into their products \\\\nand services. \\\\nTo provide access to sectorial data and infra \\\\nat CoE-AI for PoCs, Commercial Pilots, and \\\\nother tes...\",\"1 \\\\n \\\\n4 Policy Directives \\\\nThe policy directives are minimalistic, focusing on resolving issues and achieving targets set for stimulating \\\\ngrowth in AI across the board. Empathizing with  the common person&#x27;s journey  for different aspects \\\\nassociated with their socio-economic development and well-being in the current technological disruption \\\\nis driven through the following developmental pillars. \\\\n4.1 1st Pillar: AI Market Enablement \\\\n4.1.1 National Artificial Intelligence Fund (NAIF)  \\\\nGiven the...\",\"to establish a National AI Fund with following objectives. \\\\nI. In accordance with the stipulations of clauses 33D (II) &amp; (III) of the Telecommunication Re -\\\\norganization Act 1996 (amended 2006), the Ministry of IT &amp; Telecom, while exercising its right to \\\\nissue policy directives, shall direct the Research &amp; Development Fund (Ignite \\\\u2013 Technology Fund) \\\\nto allocate a part (not less than 30%) of its funds to NAIF on a perpetual basis for the research and \\\\ndevelopment of AI and allied technologies. ...\",\"policy or as directed by the Federal Government of Pakistan via the Ministry of IT &amp; Telecom from \\\\ntime to time. \\\\nIV. The Ministry of IT &amp; Telecom shall allocate a budget through PSDP funds as Initial Working Capital \\\\nto support the initiative expeditiously in the first two (2) years. \\\\nV. Once the organization is formed and Funds are allocated and transferred into NAIF from the \\\\nNational ICT R&amp;D Fund, all the ongoing and subsequent programs shall be organized through the \\\\nperpetual Fund. \\\\nVI. Th...\",\"backgrounds in high -tech (especially AI &amp; allied technologies development), representatives of \\\\nIgnite R&amp;D Fund BoD , and the government (ex -officio). It shall be chaired by Secretary/Member \\\\nIT. \\\\nVIII. NAIF shall be able to raise funds through international grants/aids from bilateral and multilateral \\\\nplatforms, co -invest with local/international hi -tech organizations, provide a bridge between \\\\nglobal VCs/CVCs , and incubate R&amp;D initiatives and startups for early commercialization and \\\\nsust...\",\"2 \\\\n \\\\nXI. The Fund shall function under a Chief Executive Officer hired from the industry on open merit. The \\\\nterm, experience, expertise, remunerations, perks, and privileges will be formulated by NAIF (BoD) \\\\nthrough a reputable local/international Human Resource Consultant. \\\\nXII. The CEO shall be responsible for implementing the directions provided in this policy within the \\\\ntimelines offered in the targets with utmost transparency and accountability. \\\\nXIII. The NAIF Fund shall be audited annua...\",\"nationwide network of Centers of Excellence for the expeditious and responsible development of AI and \\\\nallied technologies. \\\\nThe CoE-AI shall be established on the following foundational principles: \\\\nI. The CoE -AI shall be demand -driven and focuses on a sectorial approach while organizing its \\\\nstrategic vision and principles. \\\\nII. The institution shall be directly funded through the National AI Fund and be established in a two-\\\\ntiered model. \\\\nIII. The first tier of the organization shall be a ...\",\"as Peshawar, Quetta, Faisalabad, and Hyderabad. \\\\nIV. The centers shall prioritize their area of focus based on the industry(s)/sector(s) surrounding them \\\\nin their jurisdiction; however, there shall be no limit to choosing any sector/industry for \\\\ndevelopmental initiatives. \\\\nV. These centers shall be organized in public -private partnership s and preferably in commercial \\\\nvicinity to ensure active p articipation of the industry for cultivating demand -driven research, \\\\ninnovation, and commercial...\",\"term. They shall be permitted to generate income for meeting operational expenses by rendering \\\\ntheir services and resources for prescribed functions. \\\\nVIII. The CoE-AI and auxiliary centers shall operate on a \\\\u201czero equity\\\\u201d model.  They shall only be able \\\\nto charge a minimum fee for different activities facilitated and services delivered by these centers. \\\\nIX. The CoEs and the auxiliary centers shall be mandated to perform the following functions: \\\\na. Facilitate demand-driven R&amp;D in AI and alli...\",\"c. Curriculum development and management in AI and allied technologies at primary, secondary, \\\\nand higher education levels for imparting education at the grass -root level in collaboration \\\\nwith the National/Provincial Board(s)/Directorate(s). \\\\nd. Short-term, high -impact skill development and assessment in AI and allied technologies in \\\\npartnership with local/international institution(s).\",\"3 \\\\n \\\\ne. Offer avenues for hands -on training a nd internships in public/private sector institutions for \\\\ncertified and graduated individuals. \\\\nf. Support research and academic  theses work for high -tech initiatives in conjunction with \\\\nHEC/HEDs. \\\\ng. Assist AI Regulator in Data Standardization and Management. \\\\nh. Facilitate regulator(s) with sectorial sandboxes for AI and allied technologies. \\\\ni. Offer digital/physical computing infrastructure through local and international partnerships.   \\\\nX. ...\",\"4.1.3 Catalyzing Social Development through AI by National Initiatives \\\\nFrom a global perspective of service/technology adoption, it is witnessed that the social sector usually \\\\nmisses out on the early adoption of cutting -edge technologies such as AI due to its magnitude, lack of \\\\ncoherence, and service complexities. On the contra ry, the sectorial approach is swift but in siloes, and \\\\ntherefore, desired performance targets are challenging. The Government of Pakistan is aware of data \\\\norchestra...\",\"Initiatives that shall be undertaken to bring AI applications into the mainstream to achieve socio-economic \\\\ndeliverables and ensure sustainable outcomes. \\\\n4.1.3.1  Data Standardization and Aggregation for Servicification \\\\nThe National and Provincial governments possess heterogeneous datasets through various verifiable and \\\\nunverifiable sources and require orchestration bottom -up for secure and transparent use. Suppose the \\\\nsocial data is standardized and made available by the private sector fo...\",\"I. The CoE-AI shall organize a common and sectoral data collection and processing mechanism for \\\\nunstructured, semi-structured, and structured datasets for the data available in the public sector \\\\nand accessible through market regulators for the private sector. \\\\nII. CoE-AI shall undertake the data standardization in t he identified priority social sectors under a \\\\nCommon Operating Environment (COE) such as Healthcare, Legal, Public Facilitation Services, \\\\nEducation, Food Security, and essential ...\",\"operating in various departments/institutions. Furthermore, the a vailable data should be \\\\navailable to these National/Provincial IT Boards to develop a standard data exchange system.  \\\\nIV. In another scenario, where there is yet to be digitized for seamless collection, especially in the \\\\nidentified social sectors, the National/Provincial IT Boards in support of CoE-AI, while exercising \\\\ntheir mandate, shall assist such National/Provincial institutions in digitizing data on the given \\\\nstandards ...\",\"4 \\\\n \\\\nNational/Provincial IT Boards shall act as controllers and processors of such data while assisting \\\\nthe concerned department(s) in secure and effective service provisioning. \\\\nVI. All such data shall be well backed up on the industry\\\\u2019s best practices and made available in a \\\\ncontrolled environment to CoE -AI to acce ss and use to develop different AI algorithms for \\\\ndata/system integrations and intelligent service offerings through prescribed processes with \\\\nincremental value addition.  \\\\nVII...\",\"AI shall support in indigenization of computer vision technology by standardization targeting high \\\\naccuracy of person and object detection. Computer Vision -based surveillance application poses \\\\nsignificant potential to contribute to the safety of citizens. Therefore, CoE-AI shall accelerate the \\\\ntechnology rollout to even smaller cities in Pakistan. \\\\nAll the identified institutions in clause vide 4.1.3.1 (I-VIII) above are hereby directed based on constitutional \\\\nstipulations to work coherentl...\",\"failure. Many Pakistanis have chronic diseases such as diabetes, hypertension, and high blood cholesterol. \\\\nThey may be unaware of these conditions as the symptoms may not be noticeable early on. However, these \\\\ndiseases can lead to severe complications such as heart attack, stroke, kidney failure, and even death if not \\\\nwell controlled. Similarly, one of the biggest challenges in AI proliferation in the healthcare secto r is the \\\\ndigitization of a massive volume of data available in hospitals a...\",\"controlling chronic diseases such as diabetes, hypertension, and high blood cholesterol. CoE-AI \\\\nshall develop guidelines for healthcare providers to become more productive and help patients \\\\ncontrol chronic disease conditions using the latest AI technology. \\\\nII. AI can analyze clinical data, medical images, health behavio rs, and genomic data to create a \\\\ncustomized individual risk score . This sco re can help individuals take appropriate preventive \\\\nmeasures and receive earlier and more target...\",\"Regulation and Coordination  to establish the framework of medical data standardiza tion along \\\\nwith the relevant organizations.  \\\\nIII. AI can support primary care doctors and care teams in developing personalized care plans \\\\nconsidering a patient\\\\u2019s risk profile. As each care team may look after many patients, AI can also \\\\nassist in monitoring the progress and alert care teams to patients whose progress shows cause for \\\\nconcern to take timely action. CoE-AI shall actively develop and support suc...\",\"5 \\\\n \\\\nactivity, take medication, and report for check-ups. As a result, citizens will enjoy improved health \\\\noutcomes and be empowered to better self -manage chronic diseases. CoE-AI shall support the \\\\nindigenization of AI products for personal healthcare. \\\\nV. CoE-AI shall undertake the d igitalization of medical data and its management . It would help \\\\nmaintain patients\\\\u2019 histories, which can be invaluable in precision medicine and R&amp;D. \\\\n4.1.3.3 Intelligent Learning and Assessment using AI \\\\nEvery...\",\"taught. The following points discuss the prospects of AI applications: \\\\nI. CoE-AI shall develop a comprehensive program to provide a personalized learning and assessment \\\\nmechanism by imparting AI -based adaptive skill assessment and training based on a modern \\\\ncurriculum. All these activities shall be organized in public-private partnerships. The program shall \\\\nbe managed through existing institutions, while CoE-AI shall only offer guidelines based on market \\\\nneeds and the latest technological ...\",\"program shall be spread nationwide , ensuring authenticity and transparency  of the trained \\\\nresources. \\\\n4.1.3.4 National IoT Data Cluster  \\\\nThe main challenge for the successful implementation of IoT Cloud-based services is the availability of data \\\\nin digital form and the standardization of the data. Unfortunately, Pakistan\\\\u2019s government and public \\\\norganizations are sitting on vast amounts of data that have yet to be digitalized and then standardized so \\\\nthat it can be used in predictive analy...\",\"II. CoE-AI shall p romote IoT -based applications. Improve the quality of Cloud and IoT -based \\\\ntechnologies and will provide state-of-the-art facilities for predictive analytics and the generation \\\\nof insights for various industries. \\\\nIII. The initiative shall invite local and international companies to provide IoT-based Cloud services on \\\\ncompetitive grounds. \\\\n4.1.3.5 Agriculture Supply Chain Optimization \\\\nThe biggest challenge in the agricultural sector regarding supply chain optimization is ...\",\"points discuss the prospects of AI applications: \\\\nI. The initiative under CoE -AI shall  provide predictive analytics for streamlining the supply and \\\\ndemand of the agricultural supply chain, which will assist in streamlining supply and demand \\\\nmechanisms through predictive analytics. In addition, it will help in reducing wastage by optimizing \\\\nthe inventory management system. \\\\nII. It will establish weather prediction systems to assist farmers in making informed decisions based \\\\non weather predi...\",\"6 \\\\n \\\\nIII. The program shall employ IoTs and sensor technology for soil monitoring systems. \\\\n4.1.3.6 E-Khidmat Centers 2.0  \\\\nPublic services are high -volume and resource -intensive, including varied domains such as healthcare, \\\\neducation, sanitation, energy, security, and other government services. Delayed or substand ard services \\\\nprovided to the public are common complaints shared by the public over time . S uch delays are \\\\ncounterproductive to the smooth running of daily life in cities. The f...\",\"more efficient. \\\\nIII. Centralized service delivery shall automate the regular paperwork and  reduce the employee \\\\nburden and associated expenses. It will also lead to the digitalization of public records. \\\\nIV. Chatbots will provide citizens with a quick response mechanism and improve t he quality of the \\\\nservices. \\\\n4.1.3.7 Weather Prediction and Analysis using AI \\\\nAvailability of data and its standardization is the fundamental issue that may hinder the utilization of \\\\ncentralized weather and sol...\",\"and agricultural operations.  CoE-AI shall undertake this initiative with the Ministry of Climate \\\\nChange and the Pakistan Meteorological Department. \\\\nII. This program shall provide the facility as a web service hosted on a local cloud at the national level \\\\nso that it can be used to boost renewable energy solutions and assist national energy management \\\\ncompanies in their operations. \\\\n4.1.3.8 Intelligent Communications Systems (Road/Rail/Air) \\\\nMobility is a significant challenge in Pakistan and...\",\"prospects of AI applications: \\\\nI. Predicting commuters\\\\u2019 behavior at micro -market levels to optimize the availability of \\\\ntransportation and maximize revenue growth. \\\\nII. Use AI to assess the affordability and accessibility of commuters to provide mobility services. \\\\nIII. Assess the future demographics of the society to plan the resources timely and assist in developing \\\\nstrategies and programs to help the government achieve social, economic, and environmental \\\\nobjectives using Railways. \\\\nIV. As...\",\"7 \\\\n \\\\nAI can play a critical role in reducing road accidents by analyzing the crash data available, providing insights \\\\nto avert collisions, and enhancing the response after the accidents. Besides autonomous cars that are now \\\\na reality, AI applications fuel lane-keeping systems, emergency brakes, and auto-parking systems. \\\\n4.1.4 Data and Computational Infrastructure \\\\nThis initiative includes standardizing the data of  State-Owned Enterprises (SoEs), Boards , and Civil \\\\nAuthorities for applying a...\",\"I. In consultation with stakeholders, the AI Regulatory Directorate (ARD) shall direct identified public \\\\nsector entities and Authorities to standardize their data for efficient and secure use.  \\\\nII. Using a sandbox-based licensing approach, such data shall then be made available for processing \\\\nto CoE-AI for research, analysis and servicification through public and/or private entities. \\\\nIII. CoE-AI shall provide the necessary infrastructure and partnerships with international AI platforms \\\\nfor ...\",\"environment.  \\\\nV. The CoE -AI shall procure a nd utilize existing computational resources for data controlling and \\\\nprocessing and shall also be able to develop partnerships with local/international AI entities, which \\\\nare beneficial for realizing definite objectives for improving the National Infrastructure for AI. \\\\nVI. Local Startups/SMEs and Enterprises shall be allowed to use such infrastructure, data , and other \\\\nresources in light of the directives of ARD. \\\\nVII. Security protocols may be d...\",\"academia. ARD will be responsible for arranging and maintaining the data standards. The \\\\nauthorities will process the data requests from the various sectors. Structure d, unique quality \\\\nassurance and control mechanisms will be followed to ensure data quality. Certified and \\\\nbenchmarked processes can be added internally, guiding a commitment to quality.  \\\\n4.2 2nd Pillar: Enabling AI through Awareness &amp; Readiness \\\\n4.2.1 Public Awareness of AI \\\\nFor the effective adoption of AI , its awareness must...\",\"different needs and applications for different user types. Awareness programs for cr eating general \\\\nawareness for society about AI and allied technologies are imperative if we want a successful proliferation \\\\nof AI at the grass-root level.  \\\\nI. To empower society to make knowledge-based decisions for personal data sharing and a basic \\\\nunderstanding of technologies such as AI, the Ministry of IT &amp; Telecom shall devise a National \\\\nAwareness Program for Personal AI adaptation.\",\"8 \\\\n \\\\nII. Ministry of IT &amp; Telecom may engage the Ministry of Information and Broadcasting and allied \\\\ndepartment(s), the PTA and licensees, and other relevant National/Provincial institutions to ensure \\\\nmaximum outreach of the program through print, broadcast, social media, and the internet.  \\\\nIII. Ministry of IT &amp; Telecom, through the CoE-AI, shall orchestrate important messages/content such \\\\nas technical writeups, breach and implication scenarios, pre ventive and remedial measures, and \\\\nany ot...\",\"V. While developing the content, special attention must be given to the silver segment of society, the \\\\nmarginalized section of women and Persons with Disabilities (PWDs).  \\\\nVI. Local/international private sector entities offering AI-led tools and services for data controlling and \\\\nprocessing shall be provided with necessary  instructions/regulations concerning data \\\\norchestration by the AI Directorate functioning under NCPDP.  \\\\nVII. The program shall be closely monitored and evaluated quarterly...\",\"based services and solutions to improve societal acceptance and modernization. \\\\nThe program shall contin ue to prevail beyond target achievement through sustainable partnerships for \\\\ncontinued inclusivity of the upcoming generation\\\\u2019s workforce Readiness.  \\\\nLike all other nations, one of the biggest challenges being faced by Pakistan towards cutting -edge \\\\ntechnologies is its over-arching nature which does not limit to any one faculty, industry vertical , or even \\\\nsector. This calls for a structu...\",\"a. The Center of Excellence in AI (CoE-AI) shall organize a nationwide high-impact skill development \\\\nprogram in collaboration with Virtual University , NAVTTC, and other private sector partners  of \\\\nlocal and international nature for training and upskilling youth and young professionals in AI and \\\\nallied technologies using hybrid learning mechanisms (online and onsite). \\\\nb. The program shall be based on the latest coursework and best practices, offer the latest tools and \\\\nlab facilities, and ac...\",\"recognized certification annually for the next five years to ensure that it provides for at least 10% \\\\nof the global workforce for AI and allied technologies for claiming its equitable share. \\\\ne. A \\\\u201cTrain the Trainer\\\\u201d stream through special bootcamps shall also be organized for the sustainable \\\\nexecution of the program. \\\\nf. 10,000 trainers shall be trained to impart high-impact education to youth in the next three years. \\\\nII. Internships &amp; On job Training in AI and Allied Technologies\",\"9 \\\\n \\\\na. The Ministry of IT &amp; Telecom , through CoE-AI, shall organize a \\\\u201c National High-Tech Internship \\\\nPlacement Program\\\\u201d for offering stipend based 3 to 6 months internships in collaboration with the \\\\nprivate sector locally and internationally.  \\\\nb. The internship program shall be organized through a definite scope and desirable targets, which a \\\\nprofessional and the employer organization shall be able to achieve through such an induction. \\\\nc. The program shall get the young professional a c ...\",\"minimum qualification criteria for this program shall be a certificate in AI and allied technologies \\\\nfrom a reputable educational institution locally or internationally (online/onsite)  for more \\\\nextensive inclusion. \\\\ne. The program shall continue a perpetual model with contributions from the public and private \\\\nsectors to address the demand and supply challenges coherently. \\\\nIII. Higher Education Scholarships &amp; Financing Program \\\\na. The CoE-AI, in collaboration with the Higher Education Commis...\",\"country on open merit. \\\\nc. A special quota of 500 seats on top of open merit seats shall be allocated to women and 100 seats \\\\nfor PWDs. \\\\nd. An annual review shall be carried out to gauge the impact and the need for more scholarships in \\\\nthe identified fields related to high-tech. \\\\ne. As a baseline, an increment of 5% for scholarships may be considered for accommodating more \\\\nand more deserving students through scholarships on an annual basis. \\\\nf. As part of the program, scheduled financial insti...\",\"to be imparted to deserving candidates on an annual basis. \\\\ng. In this regard, the CoE-AI, HEC, and State Bank of Pakistan (SBP) shall devise an eligibility criterion \\\\nfor applying a high-tech education financing program for deserving candidates with a special \\\\nprovision for women and PWDs.  \\\\nh. The criteria shall be implemented through public/private fin ancial institutions as prescribed by \\\\nSBP, and CoE-AI and HEC shall offset the interest on these loans.   \\\\ni. The program shall be organized o...\",\"a. The CoE-AI shall formulate a curriculum to increase public servants&#x27; awareness of Personal Data \\\\nProtection and AI . The curriculum shall sensitize the target audience on how AI can  impact \\\\ndecision-making and why access to data should be offered to the private sector and academia to \\\\nimprove productivity and user experience concerning public services through behavioral and \\\\npredictive analytics.\",\"10 \\\\n \\\\nb.  The curriculum shall be organized in consultation with the Establishment Division for inclusion in \\\\nthe coursework of the public servants and implementation at different levels. \\\\nc. 100% of public servants shall gain awareness and knowledge on personal data protection and AI \\\\nby 2025 to effectively implement the guidelines and directives in their respective departments. \\\\n4.2.2 Research and Development \\\\nAccording to the World Bank country-wise R&amp;D expenditure report, the global average ...\",\"indigenously.  \\\\nI. R&amp;D Projects in AI and Allied Technologies \\\\na. While acting as the hub for research and development, the CoE-AI shall organize a special grant \\\\nfor supporting R&amp;D projects using AI and allied technologies in academia and the p rivate \\\\nsector. \\\\nb. Such projects shall be attributed to solving socio -economic, civic, and user behavioral issues \\\\nand opportunities with preference to the identified priority sectors in this policy. \\\\nc. At least 400 projects shall be enabled through f...\",\"investments. \\\\nII. Research &amp; Thesis Support in AI \\\\na.  Like applied R&amp; D support, the COE -AI shall also make provisions for research and thesis , \\\\nleading to potentially new concepts and models in AI and allied technologies.  \\\\nb. The CoE -AI shall provide fiscal/logistical/data support for up to PKR 200,000 or any other \\\\nagreed amoun t per research for effective research and thesis , leading to publications of \\\\nregional/international journals, whitepapers, and case studies for new R&amp;D projects....\",\"support. \\\\nb. The CoE -AI shall aim to facilitate the registration of at  least 400 patents in high -tech for \\\\nacademia and the private sector annually.   \\\\n4.2.3 Algorithms, Data Science &amp; AI in Basic Education \\\\nI. Where the policy document emphasizes the fundamental understanding and awareness of \\\\npersonal data protection and AI, it also aims to stimulate an incremental impact of AI on society \\\\nright from the grassroots. Therefore, the policy has given equal importance to teaching algorithms, \\\\nd...\",\"11 \\\\n \\\\nII. The Consultant shall develop the National Curriculum based on best practices within six (6) \\\\nmonths, along with its adoption strategy , and present the working draft for further consultation \\\\nto CoE-AI. \\\\nIII. CoE-AI, in consultation with the Ministry of Federal Education and Professional Training , shall \\\\norganize a working committee comprising STEM education experts from the industry and abroad, \\\\nthe local educational boards for middle/high schools, and the association of schools for ...\",\"available to relevant institutions within six (6) months of draft finalization. \\\\n4.2.4 Skill Development of Marginalized Women &amp; PWDs \\\\nWomen make up 49% of the total population in Pakistan and possess equal rights for access to  learning \\\\nand earning opportunities in any field and walk of life. This is the case with Persons with Disabilities (PWDs). \\\\nWith high-speed broadband access nationwide and sufficient learning avenues, the cultural and religious \\\\nbarriers can easily be mitigated without c...\",\"offshoot of the same , aiming to engage marginalized women and PWDs through special \\\\ncoursework and means of imparting education. \\\\nII. The program shall be executed through institutions such as Bait-ul-Maal, Ehsaas Program , and \\\\nother institutions with access to marginalized sections of women and PWDs. \\\\nIII. The program shall also be proliferated using the DigiSkills.pk platform for maximum inclusivity \\\\nnationwide. Furthermore, a special quota for marginalized women and PWDs shall be ensured in...\",\"4.3.1 Regulating to Accelerate Socio-Economic Adoption \\\\nHuman rights, data privacy, values , and responsible use of AI -based technologies is the trending issue \\\\nworldwide. International governments are seriously addressing these issues through legal and regulatory \\\\ninstruments, devising frameworks accordingly. Such legal and regulatory frameworks are needed to ensure \\\\nsafe and secure data-sharing mechanisms formulated considering best international practices.  \\\\nI. An AI Regulatory Directorate (...\",\"protection.  \\\\nII. The key areas of responsibility for the proposed AI Regulatory Directorate (ARD) under the \\\\nNational Commission for Personal Data Protection (NCPDP) will be to augment the development \\\\nof AI-based initiatives through need-based assessment of regulating different functions automated \\\\nusing AI and the type of data being created and processed for defined purposes. This will be \\\\nachieved through implementing the policy directives and other needs as prescribed through \\\\nregulatory be...\",\"12 \\\\n \\\\nDirectorate will organize an agile regulatory mechanism to support the overall objectives of \\\\nNCPDP. It will also assist NCPDP in defining different regulatory functions concerning digital trust \\\\nat the data creation and processing level.  \\\\nIII. The ARD will oversee the operations automated by AI, the potential role of AI agents undertaking \\\\nroles of the data controller and data processor that may affect the rules and regulations under the \\\\nPDPA Act. In addition, it will provide advisory s...\",\"issues like education, urban planning, and welfare policies, among other things. \\\\nV. The ARD will provide regulatory support for direct AI policy issues like using AI -based doctors\\\\u2019 \\\\nassistants in hospitals, indirect AI policy issues like intellectual property laws, and relevant AI policy \\\\nissues like education, urban planning, and welfare policies, among other things. Undoubtedly, \\\\nsome of these technologies can make life simpler, but they also have significant drawbacks. \\\\nSometimes these issu...\",\"implementations are morally dubious, possibly harmful (e.g., autonomous kill choices by \\\\nmachines), or pose more significant systemic issues (e.g., labor displacement through AI, \\\\nimpingement of existing ethical, legal, and social paradigms). As a result, national attempts to build \\\\nAI policy should be coordinated and backed by a regulatory framework to prevent the hazards \\\\nassociated with AI\\\\u2019s widespread use. \\\\nVI. Design policies in close interaction with the other stakeholders to promote a vib...\",\"of locally developed AI solutions. \\\\nVIII. ARD should develop guidelines for data sharing that encourage entities with data to share it and \\\\nclarify the best practices for doing so. In addition, the guidelines sho uld spell out the obligations \\\\nof the data receiver. For government entities, these guidelines can be elevated to mandatory \\\\npolicies. \\\\nIX. Develop regulation policies and standards for data-sharing among countries and lead multilateral \\\\ndiplomatic efforts to arrange such agreements. \\\\nX...\",\"XI. Formulate policies to develop and maintain highly resilient cutting-edge computing, storage, and \\\\nconnectivity infrastructure. \\\\nXII. Participate in international efforts to bring standardization in all aspects of AI, e.g. , data formats, \\\\nnetwork and systems architecture, data , application integration protocols, requirements on test \\\\ncases, and services. \\\\nXIII. Develop a data-sharing framework  and use AI algorithms consistent with social, cultural, and \\\\nreligious norms and international gu...\",\"13 \\\\n \\\\nXV. Scientific research and awareness of the effects and risks of AI technologies and systems on the \\\\nsocio-economic structure will be increased.  \\\\nXVI. If any AI-generated decision results in an unwarranted outcome, there should be a mechanism to \\\\nascertain the cause. \\\\nXVII. Definition criteria should be set on the responsibi lities shared between individual users, \\\\norganizations deploying the robots, and the organizations manufacturing them. \\\\nXVIII. People should have the right to access...\",\"understanding of the consequences of AI in different domains and to ensure compliance with their rules. \\\\nAs a result, the progress achieved in this area because of this effort will promote economic growth  per \\\\nhuman development needs while  safeguarding fundamental human rights. Furthermore, ARD will hire a \\\\nthink tank of technocrats and industry experts to develop strategies for AI integration in government and \\\\nindustry and train the necessary resources. In addition, ARD will construct non-di...\",\"creations. Generative AI has many potential applications, including art, music, literature, and journalism. \\\\nHowever, it also raises important ethical and societal questions, particularly around issues such as data \\\\nprivacy, ownership of content, and the potential for misuse. Th e proposed ARD, along with CoE-AI, shall \\\\naddress the opportunities and challenges of generative AI in the following ways: \\\\n \\\\nI. Ensuring Ethical Use: Generative AI has the potential to create convincing fake content suc...\",\"Generative AI and, in this regard, engage with the OpenAI platform and allocate a special quota \\\\nfor startups/R&amp;D institutions/companies working in this space.  \\\\nIII. The CoE-AI shall collaborate with the Higher Education Commission and Ministry of Science and \\\\nTechnology to establish best practice s regarding using  generative AI in academia using large \\\\nlanguage models.  \\\\nIV. Necessary recommendations shall be made to ARD by CoE-AI for changes in curriculum and ethical \\\\nuse-related matters for...\",\"to accelerate the socio-economic adoption of generative AI or similar technologies in the future \\\\nand support the startup ecosystem.  \\\\n4.3.3 Sandboxing for AI Deployment \\\\nSandboxes provide several benefits to technology developers, including checking and displaying innovative \\\\ntechnology in a real -world setting with actual people. Developers and regulators may communicate\",\"14 \\\\n \\\\ndirectly, creating  a more coherent and cooperative sector. When a new technology obtains market \\\\nadoption, successive trial -and-error testing in a controlled setting mitigates the risks and unexpected \\\\neffects, such as undetected security holes. A secondary purpose of the sandbox is for regulators to have a \\\\nbetter understanding of the product or service.  This enables regulators to create policies and laws that \\\\naccommodate, oversee, and govern sectoral innovation inside and outside the...\",\"interventions are proposed: \\\\nI. At least 20 enterprises should be beneficiaries of the regulatory sandbox by 2025 to bring an agile \\\\nand inclusive legal harmonization process through testing and discussion on ethical and legal \\\\nscenarios. \\\\nII. At least 50 municipalities across the country will actively use AI -based technologies within the \\\\nscope of smart city applications by 2030 to encourage the participation of these municipalities in \\\\nAI-enabled applications.  \\\\n4.3.4 Supporting International...\",\"with international experts and institutions in AI and allied technologies. Moreover, this will help us upgrade \\\\nour technological infrastructure according to international standards. The proposed intervention for \\\\nfostering international collaboration is: \\\\nI. At least five project calls may be launched in AI by 2025 , prioritizing the participation of \\\\ninternational collaboration . This will provide Pakistan\\\\u2019s academia and industry with fresh \\\\nperspectives on a new way of working and help them i...\",\"digitization and standardization in different sectors and industries. Thus, they have a crucial role in AI \\\\nproliferation and its success. Standardized data is fuel to any AI -based technology, especially Machine \\\\nLearning/Deep Learning-based technologies trained on the datasets. This makes it a priority task for the IT \\\\nboards to manage the standardization and accessibility of data. The following interventions are suggested: \\\\nI. IT boards should design  and provide roadmaps for the transformati...\",\"II. IT boards should become facilitators in designing and providing specialized training courses and \\\\ncertifications to prepare trained and skilled human capital with skills tailored to  sectoral \\\\nrequirements. These training programs may be initiated as early as 2023 to accelerate compliance \\\\nwith AI adoption needs and requirements and prepare a skilled workforce to bear the torch of AI \\\\nadoption and help Pakistan move forward.  \\\\nIII. AI maturity model and project management guidelines may be i...\",\"15 \\\\n \\\\n4.4.2 Industrial Transformation \\\\nIndustries are turning any country\\\\u2019s economic wheels, and their optimization help contributes substantially \\\\nto GDP. AI and allied technologies can augment industries\\\\u2019 capacity building by introducing State -of-the-\\\\nart technologies such as IoTs and enhancing their efficiency and produc tivity. IoTs streamline assembly \\\\nlines of automotive industries, assist in asset management in manufacturing plants, improve machine \\\\nefficiency, and reduce downtime throug...\",\"cycle. Smart meters powered by IoTs can monitor and optimize the consumption of electricity, water, and \\\\nother fuels and help establish sustainable usage of valuable energy resources.  \\\\nI. As an intervention, the Federation of  Pakistan Chamber of Commerce and Industry (FPCCI) shall \\\\npromulgate awareness campaigns to enable local industries to embrace AI and allied technologies \\\\nthrough seminars, workshops, and training courses. This will assist in expediting AI proliferation in \\\\nindustries and ...\",\"technologies such as Machine Learning and Deep Learning . Especially in the healthcare sector, \\\\nsharing standardized data will ensure the enablement of the  preventive healthcare system in \\\\nPakistan, which has been adopted worldwide. National Information Technology Board (NITB) and \\\\nprovincial boards  are the key  organizations that have an essential role in ensuring data \\\\nstandardization and providing  accessibility, for the smooth proliferation of AI and related \\\\ntechnologies, to various secto...\",\"private sector and international bodies, will fuel the research and inno vative endeavors for successfully \\\\nintegrating AI and associated technologies into Pakistan\\\\u2019s institutional and industrial fabric. These \\\\ncollaborative investments will bear fruit in commercializing various products produced by the COE -AI-\\\\nenabled AI ecosystem.  \\\\n5 Policy Implementation &amp; Review \\\\nGlobal best practices for policies and strategies solicit the need for an implementation organization that \\\\nwill not only steer ...\",\"shall be orchestrated under the given framework to achieve this. \\\\n5.1 Steering/Management Committee \\\\nI. The steering committee will comprise government, academia, industry, and civil society members \\\\nwith equal representation of each stakeholder.  \\\\nII. The Secretary of IT &amp; Telecom will convene the committee, and in his absence, Member IT may be \\\\nthe committee&#x27;s acting chair. \\\\nIII. It will analyze and direct the progress and performance undertaken by different working groups, \\\\nthe policy impleme...\",\"16 \\\\n \\\\nIV. The Steering /Management Committee, being the apex body and custodian of the policy, will \\\\nprovide guidelines for new and existing initiatives to the National AI Fund in line with the \\\\nstipulations of this policy.  \\\\n5.2 Working Groups \\\\nI. Four working groups will represent the four policy drivers, with at least one representation from \\\\nall stakeholders.  \\\\nII. It will work in collaboration with international organizations and academia working in similar \\\\npolicy-making roles to keep the ...\",\"V. Their responsibility will involve monitoring and evaluating their domains and presenting \\\\nrecommendations to the steering committee.  \\\\nVI. To monitor and evaluate the operations of various organizations and obtain their input, they will \\\\nliaise with institutions such as NAIF and CoE-AI.  \\\\nVII. They will communicate their recommendations to the steering committee. \\\\n5.3 Policy Implementation Cell \\\\nI. The Policy Implementation Cell will oversee day-to-day operations conducted to implement policy...\",\"streamlined policy implementation.  \\\\nIV. The policy Implementation Cell will be working under the purview of MoITT, reporting to Member \\\\nIT.  \\\\n5.4 Review Procedure &amp; Timeline \\\\nI. The Ministry of IT &amp; Telecom may organize a comprehensive policy review every three years ; \\\\nhowever, the Steering Committee may review the progress/implementation of policy directives \\\\nevery six months. \\\\nII. Working groups shall meet every three (3) months to suggest recommendations to the steering \\\\ncommittee in meetin...\",\"and assess the progress reported by working groups and Policy Implementation Cell.  \\\\nV. Appropriate stipends will be provided to the working groups and the steering/management \\\\ncommittee to ensure effective functioning. \\\\nVI. Monitoring and evaluation may involve multiple third -party organizations to evalua te the \\\\nperformance of programs/projects throughout their lifecycle. Contracts to such organizations will \\\\nbe awarded on an annual basis.\",\"17 \\\\n \\\\n6 Definitions \\\\nTriple Helix Partnership  \\\\nThe Triple-Helix model implies the development of a trilateral network of organizational links between the \\\\nuniversity, government, and industry in which the university (and similar research and educational \\\\ninstitutions) should be regarded as the primary source of knowledge and from which it is being spread. The \\\\ngovernment should provide some strategic guidelines for developing a sectorial and a regional economy \\\\nby implementing several direct an...\",\"financial help. The role of the firms should be to concentrate their resources on the commercial part of \\\\nR&amp;D activities. \\\\nSmall and Medium-Sized Enterprises (SME) \\\\nIt is a convenient term for segmenting businesses and other organizations between the \\\\u201csmall office home \\\\noffice\\\\u201d size and the larger enterprise. \\\\nSustainable Development Goals (SDG) \\\\nThese 17 interlinked global goals are designed to be a \\\\u2018blueprint for achieving a better and more sustainable \\\\nfuture for all.\\\\u2019 \\\\nCommon Operating Envir...\",\"to shoot for, milestones to gauge progress, and insights that help people across the organization make \\\\nbetter decisions. \\\\nStartups \\\\nStartups are \\\\\"innovative, high -growth potential, scalable and technology -based new businesses, which \\\\nrequire a unique set of skills and resources to achieve commercialization and sustainable growth.\\\\\" \\\\n7 Acronyms  \\\\nACRONYM ABBREVIATION \\\\nAI Artificial Intelligence \\\\nARD AI Regulatory Directorate \\\\nNAIF National Artificial Intelligence Fund \\\\nMoITT Ministry of Informa...\",\"18 \\\\n \\\\nPDPA Pakistan Data Protection Authority \\\\nNTC National Telecom Corporation \\\\nNITB National Information Technology Board \\\\nR&amp;D Research and Development \\\\nSDGs Sustainable Development Goals (UN) \\\\nFPCCI Federation of Pakistan Chamber of Commerce and Industry  \\\\nCoE Center of Excellence \\\\nPoC Proof of Concept \\\\nIoTs Internet of Things\",\"19 \\\\n \\\\n8 Annex I \\\\u2013 Sectoral Survey Regarding AI Adoption, \\\\nChallenges and Opportunities in Pakistan \\\\n8.1 Sectoral identification \\\\nSectoral identification is essential to  strategizing AI proliferation in Pakistan. These areas can socio-\\\\neconomically benefit the most from AI adoption and progress by engraining AI technology in its operations. \\\\nThe stakeholders in Pakistan are those areas of society with significant potential for AI adoption and where \\\\nthis technology can lead to substantial progre...\",\"traceability, and analyzing large volumes of data available through satellites and weather predictions. \\\\nBy 2026, agriculture-based AI technology is expected to reach the $2.5 billion mark. Agriculture has a \\\\nGDP contribution of 20% in Pakistan, a significant portion of our revenue. Therefore, using the latest \\\\ntechnologies and innovative methods will decrease costs and improve the quality of yields. \\\\n2. Healthcare: The healthcare sector can benefit from AI -based innovations in diagnostics, pre...\",\"mechanisms. In addition, AI can support attracting the private sector in Pakistan, which only spends \\\\n1.4% of the country\\\\u2019s GDP in this sector. \\\\n3. Manufacturing: AI and allied technologies such as robotics can revolutionize the manufacturing \\\\nindustry through automation and enhanced efficiency of operations and safety at workplaces such as \\\\nfactories. Pakistan can vastly benefit from AI while developing consumer goods specific to the local \\\\nmarket requirements.  \\\\n4. Retail &amp; Commerce:  The reta...\",\"Pakistan, AI -based technologies can significantly change retail and commerce , a rapidly emerging \\\\narea. \\\\n5. IT Industry: The IT industry is the highest growing sector in the count ry and is also considered to be \\\\nat the forefront of the AI revolution worldwide. The IT sector uses  Machine Learning and Deep \\\\nLearning to re-engineer processes and systems for streamlining business operations and helping them\",\"20 \\\\n \\\\nleverage new revenue streams and market growth. In addition, AI can supplement the IT industry by \\\\nmaking its systems more efficient, courtesy of predictive analytics and Big Data Analytics. According \\\\nto statistics, 48% of businesses use Machine Learning , data analytics, and other AI tools.  IT exports \\\\nare rapidly growing in Pakistan and have significant potential. Equipping local IT companies with AI \\\\ninfrastructure and skilled human capital can help them leverage new and diverse oppor...\",\"financial activities and augment data safety. AI can improve tax compliance and administration by \\\\nimproving efficiency through automation and AI-based algorithms. \\\\n7. Academia: AI can assist in teaching and skills development methods. At the global level, AI adoption \\\\nleaders have ensured that AI-based curricula become integral to educational institutions to prepare \\\\nfuture generations. Academia and the industry need to collaborate and cooperate, especially in R&amp;D \\\\nand HR-related initiatives th...\",\"8. Government Sector: Public and government services can benefit from AI -based technologies and \\\\nbecome more efficient and productive. For example, automation and chatbots improve the efficiency \\\\nand quality of services provided to the public. Similarly, AI can help make complex economic decisions \\\\nto enhance the productivity of various sectors and industries through accurate predictions. \\\\n9. Defense Sector:  The defense sector of any country showcases the strength of the country\\\\u2019s \\\\nsovereignty...\",\"target detection, autonomous path tracking in missiles, autofocus in tanks and guns, target detection \\\\nand recognition , and enhanced night vision.  Unfortunately, Pakistan has faced the worst kind of \\\\nterrorism for many years. It has caused us irreversible damage with the loss of precious lives of \\\\ninnocent civilians and our armed forces personnel, structural damages, and loss of investors. AI and \\\\nallied technologies can provide invaluable services in effectively combating terrorism and achiev...\",\"21 \\\\n \\\\n \\\\n0 5 10 15 20 25\\\\nAgriculture Industry\\\\nHealthcare Industry\\\\nManufacturing Industry\\\\nRetail &amp; Commerce\\\\nIT Industry\\\\nFinancial Services\\\\nAcademia\\\\nGovernment Sector\\\\nTable 1: Stakeholder organizations contribution in the survey\",\"22 \\\\n \\\\nTable 2: Society challenges reflected by the survey results. \\\\nS. \\\\nNO Attributes Description Evidence (as per 2022) \\\\n1.  AI Readiness \\\\u2022 At the global level, the AI adoption rate is 56% across all geographies, \\\\nwhile developing markets registered a 21% increase [5]. \\\\n\\\\u2022 According to a State of AI Report, Pakistan ranks 117 out of 172 countries and has an index \\\\nscore of 34.03 [6] in terms of AI readiness at a global scale. \\\\n2.  AI- Education \\\\n\\\\u2022 By 2025, 97 million jobs will be opened in AI -b...\",\"51%, respectively, between 2010 and 2020 [5].  \\\\n\\\\u2022 There are approximately 600,000 people employed in the IT sector with working skills in AI -\\\\nbased technologies. \\\\n\\\\u2022 25,000 students graduate each year from IT -based programs who are trained in AI and \\\\nassociated technologies as well [8].  \\\\n\\\\u2022 47 universities and colleges in Pakistan offer BS AI, while 9 universities offer MS AI.  \\\\n\\\\u2022 HEC offers 70 international  Ph.D. admission in IT, CS, Software Engineering, Data Sciences , \\\\nand AI [9]. \\\\n3.  \\\\nRe...\",\"AI-based patents must be filed from abroad. \\\\n\\\\u2022 Between 2016 and 2020, there were 2600 AI-based publications credited to Pakistan [10]. \\\\n4.  Investment \\\\n\\\\u2022 More than 40% of large organizations are planning to invest in AI \\\\ntechnology, according to a survey for 2020.  \\\\n\\\\u2022 In the US alone, AI startups received  over $20 billion in funds, while \\\\ncorporate investment in AI has touched the $94 billion mark [5]. \\\\n\\\\u2022 Pakistani Tech-based startups using AI -based technologies received $278 million in fundin...\",\"23 \\\\n \\\\n8.3 Market Challenges \\\\nThe evidence furnished above simplifies the identification of challenges leading to pragmatic market \\\\nsupport and only necessary interventions. These challenges are: \\\\n3.2.1. G1 \\\\u2013 Awareness and Adaptation Challenges  \\\\nI. It is becoming increasingly important that society is aware of the potential of AI in solving routine \\\\nmatters. This requires an awareness campaign towards controlling and sharing data, basic skills \\\\neducation, and high-impact skilling at all levels o...\",\"various sectors through sizable pub lic/private investments and to retain the talent locally. \\\\nMoreover, international universities have inculcated AI -based curricula in their primary, high -\\\\nschool, undergraduate, and post-graduate programs to ensure that AI is adopted in a structured \\\\nmanner offering a comprehensive development plan for its role in different phases of life and \\\\nwork.  \\\\nII. In Pakistan, enabling AI and allied technologies is challenging without having a basic level of \\\\nawarene...\",\"trained human capital is the acces s to data needed to train them in various domains of AI -based \\\\ntechnologies. Hence, data is the underlying artefact for putting skilled human capital to work and \\\\nmaking them experiment with using AI-based models in a controlled yet agile environment.   \\\\nIII. AI a doption would disrupt how work will be done in public and private sectors and various \\\\nindustries, directly affecting the country \\\\u2019s socio -economic fabric. People working in traditional \\\\nways and no...\",\"surviving this transition and becoming an integral part of digitally transformed workplaces.  \\\\nIV. According to the surveys, at a sectoral scale, half of the respondents are well versed with AI and \\\\nrelated technologies, while the other half possess working knowledge. To teach an AI-based \\\\ncurriculum, the survey findings point to including short courses and 6 -12 month -long boot \\\\ncamps/diplomas urgently. Furthermore, bachelor\\\\u2019s/master\\\\u2019s level programs and Ph.D. degrees in \\\\nAI are also worth con...\",\"private sectors, either difficult to access or not available appropriately (such as in hard copies). In \\\\nmany cases, it has been observed that data digitalization and basic process automation in a \\\\nconfined environment are considered sufficient due to a lack of awareness. Alternatively, Cloud -\\\\nbased solutions using AI for data/process orchestration, manag ement, and analytics offered as \\\\nSaaS provides greater access. However, with limited knowledge, such services are never done \\\\njustice in term...\",\"as well as various diagnostic and R&amp;D. Unfortunately, the healthcare sector is digitized at a \\\\nfundamental level with limited or zero technological transformation  and the standardization of  \\\\ndata, which is a significant hurdle in enabling AI-based advancement in the healthcare sector.  \\\\nVI. Digital literacy is another challenge as people are to be educated about data digitization and \\\\naccessibility and how to adopt safe data-sharing mechanisms. Moreover, it needs to be organized\",\"24 \\\\n \\\\nto allow equal opportunity for children, women from remote areas,  and disabled persons to \\\\nbenefit from the AI proliferation efforts and meet future challenges.  \\\\n3.2.2. G2 \\\\u2013 Data Standardization and Accessibility \\\\nI. Globally, leaders in AI proliferation have made data standardization and accessibility their top \\\\npriority. For example, China used the vast datasets available from the provin ces to train AI and \\\\nallied technologies, especially in the healthcare sector. As a result, it took...\",\"to a common operating environment , it will create significant problems in its processing for \\\\ndifferent purposes and uses . Therefore, Pakistan\\\\u2019s primary issue is to digitize and organize the \\\\nmassive datasets available in various inaccessible forms and make them available in a standardized \\\\nform to make them more relevant for data analytics and other data processing mechanisms. This \\\\nis only achievable through sustainable developmental hubs and associated collaborations in \\\\ndifferent sectors. ...\",\"and accessibility. However, as learned through the survey, other sectors such as manufacturing, \\\\nagriculture, retail &amp; commerce, and healthcare lag significantly in this domain.  Significant efforts \\\\nare required to develop and augment an ecosystem that catalyzes the country\\\\u2019s adoption of AI and \\\\nallied technologies. Moreover, the lack of accessibility to data hinders AI -based R&amp;D, predictive \\\\nanalytics, and various other AI-based technologies from producing valuable outputs. It adversely \\\\naffe...\",\"b. 50% of the stakeholders shared their concerns about data not being standardized. \\\\nc. 71% of respondents consider poor data collection practices a crippling factor for successful \\\\nAI adoption. \\\\nd. 44% of the stakeholders recommend followin g leaders in AI adoption , such as the UK, \\\\nEstonia, and China, for data standardization mechanisms. \\\\n3.2.3. G3 \\\\u2013 Computational Infrastructure Situation and Needs \\\\nI. Developed countries and the countries which have made significant progress in AI proliferat...\",\"made available to the relevant stakeholders.  \\\\nII. Limited computational resources are a shared obstacle by various sectors of Pakistan. The need \\\\nfor computational facilities is emphasized for providing robust and secure access to infrastructure \\\\nfor complex R&amp;D and high -performing systems. Furthermore, these computational facilities are \\\\nessential for any initiative to train human resources in AI and allied technologies. Their availability \\\\nunder one roof is necessary to streamline the traini...\",\"25 \\\\n \\\\nIV. 57% of stakeholders have registered concerns regarding the limited availability of computational \\\\nresources as a barrier to achieving a trained workforce in AI and allied technologies. \\\\nV. To augment applied research and provide robust and secure access to infrastructure for complex \\\\nR&amp;D, computational facilities are considered vital by 55% of stakeholders. \\\\n3.2.4. G4 \\\\u2013 Ethical Challenges \\\\nI. Safe and secure data sharing and ethical adoption of AI and allied technologies are primary \\\\nc...\",\"mechanisms. Regulatory challenges must be addressed to establish an enviro nment of trust. \\\\nMoreover, it is the users\\\\u2019 fundamental right that their data be safe and that their privacy is always \\\\nupheld. Therefore, an effective regulatory system that may steer AI adoption, related initiatives, \\\\nand data-sharing mechanisms is needed. \\\\nII. Most stakeholders voted various risks associated with AI adoption medium to high, including \\\\nmalicious intent, data pollution, Data model theft, fairness, precis...\",\"26 \\\\n \\\\n9 References \\\\n[1] B. Gates, \\\\u201cThe Age of AI has begun,\\\\u201d gatesnotes.com. https://www.gatesnotes.com/The-Age-of-AI-\\\\nHas-Begun (accessed Apr. 03, 2023). \\\\n[2] \\\\u201cPakistan Population (2022) - Worldometer.\\\\u201d https://www.worl dometers.info/world-\\\\npopulation/pakistan-population/ (accessed Jun. 14, 2022). \\\\n[3] \\\\u201cMinistry of Federal Education and Professional Training.\\\\u201d \\\\nhttp://mofept.gov.pk/ProjectDetail/NjQ4ZTg2NjItOWM2NC00Y2IxLTkzMDgtMjU2OTFhMjA4NzNh \\\\n(accessed Jun. 13, 2022). \\\\n[4] \\\\u201cI have the power t...\",\"[6] \\\\u201cGovernment AI Readiness Index 2022,\\\\u201d Oxford Insights . \\\\nhttps://www.oxfordinsights.com/government-ai-readiness-index-2022 (accessed Mar. 30, 2023). \\\\n[7] \\\\u201c65 Artificial Intelligence Statistics for 2021 and Beyond,\\\\u201d Semrush Blog . \\\\nhttps://www.semrush.com/blog/artificial-intelligence-stats (accessed Aug. 12, 2022). \\\\n[8] \\\\u201cHow Pakistan Ranks | Tech Destination Pakistan.\\\\u201d https://app.techdestination.com/how_pak_ranks \\\\n(accessed Oct. 19, 2022). \\\\n[9] \\\\u201cAdvanced Skills Development  Through Internati...\"]],[\"color\",{\"type\":\"ndarray\",\"array\":[\"#1f77b4\",\"#1f77b4\",\"#1f77b4\",\"#1f77b4\",\"#1f77b4\",\"#1f77b4\",\"#1f77b4\",\"#999\",\"#1f77b4\",\"#1f77b4\",\"#1f77b4\",\"#1f77b4\",\"#1f77b4\",\"#1f77b4\",\"#1f77b4\",\"#1f77b4\",\"#1f77b4\",\"#1f77b4\",\"#1f77b4\",\"#1f77b4\",\"#1f77b4\",\"#1f77b4\",\"#1f77b4\",\"#1f77b4\",\"#1f77b4\",\"#1f77b4\",\"#1f77b4\",\"#1f77b4\",\"#1f77b4\",\"#1f77b4\",\"#1f77b4\",\"#1f77b4\",\"#1f77b4\",\"#1f77b4\",\"#1f77b4\",\"#1f77b4\",\"#1f77b4\",\"#1f77b4\",\"#1f77b4\",\"#1f77b4\",\"#1f77b4\",\"#1f77b4\",\"#1f77b4\",\"#1f77b4\",\"#1f77b4\",\"#1f77b4\",\"#1f77b4\",\"#aec7e8\",\"#aec7e8\",\"#aec7e8\",\"#aec7e8\",\"#aec7e8\",\"#aec7e8\",\"#1f77b4\",\"#1f77b4\",\"#1f77b4\",\"#1f77b4\",\"#1f77b4\",\"#1f77b4\",\"#1f77b4\",\"#1f77b4\",\"#1f77b4\",\"#1f77b4\",\"#1f77b4\",\"#1f77b4\",\"#1f77b4\",\"#1f77b4\",\"#1f77b4\",\"#1f77b4\",\"#1f77b4\",\"#1f77b4\",\"#1f77b4\",\"#1f77b4\",\"#1f77b4\",\"#1f77b4\",\"#1f77b4\",\"#1f77b4\",\"#1f77b4\",\"#1f77b4\",\"#1f77b4\",\"#1f77b4\",\"#1f77b4\",\"#1f77b4\",\"#1f77b4\",\"#1f77b4\",\"#1f77b4\",\"#1f77b4\",\"#1f77b4\",\"#1f77b4\",\"#1f77b4\",\"#1f77b4\",\"#1f77b4\",\"#1f77b4\",\"#999\",\"#1f77b4\",\"#1f77b4\",\"#1f77b4\",\"#1f77b4\",\"#1f77b4\",\"#1f77b4\",\"#1f77b4\",\"#1f77b4\",\"#1f77b4\",\"#1f77b4\",\"#1f77b4\",\"#1f77b4\",\"#1f77b4\",\"#1f77b4\",\"#1f77b4\",\"#1f77b4\",\"#1f77b4\",\"#1f77b4\",\"#1f77b4\",\"#1f77b4\",\"#1f77b4\",\"#1f77b4\",\"#999\",\"#aec7e8\",\"#aec7e8\",\"#aec7e8\",\"#aec7e8\",\"#aec7e8\",\"#1f77b4\",\"#1f77b4\",\"#1f77b4\",\"#1f77b4\",\"#1f77b4\",\"#1f77b4\",\"#1f77b4\",\"#1f77b4\",\"#1f77b4\",\"#1f77b4\",\"#1f77b4\",\"#1f77b4\",\"#1f77b4\",\"#1f77b4\",\"#1f77b4\",\"#1f77b4\",\"#1f77b4\",\"#1f77b4\",\"#1f77b4\",\"#1f77b4\",\"#1f77b4\",\"#1f77b4\",\"#1f77b4\",\"#1f77b4\",\"#1f77b4\",\"#1f77b4\",\"#1f77b4\",\"#1f77b4\",\"#1f77b4\",\"#999\",\"#1f77b4\"],\"shape\":[153],\"dtype\":\"object\",\"order\":\"little\"}]]}}},\"view\":{\"type\":\"object\",\"name\":\"CDSView\",\"id\":\"p1045\",\"attributes\":{\"filter\":{\"type\":\"object\",\"name\":\"AllIndices\",\"id\":\"p1046\"}}},\"glyph\":{\"type\":\"object\",\"name\":\"Scatter\",\"id\":\"p1041\",\"attributes\":{\"x\":{\"type\":\"field\",\"field\":\"x\"},\"y\":{\"type\":\"field\",\"field\":\"y\"},\"size\":{\"type\":\"value\",\"value\":6},\"line_color\":{\"type\":\"field\",\"field\":\"color\"},\"line_width\":{\"type\":\"value\",\"value\":2},\"fill_color\":{\"type\":\"field\",\"field\":\"color\"},\"fill_alpha\":{\"type\":\"value\",\"value\":0.7},\"hatch_color\":{\"type\":\"field\",\"field\":\"color\"},\"hatch_alpha\":{\"type\":\"value\",\"value\":0.7}}},\"nonselection_glyph\":{\"type\":\"object\",\"name\":\"Scatter\",\"id\":\"p1042\",\"attributes\":{\"x\":{\"type\":\"field\",\"field\":\"x\"},\"y\":{\"type\":\"field\",\"field\":\"y\"},\"size\":{\"type\":\"value\",\"value\":6},\"line_color\":{\"type\":\"field\",\"field\":\"color\"},\"line_alpha\":{\"type\":\"value\",\"value\":0.1},\"line_width\":{\"type\":\"value\",\"value\":2},\"fill_color\":{\"type\":\"field\",\"field\":\"color\"},\"fill_alpha\":{\"type\":\"value\",\"value\":0.1},\"hatch_color\":{\"type\":\"field\",\"field\":\"color\"},\"hatch_alpha\":{\"type\":\"value\",\"value\":0.1}}},\"muted_glyph\":{\"type\":\"object\",\"name\":\"Scatter\",\"id\":\"p1043\",\"attributes\":{\"x\":{\"type\":\"field\",\"field\":\"x\"},\"y\":{\"type\":\"field\",\"field\":\"y\"},\"size\":{\"type\":\"value\",\"value\":6},\"line_color\":{\"type\":\"field\",\"field\":\"color\"},\"line_alpha\":{\"type\":\"value\",\"value\":0.2},\"line_width\":{\"type\":\"value\",\"value\":2},\"fill_color\":{\"type\":\"field\",\"field\":\"color\"},\"fill_alpha\":{\"type\":\"value\",\"value\":0.2},\"hatch_color\":{\"type\":\"field\",\"field\":\"color\"},\"hatch_alpha\":{\"type\":\"value\",\"value\":0.2}}}}}],\"toolbar\":{\"type\":\"object\",\"name\":\"Toolbar\",\"id\":\"p1012\",\"attributes\":{\"logo\":\"grey\",\"tools\":[{\"type\":\"object\",\"name\":\"HoverTool\",\"id\":\"p1027\",\"attributes\":{\"renderers\":\"auto\",\"tooltips\":\"\\\\n    &lt;div style=\\\\\"width:400px;\\\\\"&gt;\\\\n    &lt;b&gt;Document id:&lt;/b&gt; @id &lt;br&gt;\\\\n    &lt;b&gt;Topic:&lt;/b&gt; @topic &lt;br&gt;\\\\n    &lt;b&gt;Document Content:&lt;/b&gt; @content\\\\n    &lt;/div&gt;\\\\n    \"}},{\"type\":\"object\",\"name\":\"PanTool\",\"id\":\"p1028\"},{\"type\":\"object\",\"name\":\"WheelZoomTool\",\"id\":\"p1029\",\"attributes\":{\"renderers\":\"auto\"}},{\"type\":\"object\",\"name\":\"BoxZoomTool\",\"id\":\"p1030\",\"attributes\":{\"overlay\":{\"type\":\"object\",\"name\":\"BoxAnnotation\",\"id\":\"p1031\",\"attributes\":{\"syncable\":false,\"level\":\"overlay\",\"visible\":false,\"left\":{\"type\":\"number\",\"value\":\"nan\"},\"right\":{\"type\":\"number\",\"value\":\"nan\"},\"top\":{\"type\":\"number\",\"value\":\"nan\"},\"bottom\":{\"type\":\"number\",\"value\":\"nan\"},\"left_units\":\"canvas\",\"right_units\":\"canvas\",\"top_units\":\"canvas\",\"bottom_units\":\"canvas\",\"line_color\":\"black\",\"line_alpha\":1.0,\"line_width\":2,\"line_dash\":[4,4],\"fill_color\":\"lightgrey\",\"fill_alpha\":0.5}}}},{\"type\":\"object\",\"name\":\"ResetTool\",\"id\":\"p1036\"},{\"type\":\"object\",\"name\":\"SaveTool\",\"id\":\"p1037\"}]}},\"left\":[{\"type\":\"object\",\"name\":\"LinearAxis\",\"id\":\"p1022\",\"attributes\":{\"ticker\":{\"type\":\"object\",\"name\":\"BasicTicker\",\"id\":\"p1023\",\"attributes\":{\"mantissas\":[1,2,5]}},\"formatter\":{\"type\":\"object\",\"name\":\"BasicTickFormatter\",\"id\":\"p1024\"},\"axis_label_standoff\":10,\"axis_label_text_color\":\"#E0E0E0\",\"axis_label_text_font\":\"Helvetica\",\"axis_label_text_font_size\":\"1.25em\",\"axis_label_text_font_style\":\"normal\",\"major_label_policy\":{\"type\":\"object\",\"name\":\"AllLabels\",\"id\":\"p1025\"},\"major_label_text_color\":\"#E0E0E0\",\"major_label_text_font\":\"Helvetica\",\"major_label_text_font_size\":\"1.025em\",\"axis_line_color\":\"#E0E0E0\",\"axis_line_alpha\":0,\"major_tick_line_color\":\"#E0E0E0\",\"major_tick_line_alpha\":0,\"minor_tick_line_color\":\"#E0E0E0\",\"minor_tick_line_alpha\":0}}],\"below\":[{\"type\":\"object\",\"name\":\"LinearAxis\",\"id\":\"p1017\",\"attributes\":{\"ticker\":{\"type\":\"object\",\"name\":\"BasicTicker\",\"id\":\"p1018\",\"attributes\":{\"mantissas\":[1,2,5]}},\"formatter\":{\"type\":\"object\",\"name\":\"BasicTickFormatter\",\"id\":\"p1019\"},\"axis_label_standoff\":10,\"axis_label_text_color\":\"#E0E0E0\",\"axis_label_text_font\":\"Helvetica\",\"axis_label_text_font_size\":\"1.25em\",\"axis_label_text_font_style\":\"normal\",\"major_label_policy\":{\"type\":\"object\",\"name\":\"AllLabels\",\"id\":\"p1020\"},\"major_label_text_color\":\"#E0E0E0\",\"major_label_text_font\":\"Helvetica\",\"major_label_text_font_size\":\"1.025em\",\"axis_line_color\":\"#E0E0E0\",\"axis_line_alpha\":0,\"major_tick_line_color\":\"#E0E0E0\",\"major_tick_line_alpha\":0,\"minor_tick_line_color\":\"#E0E0E0\",\"minor_tick_line_alpha\":0}}],\"center\":[{\"type\":\"object\",\"name\":\"Grid\",\"id\":\"p1021\",\"attributes\":{\"axis\":{\"id\":\"p1017\"},\"grid_line_color\":\"white\",\"grid_line_alpha\":0.25}},{\"type\":\"object\",\"name\":\"Grid\",\"id\":\"p1026\",\"attributes\":{\"dimension\":1,\"axis\":{\"id\":\"p1022\"},\"grid_line_color\":\"white\",\"grid_line_alpha\":0.25}},{\"type\":\"object\",\"name\":\"Legend\",\"id\":\"p1047\",\"attributes\":{\"title\":\"Knowledge Base Tospics\",\"title_text_color\":\"#B1B1B1\",\"title_text_font_style\":\"bold\",\"border_line_alpha\":0,\"background_fill_color\":\"#111516\",\"background_fill_alpha\":0.5,\"label_text_color\":\"#E0E0E0\",\"label_text_font\":\"Helvetica\",\"label_text_font_size\":\"1.025em\",\"label_standoff\":8,\"glyph_width\":15,\"spacing\":8,\"items\":[{\"type\":\"object\",\"name\":\"LegendItem\",\"id\":\"p1048\",\"attributes\":{\"label\":{\"type\":\"value\",\"value\":\"Artificial Intelligence Policy\"},\"renderers\":[{\"id\":\"p1044\"}],\"index\":0}},{\"type\":\"object\",\"name\":\"LegendItem\",\"id\":\"p1049\",\"attributes\":{\"label\":{\"type\":\"value\",\"value\":\"Others\"},\"renderers\":[{\"id\":\"p1044\"}],\"index\":7}}]}}],\"background_fill_color\":\"#14191B\",\"border_fill_color\":\"#15191C\"}}}},{\"type\":\"object\",\"name\":\"TabPanel\",\"id\":\"p1118\",\"attributes\":{\"title\":\"Failures\",\"child\":{\"type\":\"object\",\"name\":\"Figure\",\"id\":\"p1055\",\"attributes\":{\"sizing_mode\":\"stretch_width\",\"x_range\":{\"type\":\"object\",\"name\":\"Range1d\",\"id\":\"p1064\",\"attributes\":{\"start\":-1.417082381248474,\"end\":8.546356582641602}},\"y_range\":{\"type\":\"object\",\"name\":\"Range1d\",\"id\":\"p1065\",\"attributes\":{\"start\":9.523557662963867,\"end\":17.542512893676758}},\"x_scale\":{\"type\":\"object\",\"name\":\"LinearScale\",\"id\":\"p1066\"},\"y_scale\":{\"type\":\"object\",\"name\":\"LinearScale\",\"id\":\"p1067\"},\"title\":{\"type\":\"object\",\"name\":\"Title\",\"id\":\"p1062\",\"attributes\":{\"text_color\":\"#E0E0E0\",\"text_font\":\"Helvetica\",\"text_font_size\":\"14pt\"}},\"outline_line_color\":\"#E0E0E0\",\"outline_line_alpha\":0.25,\"renderers\":[{\"type\":\"object\",\"name\":\"GlyphRenderer\",\"id\":\"p1094\",\"attributes\":{\"data_source\":{\"type\":\"object\",\"name\":\"ColumnDataSource\",\"id\":\"p1051\",\"attributes\":{\"selected\":{\"type\":\"object\",\"name\":\"Selection\",\"id\":\"p1052\",\"attributes\":{\"indices\":[],\"line_indices\":[]}},\"selection_policy\":{\"type\":\"object\",\"name\":\"UnionRenderers\",\"id\":\"p1053\"},\"data\":{\"type\":\"map\",\"entries\":[[\"x\",{\"type\":\"ndarray\",\"array\":{\"type\":\"bytes\",\"data\":\"bP08u4xvtj/8QGRAkL2Ovz882j+RDNg/2af4vnAuTT4WdjhAXS2gPw==\"},\"shape\":[10],\"dtype\":\"float32\",\"order\":\"little\"}],[\"y\",{\"type\":\"ndarray\",\"array\":{\"type\":\"bytes\",\"data\":\"CdVBQdQiR0EillVBSa9bQclpZkHBTkFBr4BKQTPXPUECaT9BL6xnQQ==\"},\"shape\":[10],\"dtype\":\"float32\",\"order\":\"little\"}],[\"topic\",[\"Artificial Intelligence Policy\",\"Artificial Intelligence Policy\",\"Artificial Intelligence Policy\",\"Artificial Intelligence Policy\",\"Artificial Intelligence Policy\",\"Artificial Intelligence Policy\",\"Artificial Intelligence Policy\",\"Artificial Intelligence Policy\",\"Artificial Intelligence Policy\",\"Artificial Intelligence Policy\"]],[\"correctness\",[true,true,true,true,true,true,true,true,true,true]],[\"questions\",[\"Where must AI-based patents be filed from in Pakistan?\",\"Why does the social sector usually miss out on early adoption of cutting-edge technologies like AI?\",\"What kind of governance mechanism will be implemented for AI studies?\",\"Who shall chair the Board of Directors of the fund?\",\"Which segment of society should be given special attention while developing content?\",\"What are some examples of how AI can benefit the Government Sector?\",\"What are the notable efforts made through public/private interventions in the field of Artificial Intelligence in Pakistan?\",\"How many AI-based publications were credited to Pakistan between 2016 and 2020?\",\"Why are Cloud-based solutions using AI not utilized effectively?\",\"How many trainers are planned to be trained to impart high-impact education to youth in the next three years?\"]],[\"agent_answer\",[\"AI\\\\u2011based patents cannot be filed through the Pakistani IPO office; they must be filed from abroad.\\\\u202f*(Research and Development)*\",\"The social sector often lags in adopting cutting\\\\u2011edge technologies such as AI because its large scale, fragmented coordination, and the inherent complexities of delivering services make early adoption difficult. *(Section 4.1.3 \\\\u2014 Catalyzing Social Development through AI by National Initiatives)*\",\"A governance mechanism that ensures **fairness, data\\\\u2011privacy protection, ethical\\\\u2011values control, and algorithmic accountability** will be put in place to support the reliability of AI studies. *(Section XIV \\\\u2014 Governance mechanism)*\",\"The Board of Directors shall be chaired by the Secretary (or Member) of the Ministry of Information Technology &amp; Telecom. *(Section VII \\\\u2014 Board of Directors)*\",\"The content should be crafted with special attention to **the \\\\u201csilver\\\\u201d segment of society\\\\u202f\\\\u2014\\\\u202fspecifically marginalized women and Persons with Disabilities (PWDs)**. *(Section 4.2 \\\\u2014 Awareness &amp; Readiness)*\",\"AI can enhance public\\\\u2011sector operations in several ways, for example:\\\\n\\\\n* **Automation and chat\\\\u2011bots** \\\\u2013 Deploying AI\\\\u2011driven automation and conversational agents can streamline routine interactions, reducing processing times and improving the quality of services delivered to citizens.  \\\\n* **Data\\\\u2011driven decision\\\\u2011making** \\\\u2013 AI\\\\u2011based analytics can support complex economic and policy decisions, enabling more accurate predictions that boost productivity across multiple sectors.  \\\\n* **Standardised data infrastructure** \\\\u2013 By directing public entities to standardise their data, AI can facilitate secure, efficient use of information for service provisioning and analytics.  \\\\n\\\\nThese examples illustrate how AI\\\\u2011based technologies can make government services more efficient, productive, and responsive to public needs *(Government Sector)*.\",\"Pakistan has already launched several public\\\\u2011 and private\\\\u2011sector initiatives to jump\\\\u2011start AI development, including:\\\\n\\\\n- **Presidential Initiative for Artificial Intelligence &amp; Computing (PIAIC)**\\\\n- **Center for Artificial Intelligence and Computing (CENTAIC)**\\\\n- **National Center of Artificial Intelligence (NCAI)**\\\\n- **Sino\\\\u2011Pak Center for Artificial Intelligence (SPCAI)**  \\\\n\\\\nThese programs are highlighted as key interventions that have performed well in their domains and are considered essential for achieving long\\\\u2011term AI\\\\u2011driven socio\\\\u2011economic goals *(Section \\\\u2013 Notable Efforts)*.\",\"Between\\\\u202f2016\\\\u202fand\\\\u202f2020, Pakistan was credited with **2,600 AI\\\\u2011based publications**.\\\\u202f*(Research and Development)*\",\"Cloud\\\\u2011based AI services are under\\\\u2011utilised mainly because the users \\\\u2013 especially private\\\\u2011sector firms and many public organisations \\\\u2013 lack sufficient awareness and knowledge about how to apply them. As a result, organisations often settle for basic digitisation or isolated process\\\\u2011automation efforts and do not exploit the broader capabilities of AI\\\\u2011driven SaaS platforms, so the services \\\\u201care never done justice in terms of their utilization\\\\u201d\\\\u202f(Section\\\\u202f4.1.3.4\\\\u202f\\\\u2014\\\\u202fNational\\\\u202fIoT\\\\u202fData\\\\u202fCluster).\",\"10,000 trainers are planned to be trained to impart high\\\\u2011impact education to youth over the next three years. *(Center of Excellence in AI \\\\u2014 Trainers)*\"]],[\"reference_answer\",[\"Pakistani IPO office is not designated/authorized to file IT/AI-based patents. Therefore, most AI-based patents must be filed from abroad.\",\"The social sector usually misses out on early adoption of cutting-edge technologies such as AI due to its magnitude, lack of coherence, and service complexities.\",\"A governance mechanism that will facilitate fairness, data privacy, ethical values control, and algorithmic accountability.\",\"The Board of Directors shall be chaired by Secretary/Member IT.\",\"the silver segment of society, the marginalized section of women and Persons with Disabilities (PWDs)\",\"Automation and chatbots can improve the efficiency and quality of services provided to the public, and AI can help make complex economic decisions to enhance productivity through accurate predictions.\",\"The notable efforts include: Presidential Initiative for Artificial Intelligence &amp; Computing (PIAIC), Center for Artificial Intelligence and Computing (CENTAIC), National Center of Artificial Intelligence (NCAI), and Sino-Pak Center for Artificial Intelligence (SPCAI).\",\"2600\",\"with limited knowledge, such services are never done justice in terms of their utilization\",\"10,000\"]],[\"id\",[137,56,102,48,79,132,21,136,142,83]],[\"content\",[\"AI-based patents must be filed from abroad. \\\\n\\\\u2022 Between 2016 and 2020, there were 2600 AI-based publications credited to Pakistan [10]. \\\\n4.  Investment \\\\n\\\\u2022 More than 40% of large organizations are planning to invest in AI \\\\ntechnology, according to a survey for 2020.  \\\\n\\\\u2022 In the US alone, AI startups received  over $20 billion in funds, while \\\\ncorporate investment in AI has touched the $94 billion mark [5]. \\\\n\\\\u2022 Pakistani Tech-based startups using AI -based technologies received $278 million in fundin...\",\"4.1.3 Catalyzing Social Development through AI by National Initiatives \\\\nFrom a global perspective of service/technology adoption, it is witnessed that the social sector usually \\\\nmisses out on the early adoption of cutting -edge technologies such as AI due to its magnitude, lack of \\\\ncoherence, and service complexities. On the contra ry, the sectorial approach is swift but in siloes, and \\\\ntherefore, desired performance targets are challenging. The Government of Pakistan is aware of data \\\\norchestra...\",\"XI. Formulate policies to develop and maintain highly resilient cutting-edge computing, storage, and \\\\nconnectivity infrastructure. \\\\nXII. Participate in international efforts to bring standardization in all aspects of AI, e.g. , data formats, \\\\nnetwork and systems architecture, data , application integration protocols, requirements on test \\\\ncases, and services. \\\\nXIII. Develop a data-sharing framework  and use AI algorithms consistent with social, cultural, and \\\\nreligious norms and international gu...\",\"policy or as directed by the Federal Government of Pakistan via the Ministry of IT &amp; Telecom from \\\\ntime to time. \\\\nIV. The Ministry of IT &amp; Telecom shall allocate a budget through PSDP funds as Initial Working Capital \\\\nto support the initiative expeditiously in the first two (2) years. \\\\nV. Once the organization is formed and Funds are allocated and transferred into NAIF from the \\\\nNational ICT R&amp;D Fund, all the ongoing and subsequent programs shall be organized through the \\\\nperpetual Fund. \\\\nVI. Th...\",\"8 \\\\n \\\\nII. Ministry of IT &amp; Telecom may engage the Ministry of Information and Broadcasting and allied \\\\ndepartment(s), the PTA and licensees, and other relevant National/Provincial institutions to ensure \\\\nmaximum outreach of the program through print, broadcast, social media, and the internet.  \\\\nIII. Ministry of IT &amp; Telecom, through the CoE-AI, shall orchestrate important messages/content such \\\\nas technical writeups, breach and implication scenarios, pre ventive and remedial measures, and \\\\nany ot...\",\"8. Government Sector: Public and government services can benefit from AI -based technologies and \\\\nbecome more efficient and productive. For example, automation and chatbots improve the efficiency \\\\nand quality of services provided to the public. Similarly, AI can help make complex economic decisions \\\\nto enhance the productivity of various sectors and industries through accurate predictions. \\\\n9. Defense Sector:  The defense sector of any country showcases the strength of the country\\\\u2019s \\\\nsovereignty...\",\"register notable efforts through public/private interventions as follows: \\\\n\\\\u2022 Presidential Initiative for Artificial Intelligence &amp; Computing (PIAIC) \\\\n\\\\u2022 Center for Artificial Intelligence and Computing (CENTAIC) \\\\n\\\\u2022 National Center of Artificial Intelligence (NCAI)  \\\\n\\\\u2022 Sino-Pak Center for Artificial Intelligence (SPCAI) \\\\nThese timely initiatives have performed well in their domains and need continuity to achieve long -term \\\\ntargets. To achieve the AI-accelerated socio-economic development urgently...\",\"51%, respectively, between 2010 and 2020 [5].  \\\\n\\\\u2022 There are approximately 600,000 people employed in the IT sector with working skills in AI -\\\\nbased technologies. \\\\n\\\\u2022 25,000 students graduate each year from IT -based programs who are trained in AI and \\\\nassociated technologies as well [8].  \\\\n\\\\u2022 47 universities and colleges in Pakistan offer BS AI, while 9 universities offer MS AI.  \\\\n\\\\u2022 HEC offers 70 international  Ph.D. admission in IT, CS, Software Engineering, Data Sciences , \\\\nand AI [9]. \\\\n3.  \\\\nRe...\",\"private sectors, either difficult to access or not available appropriately (such as in hard copies). In \\\\nmany cases, it has been observed that data digitalization and basic process automation in a \\\\nconfined environment are considered sufficient due to a lack of awareness. Alternatively, Cloud -\\\\nbased solutions using AI for data/process orchestration, manag ement, and analytics offered as \\\\nSaaS provides greater access. However, with limited knowledge, such services are never done \\\\njustice in term...\",\"recognized certification annually for the next five years to ensure that it provides for at least 10% \\\\nof the global workforce for AI and allied technologies for claiming its equitable share. \\\\ne. A \\\\u201cTrain the Trainer\\\\u201d stream through special bootcamps shall also be organized for the sustainable \\\\nexecution of the program. \\\\nf. 10,000 trainers shall be trained to impart high-impact education to youth in the next three years. \\\\nII. Internships &amp; On job Training in AI and Allied Technologies\"]],[\"color\",[\"#0a980a\",\"#0a980a\",\"#0a980a\",\"#0a980a\",\"#0a980a\",\"#0a980a\",\"#0a980a\",\"#0a980a\",\"#0a980a\",\"#0a980a\"]]]}}},\"view\":{\"type\":\"object\",\"name\":\"CDSView\",\"id\":\"p1095\",\"attributes\":{\"filter\":{\"type\":\"object\",\"name\":\"AllIndices\",\"id\":\"p1096\"}}},\"glyph\":{\"type\":\"object\",\"name\":\"Scatter\",\"id\":\"p1091\",\"attributes\":{\"x\":{\"type\":\"field\",\"field\":\"x\"},\"y\":{\"type\":\"field\",\"field\":\"y\"},\"size\":{\"type\":\"value\",\"value\":6},\"line_color\":{\"type\":\"field\",\"field\":\"color\"},\"line_width\":{\"type\":\"value\",\"value\":2},\"fill_color\":{\"type\":\"field\",\"field\":\"color\"},\"fill_alpha\":{\"type\":\"value\",\"value\":0.7},\"hatch_color\":{\"type\":\"field\",\"field\":\"color\"},\"hatch_alpha\":{\"type\":\"value\",\"value\":0.7}}},\"nonselection_glyph\":{\"type\":\"object\",\"name\":\"Scatter\",\"id\":\"p1092\",\"attributes\":{\"x\":{\"type\":\"field\",\"field\":\"x\"},\"y\":{\"type\":\"field\",\"field\":\"y\"},\"size\":{\"type\":\"value\",\"value\":6},\"line_color\":{\"type\":\"field\",\"field\":\"color\"},\"line_alpha\":{\"type\":\"value\",\"value\":0.1},\"line_width\":{\"type\":\"value\",\"value\":2},\"fill_color\":{\"type\":\"field\",\"field\":\"color\"},\"fill_alpha\":{\"type\":\"value\",\"value\":0.1},\"hatch_color\":{\"type\":\"field\",\"field\":\"color\"},\"hatch_alpha\":{\"type\":\"value\",\"value\":0.1}}},\"muted_glyph\":{\"type\":\"object\",\"name\":\"Scatter\",\"id\":\"p1093\",\"attributes\":{\"x\":{\"type\":\"field\",\"field\":\"x\"},\"y\":{\"type\":\"field\",\"field\":\"y\"},\"size\":{\"type\":\"value\",\"value\":6},\"line_color\":{\"type\":\"field\",\"field\":\"color\"},\"line_alpha\":{\"type\":\"value\",\"value\":0.2},\"line_width\":{\"type\":\"value\",\"value\":2},\"fill_color\":{\"type\":\"field\",\"field\":\"color\"},\"fill_alpha\":{\"type\":\"value\",\"value\":0.2},\"hatch_color\":{\"type\":\"field\",\"field\":\"color\"},\"hatch_alpha\":{\"type\":\"value\",\"value\":0.2}}}}},{\"type\":\"object\",\"name\":\"GlyphRenderer\",\"id\":\"p1108\",\"attributes\":{\"data_source\":{\"type\":\"object\",\"name\":\"ColumnDataSource\",\"id\":\"p1099\",\"attributes\":{\"selected\":{\"type\":\"object\",\"name\":\"Selection\",\"id\":\"p1100\",\"attributes\":{\"indices\":[],\"line_indices\":[]}},\"selection_policy\":{\"type\":\"object\",\"name\":\"UnionRenderers\",\"id\":\"p1101\"},\"data\":{\"type\":\"map\",\"entries\":[[\"x\",{\"type\":\"ndarray\",\"array\":{\"type\":\"bytes\",\"data\":\"1RZ/vhyZkL2HulRAkpSGQL3JiECP0XZAnDR4QKjNeEADMmZAhJpsQFqTNr+a9mO/SBIxPmcVPr/7dPA/9n42P+4quT8lVgQ9D3UCP5cRI0CcUJW+2af4vrZCg76lgPc/xjE9QL+EGkD93UdAHpZAQD6DLb+CVApAWGiGPwP6Xj+BQsU/LLiDP0NNWz76+uw/0ARHPrpjqL4lgQdAvyZnQK7ydkAECA1A9m0eQGVzKUB8/RJAn1ULQEVwVb7bL1C/kL2Ov8Bb/75mB4a/U1f0vhZOXL/530s/T1jIP+xtGkCMb7Y/eLpwQBjNY0DRIxZAmi0rQHeQFUAxawxAnQBRQISFVkDKyiZAw+AUQB0JJUBCtFRAe85mQHYUaUCe+FFAjVkzQJaia0C+CYdAZbmGQHmpgEDkYn9AEEI6QD882j/wjEFAVkbkPp/P0z9dLaA/r1uXPz1NMj8rEnU+FE/tPpBpMkCbAgk/Ujv+PjqZkb2H/QJAbzvfP0wYvz4FkyRA/F+NQERunUDdF49AcTyXQJisgUD/oWJA/EBkQLHCmkBZlnhAh6GOQHWLHUCqNFtA+6ODQDSXkb5dChU/77oiQGuJgj9IbwpAgRb2P9Is0T+ySHm/rFohv3Fln77vK5u+koohv/0mZr5rXE0/zX0rPz/nej9dWFM+MlheP+e3iz89Vlw/BINiPxjmwD8O0qw/kQzYPyALkj9n/6U/PrIyP3AuTT5s/Ty79PhCQBCihD+/Z9U/Wa72PxZ2OEBTKClA6J9FQJa9zD9ayRVAhvf0P3dHgD9kLYxAk4udQOr/Jj5YDz+9\"},\"shape\":[153],\"dtype\":\"float32\",\"order\":\"little\"}],[\"y\",{\"type\":\"ndarray\",\"array\":{\"type\":\"bytes\",\"data\":\"vgY7QU8uO0G9qXxBgkV1QW2tbUFF8XJBDWJ9QdyygEE/PXZBC29sQfKSQ0Fzx0BB3ao7QcxOOUHNe1NBe51LQWgNWkF810dBETBMQe1IVEGx0kVBr4BKQU3RT0GF12BBmr5lQXkTZEFFRmtBXFpiQbzwRUFPg25BVP1bQfo3akH+9GpBpqhnQU8VUUEq+nhBKy9fQRBmWEEcD2pBfrhgQXNnZkH/S2RBwNZvQUHBakFdCWFBuhB2Qc//VUHe319BSa9bQX7DZkFcDmRBxY5jQXJAXUEMr31BZWp3QbJlXkHUIkdB4ZpDQRvySUEyojZB8Gw/QVHmP0GULURB9SdPQSz6SEHiv1FBZh50QbWcMUEZCTdB/PE1QV02P0FfFDRBhHcvQX92OkHpcUdBl2ZPQYcWVkGhRFBBGIxeQclpZkFW+1ZBUKpWQQz/eEEvrGdBjuNyQaUfdEFRVmRBKJNpQUvZdEF2gVlByVNzQczQWUG6kX9B7qWBQeR8YEGYf3pBRfxeQU0zV0Ea/FZBDDZQQUhdWEG/s01BIpZVQf9iTkFPbltBh5poQVcFgUEtcGFBlc1qQcZTUEFC8UlBrNJJQflZV0EPpzdBxMItQRZENUHVPE9BHsx0QXg8bEHnfHpBu/9zQe3PeUHwqnpBZXqAQU7/YkEYNEdBP7w+QVjMMkHixzhBkEw2Qf0NPkF+S0tBwU5BQRVWOkGPZkhB/ag+QTPXPUEJ1UFBNetpQQS6T0EjSllB3x9UQQJpP0HyDEhBdsFMQRMXNEES7j9BA6ZEQS4rREEWhV9Bm5ZcQQ8UMUEe6zNB\"},\"shape\":[153],\"dtype\":\"float32\",\"order\":\"little\"}]]}}},\"view\":{\"type\":\"object\",\"name\":\"CDSView\",\"id\":\"p1109\",\"attributes\":{\"filter\":{\"type\":\"object\",\"name\":\"AllIndices\",\"id\":\"p1110\"}}},\"glyph\":{\"type\":\"object\",\"name\":\"Scatter\",\"id\":\"p1105\",\"attributes\":{\"x\":{\"type\":\"field\",\"field\":\"x\"},\"y\":{\"type\":\"field\",\"field\":\"y\"},\"size\":{\"type\":\"value\",\"value\":6},\"line_color\":{\"type\":\"value\",\"value\":\"grey\"},\"line_alpha\":{\"type\":\"value\",\"value\":0.2},\"fill_color\":{\"type\":\"value\",\"value\":\"grey\"},\"fill_alpha\":{\"type\":\"value\",\"value\":0.2},\"hatch_color\":{\"type\":\"value\",\"value\":\"grey\"},\"hatch_alpha\":{\"type\":\"value\",\"value\":0.2}}},\"nonselection_glyph\":{\"type\":\"object\",\"name\":\"Scatter\",\"id\":\"p1106\",\"attributes\":{\"x\":{\"type\":\"field\",\"field\":\"x\"},\"y\":{\"type\":\"field\",\"field\":\"y\"},\"size\":{\"type\":\"value\",\"value\":6},\"line_color\":{\"type\":\"value\",\"value\":\"grey\"},\"line_alpha\":{\"type\":\"value\",\"value\":0.1},\"fill_color\":{\"type\":\"value\",\"value\":\"grey\"},\"fill_alpha\":{\"type\":\"value\",\"value\":0.1},\"hatch_color\":{\"type\":\"value\",\"value\":\"grey\"},\"hatch_alpha\":{\"type\":\"value\",\"value\":0.1}}},\"muted_glyph\":{\"type\":\"object\",\"name\":\"Scatter\",\"id\":\"p1107\",\"attributes\":{\"x\":{\"type\":\"field\",\"field\":\"x\"},\"y\":{\"type\":\"field\",\"field\":\"y\"},\"size\":{\"type\":\"value\",\"value\":6},\"line_color\":{\"type\":\"value\",\"value\":\"grey\"},\"line_alpha\":{\"type\":\"value\",\"value\":0.2},\"fill_color\":{\"type\":\"value\",\"value\":\"grey\"},\"fill_alpha\":{\"type\":\"value\",\"value\":0.2},\"hatch_color\":{\"type\":\"value\",\"value\":\"grey\"},\"hatch_alpha\":{\"type\":\"value\",\"value\":0.2}}}}}],\"toolbar\":{\"type\":\"object\",\"name\":\"Toolbar\",\"id\":\"p1063\",\"attributes\":{\"logo\":\"grey\",\"tools\":[{\"type\":\"object\",\"name\":\"PanTool\",\"id\":\"p1078\"},{\"type\":\"object\",\"name\":\"WheelZoomTool\",\"id\":\"p1079\",\"attributes\":{\"renderers\":\"auto\"}},{\"type\":\"object\",\"name\":\"BoxZoomTool\",\"id\":\"p1080\",\"attributes\":{\"overlay\":{\"type\":\"object\",\"name\":\"BoxAnnotation\",\"id\":\"p1081\",\"attributes\":{\"syncable\":false,\"level\":\"overlay\",\"visible\":false,\"left\":{\"type\":\"number\",\"value\":\"nan\"},\"right\":{\"type\":\"number\",\"value\":\"nan\"},\"top\":{\"type\":\"number\",\"value\":\"nan\"},\"bottom\":{\"type\":\"number\",\"value\":\"nan\"},\"left_units\":\"canvas\",\"right_units\":\"canvas\",\"top_units\":\"canvas\",\"bottom_units\":\"canvas\",\"line_color\":\"black\",\"line_alpha\":1.0,\"line_width\":2,\"line_dash\":[4,4],\"fill_color\":\"lightgrey\",\"fill_alpha\":0.5}}}},{\"type\":\"object\",\"name\":\"ResetTool\",\"id\":\"p1086\"},{\"type\":\"object\",\"name\":\"SaveTool\",\"id\":\"p1087\"},{\"type\":\"object\",\"name\":\"HoverTool\",\"id\":\"p1054\",\"attributes\":{\"renderers\":[{\"id\":\"p1094\"}],\"tooltips\":\"\\\\n    &lt;div style=\\\\\"width:400px;\\\\\"&gt;\\\\n    &lt;b&gt;Document id:&lt;/b&gt; @id &lt;br&gt;\\\\n    &lt;b&gt;Topic:&lt;/b&gt; @topic &lt;br&gt;\\\\n    &lt;b&gt;Question:&lt;/b&gt; @questions &lt;br&gt;\\\\n    &lt;b&gt;agent Answer:&lt;/b&gt; @agent_answer &lt;br&gt;\\\\n    &lt;b&gt;Reference Answer:&lt;/b&gt; @reference_answer &lt;br&gt;\\\\n    &lt;b&gt;Correctness:&lt;/b&gt; @correctness &lt;br&gt;\\\\n    &lt;b&gt;Content:&lt;/b&gt; @content\\\\n    &lt;/div&gt;\\\\n    \"}}]}},\"left\":[{\"type\":\"object\",\"name\":\"LinearAxis\",\"id\":\"p1073\",\"attributes\":{\"ticker\":{\"type\":\"object\",\"name\":\"BasicTicker\",\"id\":\"p1074\",\"attributes\":{\"mantissas\":[1,2,5]}},\"formatter\":{\"type\":\"object\",\"name\":\"BasicTickFormatter\",\"id\":\"p1075\"},\"axis_label_standoff\":10,\"axis_label_text_color\":\"#E0E0E0\",\"axis_label_text_font\":\"Helvetica\",\"axis_label_text_font_size\":\"1.25em\",\"axis_label_text_font_style\":\"normal\",\"major_label_policy\":{\"type\":\"object\",\"name\":\"AllLabels\",\"id\":\"p1076\"},\"major_label_text_color\":\"#E0E0E0\",\"major_label_text_font\":\"Helvetica\",\"major_label_text_font_size\":\"1.025em\",\"axis_line_color\":\"#E0E0E0\",\"axis_line_alpha\":0,\"major_tick_line_color\":\"#E0E0E0\",\"major_tick_line_alpha\":0,\"minor_tick_line_color\":\"#E0E0E0\",\"minor_tick_line_alpha\":0}}],\"below\":[{\"type\":\"object\",\"name\":\"LinearAxis\",\"id\":\"p1068\",\"attributes\":{\"ticker\":{\"type\":\"object\",\"name\":\"BasicTicker\",\"id\":\"p1069\",\"attributes\":{\"mantissas\":[1,2,5]}},\"formatter\":{\"type\":\"object\",\"name\":\"BasicTickFormatter\",\"id\":\"p1070\"},\"axis_label_standoff\":10,\"axis_label_text_color\":\"#E0E0E0\",\"axis_label_text_font\":\"Helvetica\",\"axis_label_text_font_size\":\"1.25em\",\"axis_label_text_font_style\":\"normal\",\"major_label_policy\":{\"type\":\"object\",\"name\":\"AllLabels\",\"id\":\"p1071\"},\"major_label_text_color\":\"#E0E0E0\",\"major_label_text_font\":\"Helvetica\",\"major_label_text_font_size\":\"1.025em\",\"axis_line_color\":\"#E0E0E0\",\"axis_line_alpha\":0,\"major_tick_line_color\":\"#E0E0E0\",\"major_tick_line_alpha\":0,\"minor_tick_line_color\":\"#E0E0E0\",\"minor_tick_line_alpha\":0}}],\"center\":[{\"type\":\"object\",\"name\":\"Grid\",\"id\":\"p1072\",\"attributes\":{\"axis\":{\"id\":\"p1068\"},\"grid_line_color\":\"white\",\"grid_line_alpha\":0.25}},{\"type\":\"object\",\"name\":\"Grid\",\"id\":\"p1077\",\"attributes\":{\"dimension\":1,\"axis\":{\"id\":\"p1073\"},\"grid_line_color\":\"white\",\"grid_line_alpha\":0.25}},{\"type\":\"object\",\"name\":\"Legend\",\"id\":\"p1097\",\"attributes\":{\"title\":\"Question Correctness\",\"title_text_color\":\"#B1B1B1\",\"title_text_font_style\":\"bold\",\"border_line_alpha\":0,\"background_fill_color\":\"#111516\",\"background_fill_alpha\":0.5,\"label_text_color\":\"#E0E0E0\",\"label_text_font\":\"Helvetica\",\"label_text_font_size\":\"1.025em\",\"label_standoff\":8,\"glyph_width\":15,\"spacing\":8,\"items\":[{\"type\":\"object\",\"name\":\"LegendItem\",\"id\":\"p1098\",\"attributes\":{\"label\":{\"type\":\"value\",\"value\":\"True\"},\"renderers\":[{\"id\":\"p1094\"}],\"index\":0}}]}},{\"type\":\"object\",\"name\":\"LabelSet\",\"id\":\"p1114\",\"attributes\":{\"level\":\"glyph\",\"source\":{\"type\":\"object\",\"name\":\"ColumnDataSource\",\"id\":\"p1111\",\"attributes\":{\"selected\":{\"type\":\"object\",\"name\":\"Selection\",\"id\":\"p1112\",\"attributes\":{\"indices\":[],\"line_indices\":[]}},\"selection_policy\":{\"type\":\"object\",\"name\":\"UnionRenderers\",\"id\":\"p1113\"},\"data\":{\"type\":\"map\",\"entries\":[[\"x\",{\"type\":\"ndarray\",\"array\":{\"type\":\"bytes\",\"data\":\"pRYBQF/fIL8=\"},\"shape\":[2],\"dtype\":\"float32\",\"order\":\"little\"}],[\"y\",{\"type\":\"ndarray\",\"array\":{\"type\":\"bytes\",\"data\":\"bN5VQaw6akE=\"},\"shape\":[2],\"dtype\":\"float32\",\"order\":\"little\"}],[\"topic\",[\"Artificial Intelligence Policy\",\"Artificial Intelligence Policy\"]]]}}},\"x\":{\"type\":\"field\",\"field\":\"x\"},\"y\":{\"type\":\"field\",\"field\":\"y\"},\"text\":{\"type\":\"field\",\"field\":\"topic\"},\"text_color\":{\"type\":\"value\",\"value\":\"#B1B1B1\"},\"text_font_size\":{\"type\":\"value\",\"value\":\"12pt\"},\"text_font_style\":{\"type\":\"value\",\"value\":\"bold\"},\"text_align\":{\"type\":\"value\",\"value\":\"center\"}}}],\"background_fill_color\":\"#14191B\",\"border_fill_color\":\"#15191C\"}}}}],\"tabs_location\":\"below\"}}]}}';\n",
       "        const render_items = [{\"docid\":\"408859a2-0e55-4369-ace6-f273912495ce\",\"roots\":{\"p1119\":\"dbc63771-8d7f-416b-b889-dc2ddd341079\"},\"root_ids\":[\"p1119\"]}];\n",
       "        root.Bokeh.embed.embed_items(docs_json, render_items);\n",
       "        }\n",
       "        if (root.Bokeh !== undefined) {\n",
       "          embed_document(root);\n",
       "        } else {\n",
       "          let attempts = 0;\n",
       "          const timer = setInterval(function(root) {\n",
       "            if (root.Bokeh !== undefined) {\n",
       "              clearInterval(timer);\n",
       "              embed_document(root);\n",
       "            } else {\n",
       "              attempts++;\n",
       "              if (attempts > 100) {\n",
       "                clearInterval(timer);\n",
       "                console.log(\"Bokeh: ERROR: Unable to run BokehJS code because BokehJS library is missing\");\n",
       "              }\n",
       "            }\n",
       "          }, 10, root)\n",
       "        }\n",
       "      })(window);\n",
       "    });\n",
       "  };\n",
       "  if (document.readyState != \"loading\") fn();\n",
       "  else document.addEventListener(\"DOMContentLoaded\", fn);\n",
       "})();\n",
       "    </script>\n",
       "\n",
       "                <div id=\"dbc63771-8d7f-416b-b889-dc2ddd341079\" data-root-id=\"p1119\" style=\"display: contents;\"></div>\n",
       "            </div>\n",
       "        </div>\n",
       "\n",
       "        <div class=\"section-container\">\n",
       "            <div class=\"section-card\">\n",
       "\n",
       "                <div class=\"section-title\">SELECTED METRICS</div>\n",
       "\n",
       "                \n",
       "\n",
       "            </div>\n",
       "        </div>\n",
       "\n",
       "        \n",
       "    </div>\n",
       "</div>\n",
       "\n",
       "\n",
       "\n",
       "<script type=\"text/javascript\">\n",
       "    function opentab(evt, name) {\n",
       "    // Declare all variables\n",
       "    let i, tabcontent, tablinks;\n",
       "\n",
       "    // Get all elements with class=\"tabcontent\" and hide them\n",
       "    tabcontent = document.getElementsByClassName(\"tabcontent\");\n",
       "    for (i = 0; i < tabcontent.length; i++) {\n",
       "        tabcontent[i].style.display = \"none\";\n",
       "    }\n",
       "\n",
       "    // Get all elements with class=\"tablinks\" and remove the class \"active\"\n",
       "    tablinks = document.getElementsByClassName(\"tablinks\");\n",
       "    for (i = 0; i < tablinks.length; i++) {\n",
       "        tablinks[i].className = tablinks[i].className.replace(\" active\", \"\");\n",
       "    }\n",
       "\n",
       "    // Show the current tab, and add an \"active\" class to the button that opened the tab\n",
       "    document.getElementById(name).style.display = \"block\";\n",
       "    evt.currentTarget.className += \" active\";\n",
       "}\n",
       "</script>\n"
      ],
      "text/plain": [
       "<giskard.rag.report.RAGReport at 0x17f475ca150>"
      ]
     },
     "metadata": {},
     "output_type": "display_data"
    }
   ],
   "source": [
    "display(report)"
   ]
  },
  {
   "cell_type": "markdown",
   "metadata": {},
   "source": [
    "We can display the correctness results organized by question type."
   ]
  },
  {
   "cell_type": "code",
   "execution_count": 20,
   "metadata": {},
   "outputs": [
    {
     "data": {
      "application/vnd.microsoft.datawrangler.viewer.v0+json": {
       "columns": [
        {
         "name": "question_type",
         "rawType": "object",
         "type": "string"
        },
        {
         "name": "correctness",
         "rawType": "float64",
         "type": "float"
        }
       ],
       "ref": "2cd3ba2d-ea31-401b-9f95-571691ae2845",
       "rows": [
        [
         "simple",
         "1.0"
        ]
       ],
       "shape": {
        "columns": 1,
        "rows": 1
       }
      },
      "text/html": [
       "<div>\n",
       "<style scoped>\n",
       "    .dataframe tbody tr th:only-of-type {\n",
       "        vertical-align: middle;\n",
       "    }\n",
       "\n",
       "    .dataframe tbody tr th {\n",
       "        vertical-align: top;\n",
       "    }\n",
       "\n",
       "    .dataframe thead th {\n",
       "        text-align: right;\n",
       "    }\n",
       "</style>\n",
       "<table border=\"1\" class=\"dataframe\">\n",
       "  <thead>\n",
       "    <tr style=\"text-align: right;\">\n",
       "      <th></th>\n",
       "      <th>correctness</th>\n",
       "    </tr>\n",
       "    <tr>\n",
       "      <th>question_type</th>\n",
       "      <th></th>\n",
       "    </tr>\n",
       "  </thead>\n",
       "  <tbody>\n",
       "    <tr>\n",
       "      <th>simple</th>\n",
       "      <td>1.0</td>\n",
       "    </tr>\n",
       "  </tbody>\n",
       "</table>\n",
       "</div>"
      ],
      "text/plain": [
       "               correctness\n",
       "question_type             \n",
       "simple                 1.0"
      ]
     },
     "execution_count": 20,
     "metadata": {},
     "output_type": "execute_result"
    }
   ],
   "source": [
    "report.correctness_by_question_type()"
   ]
  },
  {
   "cell_type": "markdown",
   "metadata": {},
   "source": [
    "We can also display the specific failures."
   ]
  },
  {
   "cell_type": "code",
   "execution_count": 21,
   "metadata": {},
   "outputs": [
    {
     "data": {
      "application/vnd.microsoft.datawrangler.viewer.v0+json": {
       "columns": [
        {
         "name": "id",
         "rawType": "object",
         "type": "string"
        },
        {
         "name": "question",
         "rawType": "object",
         "type": "string"
        },
        {
         "name": "reference_answer",
         "rawType": "object",
         "type": "string"
        },
        {
         "name": "reference_context",
         "rawType": "object",
         "type": "string"
        },
        {
         "name": "conversation_history",
         "rawType": "object",
         "type": "string"
        },
        {
         "name": "metadata",
         "rawType": "object",
         "type": "string"
        },
        {
         "name": "agent_answer",
         "rawType": "object",
         "type": "string"
        },
        {
         "name": "correctness",
         "rawType": "bool",
         "type": "boolean"
        }
       ],
       "ref": "2d8b71a2-7cff-48b9-b362-be1a963d542e",
       "rows": [],
       "shape": {
        "columns": 7,
        "rows": 0
       }
      },
      "text/html": [
       "<div>\n",
       "<style scoped>\n",
       "    .dataframe tbody tr th:only-of-type {\n",
       "        vertical-align: middle;\n",
       "    }\n",
       "\n",
       "    .dataframe tbody tr th {\n",
       "        vertical-align: top;\n",
       "    }\n",
       "\n",
       "    .dataframe thead th {\n",
       "        text-align: right;\n",
       "    }\n",
       "</style>\n",
       "<table border=\"1\" class=\"dataframe\">\n",
       "  <thead>\n",
       "    <tr style=\"text-align: right;\">\n",
       "      <th></th>\n",
       "      <th>question</th>\n",
       "      <th>reference_answer</th>\n",
       "      <th>reference_context</th>\n",
       "      <th>conversation_history</th>\n",
       "      <th>metadata</th>\n",
       "      <th>agent_answer</th>\n",
       "      <th>correctness</th>\n",
       "    </tr>\n",
       "    <tr>\n",
       "      <th>id</th>\n",
       "      <th></th>\n",
       "      <th></th>\n",
       "      <th></th>\n",
       "      <th></th>\n",
       "      <th></th>\n",
       "      <th></th>\n",
       "      <th></th>\n",
       "    </tr>\n",
       "  </thead>\n",
       "  <tbody>\n",
       "  </tbody>\n",
       "</table>\n",
       "</div>"
      ],
      "text/plain": [
       "Empty DataFrame\n",
       "Columns: [question, reference_answer, reference_context, conversation_history, metadata, agent_answer, correctness]\n",
       "Index: []"
      ]
     },
     "execution_count": 21,
     "metadata": {},
     "output_type": "execute_result"
    }
   ],
   "source": [
    "report.get_failures()"
   ]
  },
  {
   "cell_type": "code",
   "execution_count": 22,
   "metadata": {},
   "outputs": [],
   "source": [
    "report.to_html(\"report.html\")"
   ]
  }
 ],
 "metadata": {
  "kernelspec": {
   "display_name": "rag",
   "language": "python",
   "name": "python3"
  },
  "language_info": {
   "codemirror_mode": {
    "name": "ipython",
    "version": 3
   },
   "file_extension": ".py",
   "mimetype": "text/x-python",
   "name": "python",
   "nbconvert_exporter": "python",
   "pygments_lexer": "ipython3",
   "version": "3.11.0"
  }
 },
 "nbformat": 4,
 "nbformat_minor": 4
}
